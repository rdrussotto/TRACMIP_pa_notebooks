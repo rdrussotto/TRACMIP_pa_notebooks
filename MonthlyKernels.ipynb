{
 "cells": [
  {
   "cell_type": "code",
   "execution_count": 1,
   "metadata": {},
   "outputs": [],
   "source": [
    "# IPython notebook to calculate LW TOA radiative responses using radiative kernels\n",
    "# for individual months in Aqua4xCO2 case.\n",
    "#\n",
    "# These will have Gregory regressions run on them in \"GregoryIndividualFeedbacks.ipynb\"\n",
    "# (or a subsequent version of that notebook)\n",
    "#\n",
    "# Rick Russotto\n",
    "# Started 2019-07-25"
   ]
  },
  {
   "cell_type": "code",
   "execution_count": 2,
   "metadata": {},
   "outputs": [
    {
     "name": "stderr",
     "output_type": "stream",
     "text": [
      "/usr/local/python/anaconda3/envs/pangeo3.7/lib/python3.6/site-packages/dask/config.py:168: YAMLLoadWarning: calling yaml.load() without Loader=... is deprecated, as the default Loader is unsafe. Please read https://msg.pyyaml.org/load for full details.\n",
      "  data = yaml.load(f.read()) or {}\n",
      "/usr/local/python/anaconda3/envs/pangeo3.7/lib/python3.6/site-packages/distributed/config.py:20: YAMLLoadWarning: calling yaml.load() without Loader=... is deprecated, as the default Loader is unsafe. Please read https://msg.pyyaml.org/load for full details.\n",
      "  defaults = yaml.load(f)\n"
     ]
    }
   ],
   "source": [
    "import xarray as xr\n",
    "import matplotlib.pyplot as plt\n",
    "import numpy as np\n",
    "import glob"
   ]
  },
  {
   "cell_type": "code",
   "execution_count": 3,
   "metadata": {},
   "outputs": [],
   "source": [
    "#Climatological data for baseline for kernels\n",
    "#Actually need to load non-regridded versions (from MakeNetCDF_noregrid.py) for hus and ta.\n",
    "ds_clim_2D = xr.open_dataset('../nc_revised_20181130/master.nc').sel(exp='AquaControl') #For surface temperature\n",
    "#ds_clim_3D = xr.open_dataset('../nc_revised_20181130/master_plev.nc').sel(exp='AquaControl') #For specific humidity\n",
    "ds_clim_for_plevs = xr.open_dataset('../nc_ta/master_ta.nc').sel(exp='AquaControl') #For atmospheric temperature\n",
    "#Actually above is not used--instead original grid climatological temperature data in each model. \n",
    "#But need the above to calculate pressure level widths. "
   ]
  },
  {
   "cell_type": "code",
   "execution_count": 4,
   "metadata": {},
   "outputs": [],
   "source": [
    "#Names of models in CMORized climate model output files\n",
    "model_filenames = {'AM2': 'AM21', \n",
    "                   'CAM3': 'CAM3', \n",
    "                   'CAM4': 'CAM4',\n",
    "                   'CNRM-AM6-DIA-v2': 'CNRM-AM5', \n",
    "                   'ECHAM-6.1': 'ECHAM61', \n",
    "                   'ECHAM-6.3': 'ECHAM63', \n",
    "                   'GISS-ModelE2': 'GISS-ModelE2',\n",
    "                   'IPSL-CM5A': 'LMDZ5A', \n",
    "                   'MIROC5': 'MIROC5', \n",
    "                   'MPAS': 'MPAS', \n",
    "                   'MetUM-GA6-CTL': 'MetUM-CTL', \n",
    "                   'MetUM-GA6-ENT': 'MetUM-ENT', \n",
    "                   'NorESM2': 'CAM5Nor'}"
   ]
  },
  {
   "cell_type": "code",
   "execution_count": 53,
   "metadata": {},
   "outputs": [],
   "source": [
    "#Models for which I was able to run radiative kernels: everything except Caltech and GISS\n",
    "#(maybe could do GISS? but doesn't seem worth it)\n",
    "\n",
    "models_12 = ['AM2', 'CAM3', 'CAM4', 'CNRM-AM6-DIA-v2', 'ECHAM-6.1',\n",
    "             'ECHAM-6.3', 'IPSL-CM5A', 'MIROC5', 'MPAS', 'MetUM-GA6-CTL',\n",
    "             'MetUM-GA6-ENT', 'NorESM2']"
   ]
  },
  {
   "cell_type": "code",
   "execution_count": 6,
   "metadata": {},
   "outputs": [
    {
     "name": "stdout",
     "output_type": "stream",
     "text": [
      "<xarray.DataArray 'plev' (plev: 17)>\n",
      "array([  1000,   2000,   3000,   5000,   7000,  10000,  15000,  20000,  25000,\n",
      "        30000,  40000,  50000,  60000,  70000,  85000,  92500, 100000])\n",
      "Coordinates:\n",
      "    exp      <U11 'AquaControl'\n",
      "  * plev     (plev) int64 1000 2000 3000 5000 7000 ... 70000 85000 92500 100000\n",
      "[ 1500.  2500.  4000.  6000.  8500. 12500. 17500. 22500. 27500. 35000.\n",
      " 45000. 55000. 65000. 77500. 88750. 96250.]\n",
      "[    0.  1500.  2500.  4000.  6000.  8500. 12500. 17500. 22500. 27500.\n",
      " 35000. 45000. 55000. 65000. 77500. 88750. 96250.]\n",
      "[     0.   1500.   2500.   4000.   6000.   8500.  12500.  17500.  22500.\n",
      "  27500.  35000.  45000.  55000.  65000.  77500.  88750. 101325.]\n",
      "[ 1500.  1000.  1500.  2000.  2500.  4000.  5000.  5000.  5000.  7500.\n",
      " 10000. 10000. 10000. 12500. 11250. 12575.]\n"
     ]
    }
   ],
   "source": [
    "#Calculate pressure level differences/layer thicknesses\n",
    "print(ds_clim_for_plevs.plev)\n",
    "#array([  1000,   2000,   3000,   5000,   7000,  10000,  15000,  20000,  25000,\n",
    "#        30000,  40000,  50000,  60000,  70000,  85000,  92500, 100000])\n",
    "\n",
    "#what are the midpoints? \n",
    "plev = ds_clim_for_plevs.plev.data\n",
    "plev_mp = (plev[1:]+plev[:-1])/2\n",
    "print(plev_mp)\n",
    "#[ 1500.  2500.  4000.  6000.  8500. 12500. 17500. 22500. 27500. 35000.\n",
    "# 45000. 55000. 65000. 77500. 88750. 96250.]\n",
    "\n",
    "#Add TOA boundary\n",
    "plev_mp0 = np.insert(plev_mp,0,0)\n",
    "print(plev_mp0)\n",
    "#[    0.  1500.  2500.  4000.  6000.  8500. 12500. 17500. 22500. 27500.\n",
    "# 35000. 45000. 55000. 65000. 77500. 88750. 96250.]\n",
    "\n",
    "#Drop last layer and extend 2nd-to-last all the way to ground (101325) \n",
    "plev_mp0[-1] = 101325\n",
    "print(plev_mp0)\n",
    "#[     0.   1500.   2500.   4000.   6000.   8500.  12500.  17500.  22500.\n",
    "#  27500.  35000.  45000.  55000.  65000.  77500.  88750. 101325.]\n",
    "\n",
    "#Take differences\n",
    "plev_widths = np.diff(plev_mp0)\n",
    "print(plev_widths)\n",
    "#[ 1500.  1000.  1500.  2000.  2500.  4000.  5000.  5000.  5000.  7500.\n",
    "# 10000. 10000. 10000. 12500. 11250. 12575.]\n",
    "\n",
    "#OK, there are now 16 thicknesses (in Pa) to multiply the kernel results\n",
    "#(in w/m^2/K/Pa, for temperature) by. Make sure to use Pa units and \n",
    "#ignore bottom layer."
   ]
  },
  {
   "cell_type": "code",
   "execution_count": null,
   "metadata": {},
   "outputs": [],
   "source": [
    "#Need to load these files and \"repackage\" into the variables that I need for the radiative kernels,\n",
    "#like I did for APRP. \n",
    "\n",
    "#Which variables are necessary? (see \"ApplyKernels.ipynb\")\n",
    "\n",
    "#Surface tempertaure kernel: \"ts\" (2D)\n",
    "#Atmospheric temperature kernel: \"ta\" (3D)\n",
    "#Water vapor kernel: \"hus\" (3D) and \"ta\" (3D)\n",
    "\n",
    "#In the climatology these are in 3 different NetCDF files.\n",
    "#In the monthly output, could put \"ta\" and \"hus\" in same XArray Dataset but \"ts\" should probably be separate.\n",
    "\n",
    "#Regridding: \n",
    "\n",
    "#Have already regridded the kernels to the climatology lats/lons in \"../aquakernels_Feldl/aquakernels/Kernel_Explore.ipynb\"\n",
    "\n",
    "#So also want to regrid the monthly output to the same lat/lons.\n",
    "\n",
    "#For APRP I first compiled the necessary output in a NetCDF file (separate for each model)\n",
    "#then regridded in a separate script. \n",
    "\n",
    "#Actually, surface temperature was included in those files (\"monthlyForGregAPRP_a4_rg_[model].nc\")\n",
    "#so don't need to load or regrid that one for the surface temperature kernel.\n",
    "\n",
    "#Just regrid the \"ta\" and \"hus\" data to the 1D lat/lon grid. \n",
    "#Use same methodology I used to regrid the kernels--how did I do this?\n",
    "\n",
    "#Or... could go back and regrid the kernels to the same grid as each of the models. \n",
    "#That would save space.\n",
    "#Then after vertically integrating, regrid the results to the climatology grid.\n",
    "\n",
    "\n",
    "#Actually, never even downloaded the 3D temperature and humidity output. Need to go get this from ESGF...\n",
    "\n",
    "#Set up wget script to download those. It's going to take hours... but can write code in the meantime. "
   ]
  },
  {
   "cell_type": "code",
   "execution_count": null,
   "metadata": {},
   "outputs": [],
   "source": [
    "# #Check for extra vertical levels. \n",
    "# #Yes, all have 17\n",
    "# #for model in models_12:\n",
    "# ds_temp=dict()\n",
    "# for model in models_12:\n",
    "#     print(model)\n",
    "#     var = 'ta'\n",
    "#     ds_temp[var] = xr.open_dataset(glob.glob('../nc_esgf/Amon/'+var+'_Amon_'+\n",
    "#             model_filenames[model]+'_aqua4xCO2TRACMIP_r1i1p1_*')[0])\n",
    "#     print(ds_temp[var].plev)"
   ]
  },
  {
   "cell_type": "code",
   "execution_count": null,
   "metadata": {},
   "outputs": [],
   "source": [
    "#Loop through the models, save the two variables to a new NetCDF file containing both\n",
    "#Wait--definitely want to regrid first, because this will create too much data.\n",
    "#Even this regridding will more than double the amount of data stored...\n",
    "#Maybe do it temporarily while running the kernels? But then will probably take forever \n",
    "#to run and have to redo regridding if something goes wrong.\n",
    "#But then what about \"sanity check\" plots that the regridding worked?\n",
    "#Will have the final sanity check about whether Gregory regression \"adds up\" \n",
    "#to the previously diagnosed radiative responses. Can also still do a couple of test plots.\n",
    "\n",
    "#After changing plans (regrid the kernels to individual model grids):\n",
    "#Just apply the kernels in one loop, then vertically integrate,\n",
    "#THEN regrid and save to a NetCDF file.\n",
    "#Can also do the surface temperature kernel in the same loop, so NetCDF file\n",
    "#will have the results from 3 kernels in it. \n",
    "\n",
    "#Actually, simpler to just do temperature and humidity separately, because\n",
    "#humidity is more complicated (standard anomaly, etc.)\n",
    "\n",
    "# vars_3d_kernels = ['ta', 'hus']\n",
    "\n",
    "# for model in models_12:\n",
    "#     print('Loading monthly mean temperature and humidity for kernels: ' + model)\n",
    "#     ds_temp = dict()\n",
    "#     for var in vars_3d_kernels:\n",
    "#         ds_temp[var] = xr.open_dataset(glob.glob('../nc_esgf/Amon/'+var+'_Amon_'+\n",
    "#             model_filenames[model]+'_aqua4xCO2TRACMIP_r1i1p1_*')[0])\n",
    "    \n",
    "    \n",
    "    \n",
    "    \n",
    "    \n",
    "        \n"
   ]
  },
  {
   "cell_type": "code",
   "execution_count": null,
   "metadata": {},
   "outputs": [],
   "source": [
    "#Apply the temperature kernels in a loop over models and months;\n",
    "#Vertically integrate, then regrid to the common climatology grid.\n",
    "\n",
    "dLW_ta_dict = dict()\n",
    "for model in models_12:\n",
    "#for model in ['NorESM2']:\n",
    "#for model in ['MetUM-GA6-CTL', 'MetUM-GA6-ENT']:\n",
    "    print('Kernel multiplication (atmospheric temperature) for model: ' + model)\n",
    "    ds_clim_ta = xr.open_dataset('../nc_plev_non_regridded/master_plev_og_'+model+'.nc').sel(exp='AquaControl')\n",
    "    kernel_ta = xr.open_dataset('../aquakernels_Feldl/aquakernels/regridded_model_grids/lw_t_rg_'+model+'.nc')\n",
    "    ds_mon_ta = xr.open_dataset(glob.glob('../nc_esgf/Amon/ta_Amon_'+\n",
    "                                          model_filenames[model]+'_aqua4xCO2TRACMIP_r1i1p1_*')[0])\n",
    "    ds_mon_ta = ds_mon_ta.reindex(plev=ds_mon_ta.plev[::-1]) #Flip pressure levels to match the order for the other two\n",
    "    numMonths = len(ds_mon_ta.time)\n",
    "    \n",
    "    #Preallocate something to store the output after multiplication and vertical integration for each month\n",
    "    #Maybe save NetCDF file here and regrid later? Well, that will create more data\n",
    "    dLW_ta_raw = np.zeros([numMonths, len(ds_mon_ta.lat), len(ds_mon_ta.lon)]) \n",
    "    \n",
    "    #Loop through the months\n",
    "    for i in np.arange(numMonths):\n",
    "    #for i in np.arange(3): #debug\n",
    "        if i % 20 == 0:\n",
    "            print('month '+str(i))\n",
    "        ds_clim_i = ds_clim_ta.isel(time=i%12)['ta']\n",
    "        ds_mon_ta_i = ds_mon_ta.isel(time=i)['ta']\n",
    "        #attempt to do subtraction with a regular NumPy array and a DataArray\n",
    "        ds_mon_ta_i_raw = ds_mon_ta_i.data\n",
    "        #print(ds_clim_i)\n",
    "        #print(ds_mon_ta_i)\n",
    "        #print(kernel_ta)\n",
    "        \n",
    "        #Interpolate from grid box boundaries to centers for the MetUM models\n",
    "        #Use a temporary raw array, then reassign coords at the end\n",
    "        if model in ['MetUM-GA6-CTL', 'MetUM-GA6-ENT']:\n",
    "            temp_raw = ds_clim_i.data\n",
    "            #print(np.shape(temp_raw)) #dimensions 17, 145, 192 (plev, lat, lon)\n",
    "            #print(np.shape(temp_raw[:,:,0])) #17,145 \n",
    "            edge = temp_raw[:,:,0]\n",
    "            temp_raw_1 = np.concatenate((temp_raw, edge[:,:,None]), axis=2) #duplicate edge lons\n",
    "            #print(np.shape(temp_raw_1)) #17,145,193\n",
    "            temp_raw_2 = (temp_raw_1[:,:,:-1]+temp_raw_1[:,:,1:])/2. #midpoint along longitudes\n",
    "            temp_raw_3 = (temp_raw_2[:,:-1,:]+temp_raw_2[:,1:,:])/2. #midpoint along latitudes\n",
    "            #print(np.shape(temp_raw_3)) #17,144,192\n",
    "            \n",
    "            #Reconstruct the XArray object. \n",
    "            #Dimensions of this variable don't actually matter from this point, except for dropping bottom plev\n",
    "            ds_clim_i = xr.DataArray(temp_raw_3, {'plev': ds_mon_ta_i.plev, 'lat': ds_mon_ta_i.lat, 'lon': ds_mon_ta_i.lon},  \n",
    "                                      dims=['plev', 'lat', 'lon'])\n",
    "        \n",
    "        dT_i = ds_mon_ta_i_raw - ds_clim_i\n",
    "        #Get error at this point: seems like the pressure levels are reversed, also -180 to 180 vs 0 to 360 latitudes.\n",
    "        #Should also check pressure levels order in the original ApplyKernels code.\n",
    "        \n",
    "        #print(dT_i)\n",
    "        #print(kernel_ta)\n",
    "        #print(ds_clim_i)\n",
    "        #print(ds_mon_ta_i)\n",
    "        #print(ds_mon_ta_i_raw)\n",
    "        #print(dT_i)\n",
    "        \n",
    "    \n",
    "        #Kernel also has different precision of lat and 360 vs 180 lon. Try this:\n",
    "        \n",
    "        #Drop bottom layer when multiplying kernel by temperature differece \n",
    "        #(since some models are missing data in the bottom layer sometimes)\n",
    "        kernel_i = kernel_ta.isel(plev=np.arange(len(plev_widths)), time=i%12)\n",
    "        #print(kernel_i.isel(plev=3))\n",
    "        kernel_raw = kernel_i['__xarray_dataarray_variable__'].data\n",
    "        #print(kernel_raw)\n",
    "        \n",
    "        #plt.figure()\n",
    "        \n",
    "        \n",
    "        #taTimesKernel_i = dT_i.isel(plev=np.arange(len(plev_widths)))*kernel_ta.isel(plev=np.arange(len(plev_widths)))\n",
    "        taTimesKernel_i = dT_i.isel(plev=np.arange(len(plev_widths)))*kernel_raw\n",
    "        \n",
    "        #print(taTimesKernel_i) #plev, lat, lon\n",
    "        \n",
    "        #8/1/19, 10:04 PM: works up to this point\n",
    "        \n",
    "        #Vertically integrate (divide by 10000 because kernel was in W/m^2/100 hPa)\n",
    "        dLW_ta_raw[i,:,:] = (taTimesKernel_i*plev_widths[:, None, None]/10000.0).sum(dim='plev')\n",
    "        \n",
    "    #Create XArray DataArray with the result\n",
    "    dLW_ta_dict[model] = xr.DataArray(dLW_ta_raw, {'time': ds_mon_ta.time, 'lat': ds_mon_ta.lat, 'lon': ds_mon_ta.lon},  \n",
    "                                      dims=['time', 'lat', 'lon'], name='dLW')\n",
    "    \n",
    "    #Regrid results to common climatology grid?\n",
    "    #Or leave in dict of XArray DataArrays for now (saving intermediate result), regrid in a loop \n",
    "    #and then save to NetCDF\n",
    "    \n",
    "    #Problem: the *climatological* temperatures, necessary to calculate how much temperatures have changed, are already on the \n",
    "    #1-degree grid. So the kernel being on the model grid is useless right now. \n",
    "    \n",
    "    #Options: \n",
    "    #1. Use the climatological temperatures from before regridding (where I obtained the data from in the script)\n",
    "    #   then regrid later.\n",
    "    #2. Go back and regrid the monthly temperature and humidity output to the 1-degree grid like I was originally going to\n",
    "    \n",
    "    #Keep in mind I will also have to apply the same methods for the humidity kernel. \n",
    "    #Option 2 creates far more data but might be more reliable. \n",
    "    #Could also do the regridding inside this loop, not saving any intermediate result from that. But that might \n",
    "    #be too slow especially if I end up having to run this loop more than once. \n",
    "    #How much storage on Fletcher is reasonable? Ask Naomi?\n",
    "    \n",
    "    #For option 1 see \"MakeNetCDF_ta\" script, could run version without doing horizontal regridding or merging the different\n",
    "    #models into one NetCDF file. Would also have to do this for hus.\n",
    "    \n",
    "    #Went with option 1 (obtained the non-regridded temperatures). \n",
    "    #However, have problems with indexing:\n",
    "    #monthly output has reversed . and 0 to 360 longitude, and \n",
    "    #Can use \".data\" to get around everything after \n",
    "    "
   ]
  },
  {
   "cell_type": "code",
   "execution_count": null,
   "metadata": {},
   "outputs": [],
   "source": [
    "#Kernel_raw has nans...\n",
    "#The regridded kernels have nans on half the longitudes. Something was wrong with my attempt to regrid the kernels to model grids. \n",
    "#Probably a 180 vs. 360 longitude issue. \n",
    "\n",
    "#Fixed this"
   ]
  },
  {
   "cell_type": "code",
   "execution_count": null,
   "metadata": {},
   "outputs": [],
   "source": [
    "a  = np.array([1,2,3,4,5])\n",
    "print(a[:-1])\n",
    "print(a[1:])"
   ]
  },
  {
   "cell_type": "code",
   "execution_count": null,
   "metadata": {},
   "outputs": [],
   "source": [
    "#8/1/19, 10:06 PM: seems to work as far as each model goes (at least CAM3). \n",
    "\n",
    "#Next step: \n",
    "\n",
    "#Concatenate the different models\n",
    "#No, actually don't do this yet--they are all on different grids. \n",
    "\n",
    "#Loop through the models, regrid to common climatology grid, save to new dict\n",
    "#THEN concatenate into an XArray dataset which I can save to a NetCDF file.\n",
    "\n",
    "#When have I done this particular type of regridding before?\n",
    "\n",
    "#Dimensions are time: 480, lat: 64, lon: 128\n",
    "\n",
    "#For APRP, I regridded the monthly CMORized output.\n",
    "\n",
    "#For APRP preliminary stuff, with similar dimensions: did this in an external script,\n",
    "#\"regrid_data_forGregory.py\", using the XESMF regridder. \n",
    "#Doing that here would require saving the individual model results as NetCDF files.\n",
    "\n",
    "#I could, instead, just do the regressions on the individual model grids...\n",
    "#and then regrid after?\n",
    "\n",
    "#But surface temperature is still on climatology grid. \n",
    "\n",
    "#So, save individual model results from above loop to NetCDF files, and do regridding in a smimilar external script.\n",
    "\n",
    "#The above worked for most models but have a problem with the 2 MetUM models: \n",
    "#The monthly and climatological datasets have different numbers of lats.\n",
    "\n",
    "#Turns out the climatology temperature for these models is on \"boundary\" latitudes in ds_clim_ta and \n",
    "#\"middle\" latitudes in ds_mon_ta. The kernel is on the midpoints as well. \n",
    "#Longitudes a problem as well: they aren't defined at the exact same longitude, being on boundaries for \n",
    "#climatology even though there are the same number (because periodic). This will cause an error if I don't fix it.\n",
    "\n",
    "#Will have to duplicate the edge longitude, then do a 2D midpoint calculation/interpolation. \n",
    "#This will have to be done within XArray (or new array defined) because ds_clim_i is the one for which I kept the \n",
    "#dimensions. \n",
    "\n",
    "#Where have I done edge duplication before?\n",
    "\n",
    "#8-5-19: fixed this"
   ]
  },
  {
   "cell_type": "code",
   "execution_count": null,
   "metadata": {},
   "outputs": [],
   "source": [
    "#Save kernel results for individual models to netCDF files\n",
    "for model in models_12:\n",
    "#for model in ['NorESM2']:\n",
    "#for model in ['MetUM-GA6-CTL', 'MetUM-GA6-ENT']:\n",
    "    dLW_ta_dict[model].to_netcdf('nc_from_xarray/dLW_ta_og_'+model+'.nc')\n",
    "    "
   ]
  },
  {
   "cell_type": "code",
   "execution_count": null,
   "metadata": {},
   "outputs": [],
   "source": [
    "dLW_ta_dict['MetUM-GA6-CTL'].isel(time=0).plot()\n",
    "\n",
    "#OK, only half the longitudes were populated even before regridding...\n",
    "#Fixed this"
   ]
  },
  {
   "cell_type": "code",
   "execution_count": null,
   "metadata": {},
   "outputs": [],
   "source": [
    "#Now, need to regrid the changes in LW radiation to the climatology grid.\n",
    "\n",
    "#Script: \"regrid_kernel_results_ta.py\"\n",
    "#Have another one for humidity\n",
    "\n",
    "#OK, did the regridding in the script mentioned above.\n",
    "#8-6-19: did it again after fixing 180 degree offset bug"
   ]
  },
  {
   "cell_type": "code",
   "execution_count": null,
   "metadata": {},
   "outputs": [],
   "source": [
    "#Test loading one of the regridded datasets\n",
    "\n",
    "#test = xr.open_dataset('nc_from_xarray/dLW_ta_rg_IPSL-CM5A.nc')\n",
    "for model in models_12:\n",
    "    test = xr.open_dataset('nc_from_xarray/dLW_ta_rg_'+model+'.nc')\n",
    "    print(model)\n",
    "    print(test)\n",
    "    plt.figure()\n",
    "    test['dLW'].isel(time=8).plot()"
   ]
  },
  {
   "cell_type": "code",
   "execution_count": null,
   "metadata": {},
   "outputs": [],
   "source": [
    "#Weird 1/2 error: was the 180 vs. 360 issue causing zeros over half the longitudes?\n",
    "\n",
    "test['dLW'].isel(time=0).plot()\n",
    "\n",
    "#Yes, indeed. half the data are missing\n",
    "\n",
    "#How far back does this error go?\n",
    "\n",
    "#8-6-19, 5:45 PM: this is fixed now"
   ]
  },
  {
   "cell_type": "code",
   "execution_count": null,
   "metadata": {},
   "outputs": [],
   "source": []
  },
  {
   "cell_type": "code",
   "execution_count": null,
   "metadata": {},
   "outputs": [],
   "source": [
    "#Gregory regressions done in separate script"
   ]
  },
  {
   "cell_type": "code",
   "execution_count": null,
   "metadata": {},
   "outputs": [],
   "source": []
  },
  {
   "cell_type": "code",
   "execution_count": null,
   "metadata": {},
   "outputs": [],
   "source": [
    "#Do the same for SPECIFIC HUMIDITY. Need similar loop to that for temperature above, but \n",
    "#incorporating the log humidity calculations and that expected from 1 K warming. \n",
    "\n",
    "#Should restart kernel before running this to prevent accidentally reusing a \n",
    "#temperature variable from above with the same name. "
   ]
  },
  {
   "cell_type": "code",
   "execution_count": 7,
   "metadata": {},
   "outputs": [],
   "source": [
    "#Function to calculate change in specific humidity associated with 1 K of warming, \n",
    "#assuming constant relative humidity.\n",
    "#Inputs: compatible arrays, XArray datasets, etc. for temperature, specific humidity,\n",
    "#pressure levels (compatible dimensions for broadcasting--i.e. 3D for ta & hus, 1D for p).\n",
    "def deltaLogQfrom1Kwarming(ta, hus, p):\n",
    "    Lv = 2.5e6  #Latent heat vaporization at 0 deg C (J/kg)\n",
    "    Rv = 461. #Gas constant for water vapor\n",
    "    Rd = 287. #Gas constant for dry air\n",
    "    es = 611.*np.exp((Lv/Rv)*((1./273.15)-(1./ta))) #Saturation vapor pressure in Pa (Hartmann, 2016, eq. 1.11)\n",
    "    qs = es/p*Rd/Rv #Saturation specific humidity\n",
    "    RH = hus/qs #Relative humidity\n",
    "    es1K = 611.*np.exp((Lv/Rv)*((1./273.15)-(1./(ta+1.)))) #Saturation vapor pressure with 1 K warming\n",
    "    qs1K = es1K/p*Rd/Rv #Saturation specific humidity with 1 K warming\n",
    "    hus1K = qs1K*RH #specific humidity with 1K warming at constant RH\n",
    "    log_hus_1K_minus_log_hus = np.log(hus1K) - np.log(hus)\n",
    "    return log_hus_1K_minus_log_hus"
   ]
  },
  {
   "cell_type": "code",
   "execution_count": 13,
   "metadata": {},
   "outputs": [
    {
     "name": "stdout",
     "output_type": "stream",
     "text": [
      "Kernel multiplication (water vapor) for model: AM2\n",
      "month 0\n",
      "month 20\n",
      "month 40\n",
      "month 60\n",
      "month 80\n",
      "month 100\n",
      "month 120\n",
      "month 140\n",
      "month 160\n",
      "month 180\n",
      "month 200\n",
      "month 220\n",
      "month 240\n",
      "month 260\n",
      "month 280\n",
      "month 300\n",
      "month 320\n",
      "month 340\n",
      "month 360\n",
      "month 380\n",
      "month 400\n",
      "month 420\n",
      "month 440\n",
      "month 460\n",
      "Kernel multiplication (water vapor) for model: CAM3\n",
      "month 0\n",
      "month 20\n",
      "month 40\n",
      "month 60\n",
      "month 80\n",
      "month 100\n",
      "month 120\n",
      "month 140\n",
      "month 160\n",
      "month 180\n",
      "month 200\n",
      "month 220\n",
      "month 240\n",
      "month 260\n",
      "month 280\n",
      "month 300\n",
      "month 320\n",
      "month 340\n",
      "month 360\n",
      "month 380\n",
      "month 400\n",
      "month 420\n",
      "month 440\n",
      "month 460\n",
      "Kernel multiplication (water vapor) for model: CAM4\n",
      "month 0\n",
      "month 20\n",
      "month 40\n",
      "month 60\n",
      "month 80\n",
      "month 100\n",
      "month 120\n",
      "month 140\n",
      "month 160\n",
      "month 180\n",
      "month 200\n",
      "month 220\n",
      "month 240\n",
      "month 260\n",
      "month 280\n",
      "month 300\n",
      "month 320\n",
      "month 340\n",
      "month 360\n",
      "month 380\n",
      "month 400\n",
      "month 420\n",
      "month 440\n",
      "month 460\n",
      "Kernel multiplication (water vapor) for model: CNRM-AM6-DIA-v2\n",
      "month 0\n"
     ]
    },
    {
     "name": "stderr",
     "output_type": "stream",
     "text": [
      "/usr/local/python/anaconda3/envs/pangeo3.7/lib/python3.6/site-packages/ipykernel_launcher.py:71: RuntimeWarning: divide by zero encountered in log\n",
      "/usr/local/python/anaconda3/envs/pangeo3.7/lib/python3.6/site-packages/ipykernel_launcher.py:71: RuntimeWarning: divide by zero encountered in log\n",
      "/usr/local/python/anaconda3/envs/pangeo3.7/lib/python3.6/site-packages/ipykernel_launcher.py:71: RuntimeWarning: divide by zero encountered in log\n",
      "/usr/local/python/anaconda3/envs/pangeo3.7/lib/python3.6/site-packages/ipykernel_launcher.py:71: RuntimeWarning: divide by zero encountered in log\n",
      "/usr/local/python/anaconda3/envs/pangeo3.7/lib/python3.6/site-packages/ipykernel_launcher.py:71: RuntimeWarning: divide by zero encountered in log\n",
      "/usr/local/python/anaconda3/envs/pangeo3.7/lib/python3.6/site-packages/ipykernel_launcher.py:71: RuntimeWarning: divide by zero encountered in log\n",
      "/usr/local/python/anaconda3/envs/pangeo3.7/lib/python3.6/site-packages/ipykernel_launcher.py:71: RuntimeWarning: divide by zero encountered in log\n",
      "/usr/local/python/anaconda3/envs/pangeo3.7/lib/python3.6/site-packages/ipykernel_launcher.py:71: RuntimeWarning: divide by zero encountered in log\n",
      "/usr/local/python/anaconda3/envs/pangeo3.7/lib/python3.6/site-packages/ipykernel_launcher.py:71: RuntimeWarning: divide by zero encountered in log\n",
      "/usr/local/python/anaconda3/envs/pangeo3.7/lib/python3.6/site-packages/ipykernel_launcher.py:71: RuntimeWarning: divide by zero encountered in log\n"
     ]
    },
    {
     "name": "stdout",
     "output_type": "stream",
     "text": [
      "month 20\n"
     ]
    },
    {
     "name": "stderr",
     "output_type": "stream",
     "text": [
      "/usr/local/python/anaconda3/envs/pangeo3.7/lib/python3.6/site-packages/ipykernel_launcher.py:71: RuntimeWarning: divide by zero encountered in log\n",
      "/usr/local/python/anaconda3/envs/pangeo3.7/lib/python3.6/site-packages/ipykernel_launcher.py:71: RuntimeWarning: divide by zero encountered in log\n",
      "/usr/local/python/anaconda3/envs/pangeo3.7/lib/python3.6/site-packages/ipykernel_launcher.py:71: RuntimeWarning: divide by zero encountered in log\n",
      "/usr/local/python/anaconda3/envs/pangeo3.7/lib/python3.6/site-packages/ipykernel_launcher.py:71: RuntimeWarning: divide by zero encountered in log\n",
      "/usr/local/python/anaconda3/envs/pangeo3.7/lib/python3.6/site-packages/ipykernel_launcher.py:71: RuntimeWarning: divide by zero encountered in log\n",
      "/usr/local/python/anaconda3/envs/pangeo3.7/lib/python3.6/site-packages/ipykernel_launcher.py:71: RuntimeWarning: divide by zero encountered in log\n",
      "/usr/local/python/anaconda3/envs/pangeo3.7/lib/python3.6/site-packages/ipykernel_launcher.py:71: RuntimeWarning: divide by zero encountered in log\n"
     ]
    },
    {
     "name": "stdout",
     "output_type": "stream",
     "text": [
      "month 40\n"
     ]
    },
    {
     "name": "stderr",
     "output_type": "stream",
     "text": [
      "/usr/local/python/anaconda3/envs/pangeo3.7/lib/python3.6/site-packages/ipykernel_launcher.py:71: RuntimeWarning: divide by zero encountered in log\n",
      "/usr/local/python/anaconda3/envs/pangeo3.7/lib/python3.6/site-packages/ipykernel_launcher.py:71: RuntimeWarning: divide by zero encountered in log\n",
      "/usr/local/python/anaconda3/envs/pangeo3.7/lib/python3.6/site-packages/ipykernel_launcher.py:71: RuntimeWarning: divide by zero encountered in log\n",
      "/usr/local/python/anaconda3/envs/pangeo3.7/lib/python3.6/site-packages/ipykernel_launcher.py:71: RuntimeWarning: divide by zero encountered in log\n",
      "/usr/local/python/anaconda3/envs/pangeo3.7/lib/python3.6/site-packages/ipykernel_launcher.py:71: RuntimeWarning: divide by zero encountered in log\n",
      "/usr/local/python/anaconda3/envs/pangeo3.7/lib/python3.6/site-packages/ipykernel_launcher.py:71: RuntimeWarning: divide by zero encountered in log\n",
      "/usr/local/python/anaconda3/envs/pangeo3.7/lib/python3.6/site-packages/ipykernel_launcher.py:71: RuntimeWarning: divide by zero encountered in log\n",
      "/usr/local/python/anaconda3/envs/pangeo3.7/lib/python3.6/site-packages/ipykernel_launcher.py:71: RuntimeWarning: divide by zero encountered in log\n"
     ]
    },
    {
     "name": "stdout",
     "output_type": "stream",
     "text": [
      "month 60\n"
     ]
    },
    {
     "name": "stderr",
     "output_type": "stream",
     "text": [
      "/usr/local/python/anaconda3/envs/pangeo3.7/lib/python3.6/site-packages/ipykernel_launcher.py:71: RuntimeWarning: divide by zero encountered in log\n",
      "/usr/local/python/anaconda3/envs/pangeo3.7/lib/python3.6/site-packages/ipykernel_launcher.py:71: RuntimeWarning: divide by zero encountered in log\n",
      "/usr/local/python/anaconda3/envs/pangeo3.7/lib/python3.6/site-packages/ipykernel_launcher.py:71: RuntimeWarning: divide by zero encountered in log\n"
     ]
    },
    {
     "name": "stdout",
     "output_type": "stream",
     "text": [
      "month 80\n"
     ]
    },
    {
     "name": "stderr",
     "output_type": "stream",
     "text": [
      "/usr/local/python/anaconda3/envs/pangeo3.7/lib/python3.6/site-packages/ipykernel_launcher.py:71: RuntimeWarning: divide by zero encountered in log\n",
      "/usr/local/python/anaconda3/envs/pangeo3.7/lib/python3.6/site-packages/ipykernel_launcher.py:71: RuntimeWarning: divide by zero encountered in log\n",
      "/usr/local/python/anaconda3/envs/pangeo3.7/lib/python3.6/site-packages/ipykernel_launcher.py:71: RuntimeWarning: divide by zero encountered in log\n",
      "/usr/local/python/anaconda3/envs/pangeo3.7/lib/python3.6/site-packages/ipykernel_launcher.py:71: RuntimeWarning: divide by zero encountered in log\n"
     ]
    },
    {
     "name": "stdout",
     "output_type": "stream",
     "text": [
      "month 100\n"
     ]
    },
    {
     "name": "stderr",
     "output_type": "stream",
     "text": [
      "/usr/local/python/anaconda3/envs/pangeo3.7/lib/python3.6/site-packages/ipykernel_launcher.py:71: RuntimeWarning: divide by zero encountered in log\n",
      "/usr/local/python/anaconda3/envs/pangeo3.7/lib/python3.6/site-packages/ipykernel_launcher.py:71: RuntimeWarning: divide by zero encountered in log\n"
     ]
    },
    {
     "name": "stdout",
     "output_type": "stream",
     "text": [
      "month 120\n"
     ]
    },
    {
     "name": "stderr",
     "output_type": "stream",
     "text": [
      "/usr/local/python/anaconda3/envs/pangeo3.7/lib/python3.6/site-packages/ipykernel_launcher.py:71: RuntimeWarning: divide by zero encountered in log\n"
     ]
    },
    {
     "name": "stdout",
     "output_type": "stream",
     "text": [
      "month 140\n"
     ]
    },
    {
     "name": "stderr",
     "output_type": "stream",
     "text": [
      "/usr/local/python/anaconda3/envs/pangeo3.7/lib/python3.6/site-packages/ipykernel_launcher.py:71: RuntimeWarning: divide by zero encountered in log\n"
     ]
    },
    {
     "name": "stdout",
     "output_type": "stream",
     "text": [
      "month 160\n"
     ]
    },
    {
     "name": "stderr",
     "output_type": "stream",
     "text": [
      "/usr/local/python/anaconda3/envs/pangeo3.7/lib/python3.6/site-packages/ipykernel_launcher.py:71: RuntimeWarning: divide by zero encountered in log\n"
     ]
    },
    {
     "name": "stdout",
     "output_type": "stream",
     "text": [
      "month 180\n",
      "month 200\n"
     ]
    },
    {
     "name": "stderr",
     "output_type": "stream",
     "text": [
      "/usr/local/python/anaconda3/envs/pangeo3.7/lib/python3.6/site-packages/ipykernel_launcher.py:71: RuntimeWarning: divide by zero encountered in log\n",
      "/usr/local/python/anaconda3/envs/pangeo3.7/lib/python3.6/site-packages/ipykernel_launcher.py:71: RuntimeWarning: divide by zero encountered in log\n"
     ]
    },
    {
     "name": "stdout",
     "output_type": "stream",
     "text": [
      "month 220\n"
     ]
    },
    {
     "name": "stderr",
     "output_type": "stream",
     "text": [
      "/usr/local/python/anaconda3/envs/pangeo3.7/lib/python3.6/site-packages/ipykernel_launcher.py:71: RuntimeWarning: divide by zero encountered in log\n"
     ]
    },
    {
     "name": "stdout",
     "output_type": "stream",
     "text": [
      "month 240\n"
     ]
    },
    {
     "name": "stderr",
     "output_type": "stream",
     "text": [
      "/usr/local/python/anaconda3/envs/pangeo3.7/lib/python3.6/site-packages/ipykernel_launcher.py:71: RuntimeWarning: divide by zero encountered in log\n"
     ]
    },
    {
     "name": "stdout",
     "output_type": "stream",
     "text": [
      "month 260\n"
     ]
    },
    {
     "name": "stderr",
     "output_type": "stream",
     "text": [
      "/usr/local/python/anaconda3/envs/pangeo3.7/lib/python3.6/site-packages/ipykernel_launcher.py:71: RuntimeWarning: divide by zero encountered in log\n"
     ]
    },
    {
     "name": "stdout",
     "output_type": "stream",
     "text": [
      "month 280\n",
      "month 300\n",
      "month 320\n"
     ]
    },
    {
     "name": "stderr",
     "output_type": "stream",
     "text": [
      "/usr/local/python/anaconda3/envs/pangeo3.7/lib/python3.6/site-packages/ipykernel_launcher.py:71: RuntimeWarning: divide by zero encountered in log\n"
     ]
    },
    {
     "name": "stdout",
     "output_type": "stream",
     "text": [
      "month 340\n"
     ]
    },
    {
     "name": "stderr",
     "output_type": "stream",
     "text": [
      "/usr/local/python/anaconda3/envs/pangeo3.7/lib/python3.6/site-packages/ipykernel_launcher.py:71: RuntimeWarning: divide by zero encountered in log\n"
     ]
    },
    {
     "name": "stdout",
     "output_type": "stream",
     "text": [
      "month 360\n",
      "month 380\n"
     ]
    },
    {
     "name": "stderr",
     "output_type": "stream",
     "text": [
      "/usr/local/python/anaconda3/envs/pangeo3.7/lib/python3.6/site-packages/ipykernel_launcher.py:71: RuntimeWarning: divide by zero encountered in log\n"
     ]
    },
    {
     "name": "stdout",
     "output_type": "stream",
     "text": [
      "month 400\n",
      "month 420\n"
     ]
    },
    {
     "name": "stderr",
     "output_type": "stream",
     "text": [
      "/usr/local/python/anaconda3/envs/pangeo3.7/lib/python3.6/site-packages/ipykernel_launcher.py:71: RuntimeWarning: divide by zero encountered in log\n"
     ]
    },
    {
     "name": "stdout",
     "output_type": "stream",
     "text": [
      "month 440\n",
      "month 460\n",
      "Kernel multiplication (water vapor) for model: ECHAM-6.1\n",
      "month 0\n",
      "month 20\n",
      "month 40\n",
      "month 60\n",
      "month 80\n",
      "month 100\n",
      "month 120\n",
      "month 140\n",
      "month 160\n",
      "month 180\n",
      "month 200\n",
      "month 220\n",
      "month 240\n",
      "month 260\n",
      "month 280\n",
      "month 300\n",
      "month 320\n",
      "month 340\n",
      "month 360\n",
      "month 380\n",
      "month 400\n",
      "month 420\n",
      "month 440\n",
      "month 460\n",
      "month 480\n",
      "month 500\n",
      "month 520\n",
      "Kernel multiplication (water vapor) for model: ECHAM-6.3\n",
      "month 0\n",
      "month 20\n",
      "month 40\n",
      "month 60\n",
      "month 80\n",
      "month 100\n",
      "month 120\n",
      "month 140\n",
      "month 160\n",
      "month 180\n",
      "month 200\n",
      "month 220\n",
      "month 240\n",
      "month 260\n",
      "month 280\n",
      "month 300\n",
      "month 320\n",
      "month 340\n",
      "month 360\n",
      "month 380\n",
      "month 400\n",
      "month 420\n",
      "month 440\n",
      "month 460\n",
      "Kernel multiplication (water vapor) for model: IPSL-CM5A\n",
      "month 0\n",
      "month 20\n",
      "month 40\n",
      "month 60\n",
      "month 80\n",
      "month 100\n",
      "month 120\n",
      "month 140\n",
      "month 160\n",
      "month 180\n",
      "month 200\n",
      "month 220\n",
      "month 240\n",
      "month 260\n",
      "month 280\n",
      "month 300\n",
      "month 320\n",
      "month 340\n",
      "Kernel multiplication (water vapor) for model: MIROC5\n",
      "month 0\n",
      "month 20\n",
      "month 40\n",
      "month 60\n",
      "month 80\n",
      "month 100\n",
      "month 120\n",
      "month 140\n",
      "month 160\n",
      "month 180\n",
      "month 200\n",
      "month 220\n",
      "month 240\n",
      "month 260\n",
      "month 280\n",
      "month 300\n",
      "month 320\n",
      "month 340\n",
      "month 360\n",
      "month 380\n",
      "month 400\n",
      "month 420\n",
      "month 440\n",
      "month 460\n",
      "Kernel multiplication (water vapor) for model: MPAS\n",
      "month 0\n",
      "month 20\n",
      "month 40\n",
      "month 60\n",
      "month 80\n",
      "month 100\n",
      "month 120\n",
      "month 140\n",
      "month 160\n",
      "month 180\n",
      "month 200\n",
      "month 220\n",
      "month 240\n",
      "month 260\n",
      "month 280\n",
      "month 300\n",
      "month 320\n",
      "month 340\n",
      "month 360\n",
      "month 380\n",
      "month 400\n",
      "month 420\n",
      "month 440\n",
      "month 460\n",
      "Kernel multiplication (water vapor) for model: MetUM-GA6-CTL\n",
      "month 0\n"
     ]
    },
    {
     "name": "stderr",
     "output_type": "stream",
     "text": [
      "/usr/local/python/anaconda3/envs/pangeo3.7/lib/python3.6/site-packages/ipykernel_launcher.py:71: RuntimeWarning: divide by zero encountered in log\n",
      "/usr/local/python/anaconda3/envs/pangeo3.7/lib/python3.6/site-packages/ipykernel_launcher.py:71: RuntimeWarning: divide by zero encountered in log\n",
      "/usr/local/python/anaconda3/envs/pangeo3.7/lib/python3.6/site-packages/ipykernel_launcher.py:71: RuntimeWarning: divide by zero encountered in log\n",
      "/usr/local/python/anaconda3/envs/pangeo3.7/lib/python3.6/site-packages/ipykernel_launcher.py:71: RuntimeWarning: divide by zero encountered in log\n",
      "/usr/local/python/anaconda3/envs/pangeo3.7/lib/python3.6/site-packages/ipykernel_launcher.py:71: RuntimeWarning: divide by zero encountered in log\n",
      "/usr/local/python/anaconda3/envs/pangeo3.7/lib/python3.6/site-packages/ipykernel_launcher.py:71: RuntimeWarning: divide by zero encountered in log\n",
      "/usr/local/python/anaconda3/envs/pangeo3.7/lib/python3.6/site-packages/ipykernel_launcher.py:71: RuntimeWarning: divide by zero encountered in log\n",
      "/usr/local/python/anaconda3/envs/pangeo3.7/lib/python3.6/site-packages/ipykernel_launcher.py:71: RuntimeWarning: divide by zero encountered in log\n",
      "/usr/local/python/anaconda3/envs/pangeo3.7/lib/python3.6/site-packages/ipykernel_launcher.py:71: RuntimeWarning: divide by zero encountered in log\n",
      "/usr/local/python/anaconda3/envs/pangeo3.7/lib/python3.6/site-packages/ipykernel_launcher.py:71: RuntimeWarning: divide by zero encountered in log\n",
      "/usr/local/python/anaconda3/envs/pangeo3.7/lib/python3.6/site-packages/ipykernel_launcher.py:71: RuntimeWarning: divide by zero encountered in log\n",
      "/usr/local/python/anaconda3/envs/pangeo3.7/lib/python3.6/site-packages/ipykernel_launcher.py:71: RuntimeWarning: divide by zero encountered in log\n",
      "/usr/local/python/anaconda3/envs/pangeo3.7/lib/python3.6/site-packages/ipykernel_launcher.py:71: RuntimeWarning: divide by zero encountered in log\n",
      "/usr/local/python/anaconda3/envs/pangeo3.7/lib/python3.6/site-packages/ipykernel_launcher.py:71: RuntimeWarning: divide by zero encountered in log\n",
      "/usr/local/python/anaconda3/envs/pangeo3.7/lib/python3.6/site-packages/ipykernel_launcher.py:71: RuntimeWarning: divide by zero encountered in log\n",
      "/usr/local/python/anaconda3/envs/pangeo3.7/lib/python3.6/site-packages/ipykernel_launcher.py:71: RuntimeWarning: divide by zero encountered in log\n",
      "/usr/local/python/anaconda3/envs/pangeo3.7/lib/python3.6/site-packages/ipykernel_launcher.py:71: RuntimeWarning: divide by zero encountered in log\n",
      "/usr/local/python/anaconda3/envs/pangeo3.7/lib/python3.6/site-packages/ipykernel_launcher.py:71: RuntimeWarning: divide by zero encountered in log\n",
      "/usr/local/python/anaconda3/envs/pangeo3.7/lib/python3.6/site-packages/ipykernel_launcher.py:71: RuntimeWarning: divide by zero encountered in log\n"
     ]
    },
    {
     "name": "stdout",
     "output_type": "stream",
     "text": [
      "month 20\n"
     ]
    },
    {
     "name": "stderr",
     "output_type": "stream",
     "text": [
      "/usr/local/python/anaconda3/envs/pangeo3.7/lib/python3.6/site-packages/ipykernel_launcher.py:71: RuntimeWarning: divide by zero encountered in log\n",
      "/usr/local/python/anaconda3/envs/pangeo3.7/lib/python3.6/site-packages/ipykernel_launcher.py:71: RuntimeWarning: divide by zero encountered in log\n",
      "/usr/local/python/anaconda3/envs/pangeo3.7/lib/python3.6/site-packages/ipykernel_launcher.py:71: RuntimeWarning: divide by zero encountered in log\n",
      "/usr/local/python/anaconda3/envs/pangeo3.7/lib/python3.6/site-packages/ipykernel_launcher.py:71: RuntimeWarning: divide by zero encountered in log\n",
      "/usr/local/python/anaconda3/envs/pangeo3.7/lib/python3.6/site-packages/ipykernel_launcher.py:71: RuntimeWarning: divide by zero encountered in log\n",
      "/usr/local/python/anaconda3/envs/pangeo3.7/lib/python3.6/site-packages/ipykernel_launcher.py:71: RuntimeWarning: divide by zero encountered in log\n",
      "/usr/local/python/anaconda3/envs/pangeo3.7/lib/python3.6/site-packages/ipykernel_launcher.py:71: RuntimeWarning: divide by zero encountered in log\n",
      "/usr/local/python/anaconda3/envs/pangeo3.7/lib/python3.6/site-packages/ipykernel_launcher.py:71: RuntimeWarning: divide by zero encountered in log\n",
      "/usr/local/python/anaconda3/envs/pangeo3.7/lib/python3.6/site-packages/ipykernel_launcher.py:71: RuntimeWarning: divide by zero encountered in log\n",
      "/usr/local/python/anaconda3/envs/pangeo3.7/lib/python3.6/site-packages/ipykernel_launcher.py:71: RuntimeWarning: divide by zero encountered in log\n",
      "/usr/local/python/anaconda3/envs/pangeo3.7/lib/python3.6/site-packages/ipykernel_launcher.py:71: RuntimeWarning: divide by zero encountered in log\n",
      "/usr/local/python/anaconda3/envs/pangeo3.7/lib/python3.6/site-packages/ipykernel_launcher.py:71: RuntimeWarning: divide by zero encountered in log\n",
      "/usr/local/python/anaconda3/envs/pangeo3.7/lib/python3.6/site-packages/ipykernel_launcher.py:71: RuntimeWarning: divide by zero encountered in log\n",
      "/usr/local/python/anaconda3/envs/pangeo3.7/lib/python3.6/site-packages/ipykernel_launcher.py:71: RuntimeWarning: divide by zero encountered in log\n",
      "/usr/local/python/anaconda3/envs/pangeo3.7/lib/python3.6/site-packages/ipykernel_launcher.py:71: RuntimeWarning: divide by zero encountered in log\n",
      "/usr/local/python/anaconda3/envs/pangeo3.7/lib/python3.6/site-packages/ipykernel_launcher.py:71: RuntimeWarning: divide by zero encountered in log\n",
      "/usr/local/python/anaconda3/envs/pangeo3.7/lib/python3.6/site-packages/ipykernel_launcher.py:71: RuntimeWarning: divide by zero encountered in log\n",
      "/usr/local/python/anaconda3/envs/pangeo3.7/lib/python3.6/site-packages/ipykernel_launcher.py:71: RuntimeWarning: divide by zero encountered in log\n",
      "/usr/local/python/anaconda3/envs/pangeo3.7/lib/python3.6/site-packages/ipykernel_launcher.py:71: RuntimeWarning: divide by zero encountered in log\n",
      "/usr/local/python/anaconda3/envs/pangeo3.7/lib/python3.6/site-packages/ipykernel_launcher.py:71: RuntimeWarning: divide by zero encountered in log\n",
      "/usr/local/python/anaconda3/envs/pangeo3.7/lib/python3.6/site-packages/ipykernel_launcher.py:71: RuntimeWarning: divide by zero encountered in log\n"
     ]
    },
    {
     "name": "stdout",
     "output_type": "stream",
     "text": [
      "month 40\n"
     ]
    },
    {
     "name": "stderr",
     "output_type": "stream",
     "text": [
      "/usr/local/python/anaconda3/envs/pangeo3.7/lib/python3.6/site-packages/ipykernel_launcher.py:71: RuntimeWarning: divide by zero encountered in log\n",
      "/usr/local/python/anaconda3/envs/pangeo3.7/lib/python3.6/site-packages/ipykernel_launcher.py:71: RuntimeWarning: divide by zero encountered in log\n",
      "/usr/local/python/anaconda3/envs/pangeo3.7/lib/python3.6/site-packages/ipykernel_launcher.py:71: RuntimeWarning: divide by zero encountered in log\n",
      "/usr/local/python/anaconda3/envs/pangeo3.7/lib/python3.6/site-packages/ipykernel_launcher.py:71: RuntimeWarning: divide by zero encountered in log\n",
      "/usr/local/python/anaconda3/envs/pangeo3.7/lib/python3.6/site-packages/ipykernel_launcher.py:71: RuntimeWarning: divide by zero encountered in log\n",
      "/usr/local/python/anaconda3/envs/pangeo3.7/lib/python3.6/site-packages/ipykernel_launcher.py:71: RuntimeWarning: divide by zero encountered in log\n",
      "/usr/local/python/anaconda3/envs/pangeo3.7/lib/python3.6/site-packages/ipykernel_launcher.py:71: RuntimeWarning: divide by zero encountered in log\n",
      "/usr/local/python/anaconda3/envs/pangeo3.7/lib/python3.6/site-packages/ipykernel_launcher.py:71: RuntimeWarning: divide by zero encountered in log\n",
      "/usr/local/python/anaconda3/envs/pangeo3.7/lib/python3.6/site-packages/ipykernel_launcher.py:71: RuntimeWarning: divide by zero encountered in log\n",
      "/usr/local/python/anaconda3/envs/pangeo3.7/lib/python3.6/site-packages/ipykernel_launcher.py:71: RuntimeWarning: divide by zero encountered in log\n",
      "/usr/local/python/anaconda3/envs/pangeo3.7/lib/python3.6/site-packages/ipykernel_launcher.py:71: RuntimeWarning: divide by zero encountered in log\n",
      "/usr/local/python/anaconda3/envs/pangeo3.7/lib/python3.6/site-packages/ipykernel_launcher.py:71: RuntimeWarning: divide by zero encountered in log\n",
      "/usr/local/python/anaconda3/envs/pangeo3.7/lib/python3.6/site-packages/ipykernel_launcher.py:71: RuntimeWarning: divide by zero encountered in log\n",
      "/usr/local/python/anaconda3/envs/pangeo3.7/lib/python3.6/site-packages/ipykernel_launcher.py:71: RuntimeWarning: divide by zero encountered in log\n",
      "/usr/local/python/anaconda3/envs/pangeo3.7/lib/python3.6/site-packages/ipykernel_launcher.py:71: RuntimeWarning: divide by zero encountered in log\n",
      "/usr/local/python/anaconda3/envs/pangeo3.7/lib/python3.6/site-packages/ipykernel_launcher.py:71: RuntimeWarning: divide by zero encountered in log\n",
      "/usr/local/python/anaconda3/envs/pangeo3.7/lib/python3.6/site-packages/ipykernel_launcher.py:71: RuntimeWarning: divide by zero encountered in log\n",
      "/usr/local/python/anaconda3/envs/pangeo3.7/lib/python3.6/site-packages/ipykernel_launcher.py:71: RuntimeWarning: divide by zero encountered in log\n",
      "/usr/local/python/anaconda3/envs/pangeo3.7/lib/python3.6/site-packages/ipykernel_launcher.py:71: RuntimeWarning: divide by zero encountered in log\n",
      "/usr/local/python/anaconda3/envs/pangeo3.7/lib/python3.6/site-packages/ipykernel_launcher.py:71: RuntimeWarning: divide by zero encountered in log\n"
     ]
    },
    {
     "name": "stdout",
     "output_type": "stream",
     "text": [
      "month 60\n"
     ]
    },
    {
     "name": "stderr",
     "output_type": "stream",
     "text": [
      "/usr/local/python/anaconda3/envs/pangeo3.7/lib/python3.6/site-packages/ipykernel_launcher.py:71: RuntimeWarning: divide by zero encountered in log\n",
      "/usr/local/python/anaconda3/envs/pangeo3.7/lib/python3.6/site-packages/ipykernel_launcher.py:71: RuntimeWarning: divide by zero encountered in log\n",
      "/usr/local/python/anaconda3/envs/pangeo3.7/lib/python3.6/site-packages/ipykernel_launcher.py:71: RuntimeWarning: divide by zero encountered in log\n",
      "/usr/local/python/anaconda3/envs/pangeo3.7/lib/python3.6/site-packages/ipykernel_launcher.py:71: RuntimeWarning: divide by zero encountered in log\n",
      "/usr/local/python/anaconda3/envs/pangeo3.7/lib/python3.6/site-packages/ipykernel_launcher.py:71: RuntimeWarning: divide by zero encountered in log\n",
      "/usr/local/python/anaconda3/envs/pangeo3.7/lib/python3.6/site-packages/ipykernel_launcher.py:71: RuntimeWarning: divide by zero encountered in log\n",
      "/usr/local/python/anaconda3/envs/pangeo3.7/lib/python3.6/site-packages/ipykernel_launcher.py:71: RuntimeWarning: divide by zero encountered in log\n",
      "/usr/local/python/anaconda3/envs/pangeo3.7/lib/python3.6/site-packages/ipykernel_launcher.py:71: RuntimeWarning: divide by zero encountered in log\n",
      "/usr/local/python/anaconda3/envs/pangeo3.7/lib/python3.6/site-packages/ipykernel_launcher.py:71: RuntimeWarning: divide by zero encountered in log\n",
      "/usr/local/python/anaconda3/envs/pangeo3.7/lib/python3.6/site-packages/ipykernel_launcher.py:71: RuntimeWarning: divide by zero encountered in log\n",
      "/usr/local/python/anaconda3/envs/pangeo3.7/lib/python3.6/site-packages/ipykernel_launcher.py:71: RuntimeWarning: divide by zero encountered in log\n",
      "/usr/local/python/anaconda3/envs/pangeo3.7/lib/python3.6/site-packages/ipykernel_launcher.py:71: RuntimeWarning: divide by zero encountered in log\n",
      "/usr/local/python/anaconda3/envs/pangeo3.7/lib/python3.6/site-packages/ipykernel_launcher.py:71: RuntimeWarning: divide by zero encountered in log\n",
      "/usr/local/python/anaconda3/envs/pangeo3.7/lib/python3.6/site-packages/ipykernel_launcher.py:71: RuntimeWarning: divide by zero encountered in log\n",
      "/usr/local/python/anaconda3/envs/pangeo3.7/lib/python3.6/site-packages/ipykernel_launcher.py:71: RuntimeWarning: divide by zero encountered in log\n",
      "/usr/local/python/anaconda3/envs/pangeo3.7/lib/python3.6/site-packages/ipykernel_launcher.py:71: RuntimeWarning: divide by zero encountered in log\n",
      "/usr/local/python/anaconda3/envs/pangeo3.7/lib/python3.6/site-packages/ipykernel_launcher.py:71: RuntimeWarning: divide by zero encountered in log\n",
      "/usr/local/python/anaconda3/envs/pangeo3.7/lib/python3.6/site-packages/ipykernel_launcher.py:71: RuntimeWarning: divide by zero encountered in log\n",
      "/usr/local/python/anaconda3/envs/pangeo3.7/lib/python3.6/site-packages/ipykernel_launcher.py:71: RuntimeWarning: divide by zero encountered in log\n"
     ]
    },
    {
     "name": "stdout",
     "output_type": "stream",
     "text": [
      "month 80\n"
     ]
    },
    {
     "name": "stderr",
     "output_type": "stream",
     "text": [
      "/usr/local/python/anaconda3/envs/pangeo3.7/lib/python3.6/site-packages/ipykernel_launcher.py:71: RuntimeWarning: divide by zero encountered in log\n",
      "/usr/local/python/anaconda3/envs/pangeo3.7/lib/python3.6/site-packages/ipykernel_launcher.py:71: RuntimeWarning: divide by zero encountered in log\n",
      "/usr/local/python/anaconda3/envs/pangeo3.7/lib/python3.6/site-packages/ipykernel_launcher.py:71: RuntimeWarning: divide by zero encountered in log\n",
      "/usr/local/python/anaconda3/envs/pangeo3.7/lib/python3.6/site-packages/ipykernel_launcher.py:71: RuntimeWarning: divide by zero encountered in log\n",
      "/usr/local/python/anaconda3/envs/pangeo3.7/lib/python3.6/site-packages/ipykernel_launcher.py:71: RuntimeWarning: divide by zero encountered in log\n",
      "/usr/local/python/anaconda3/envs/pangeo3.7/lib/python3.6/site-packages/ipykernel_launcher.py:71: RuntimeWarning: divide by zero encountered in log\n",
      "/usr/local/python/anaconda3/envs/pangeo3.7/lib/python3.6/site-packages/ipykernel_launcher.py:71: RuntimeWarning: divide by zero encountered in log\n",
      "/usr/local/python/anaconda3/envs/pangeo3.7/lib/python3.6/site-packages/ipykernel_launcher.py:71: RuntimeWarning: divide by zero encountered in log\n",
      "/usr/local/python/anaconda3/envs/pangeo3.7/lib/python3.6/site-packages/ipykernel_launcher.py:71: RuntimeWarning: divide by zero encountered in log\n",
      "/usr/local/python/anaconda3/envs/pangeo3.7/lib/python3.6/site-packages/ipykernel_launcher.py:71: RuntimeWarning: divide by zero encountered in log\n",
      "/usr/local/python/anaconda3/envs/pangeo3.7/lib/python3.6/site-packages/ipykernel_launcher.py:71: RuntimeWarning: divide by zero encountered in log\n",
      "/usr/local/python/anaconda3/envs/pangeo3.7/lib/python3.6/site-packages/ipykernel_launcher.py:71: RuntimeWarning: divide by zero encountered in log\n",
      "/usr/local/python/anaconda3/envs/pangeo3.7/lib/python3.6/site-packages/ipykernel_launcher.py:71: RuntimeWarning: divide by zero encountered in log\n",
      "/usr/local/python/anaconda3/envs/pangeo3.7/lib/python3.6/site-packages/ipykernel_launcher.py:71: RuntimeWarning: divide by zero encountered in log\n",
      "/usr/local/python/anaconda3/envs/pangeo3.7/lib/python3.6/site-packages/ipykernel_launcher.py:71: RuntimeWarning: divide by zero encountered in log\n",
      "/usr/local/python/anaconda3/envs/pangeo3.7/lib/python3.6/site-packages/ipykernel_launcher.py:71: RuntimeWarning: divide by zero encountered in log\n",
      "/usr/local/python/anaconda3/envs/pangeo3.7/lib/python3.6/site-packages/ipykernel_launcher.py:71: RuntimeWarning: divide by zero encountered in log\n",
      "/usr/local/python/anaconda3/envs/pangeo3.7/lib/python3.6/site-packages/ipykernel_launcher.py:71: RuntimeWarning: divide by zero encountered in log\n"
     ]
    },
    {
     "name": "stdout",
     "output_type": "stream",
     "text": [
      "month 100\n"
     ]
    },
    {
     "name": "stderr",
     "output_type": "stream",
     "text": [
      "/usr/local/python/anaconda3/envs/pangeo3.7/lib/python3.6/site-packages/ipykernel_launcher.py:71: RuntimeWarning: divide by zero encountered in log\n",
      "/usr/local/python/anaconda3/envs/pangeo3.7/lib/python3.6/site-packages/ipykernel_launcher.py:71: RuntimeWarning: divide by zero encountered in log\n",
      "/usr/local/python/anaconda3/envs/pangeo3.7/lib/python3.6/site-packages/ipykernel_launcher.py:71: RuntimeWarning: divide by zero encountered in log\n",
      "/usr/local/python/anaconda3/envs/pangeo3.7/lib/python3.6/site-packages/ipykernel_launcher.py:71: RuntimeWarning: divide by zero encountered in log\n",
      "/usr/local/python/anaconda3/envs/pangeo3.7/lib/python3.6/site-packages/ipykernel_launcher.py:71: RuntimeWarning: divide by zero encountered in log\n",
      "/usr/local/python/anaconda3/envs/pangeo3.7/lib/python3.6/site-packages/ipykernel_launcher.py:71: RuntimeWarning: divide by zero encountered in log\n",
      "/usr/local/python/anaconda3/envs/pangeo3.7/lib/python3.6/site-packages/ipykernel_launcher.py:71: RuntimeWarning: divide by zero encountered in log\n",
      "/usr/local/python/anaconda3/envs/pangeo3.7/lib/python3.6/site-packages/ipykernel_launcher.py:71: RuntimeWarning: divide by zero encountered in log\n",
      "/usr/local/python/anaconda3/envs/pangeo3.7/lib/python3.6/site-packages/ipykernel_launcher.py:71: RuntimeWarning: divide by zero encountered in log\n",
      "/usr/local/python/anaconda3/envs/pangeo3.7/lib/python3.6/site-packages/ipykernel_launcher.py:71: RuntimeWarning: divide by zero encountered in log\n",
      "/usr/local/python/anaconda3/envs/pangeo3.7/lib/python3.6/site-packages/ipykernel_launcher.py:71: RuntimeWarning: divide by zero encountered in log\n",
      "/usr/local/python/anaconda3/envs/pangeo3.7/lib/python3.6/site-packages/ipykernel_launcher.py:71: RuntimeWarning: divide by zero encountered in log\n",
      "/usr/local/python/anaconda3/envs/pangeo3.7/lib/python3.6/site-packages/ipykernel_launcher.py:71: RuntimeWarning: divide by zero encountered in log\n",
      "/usr/local/python/anaconda3/envs/pangeo3.7/lib/python3.6/site-packages/ipykernel_launcher.py:71: RuntimeWarning: divide by zero encountered in log\n",
      "/usr/local/python/anaconda3/envs/pangeo3.7/lib/python3.6/site-packages/ipykernel_launcher.py:71: RuntimeWarning: divide by zero encountered in log\n",
      "/usr/local/python/anaconda3/envs/pangeo3.7/lib/python3.6/site-packages/ipykernel_launcher.py:71: RuntimeWarning: divide by zero encountered in log\n",
      "/usr/local/python/anaconda3/envs/pangeo3.7/lib/python3.6/site-packages/ipykernel_launcher.py:71: RuntimeWarning: divide by zero encountered in log\n",
      "/usr/local/python/anaconda3/envs/pangeo3.7/lib/python3.6/site-packages/ipykernel_launcher.py:71: RuntimeWarning: divide by zero encountered in log\n"
     ]
    },
    {
     "name": "stdout",
     "output_type": "stream",
     "text": [
      "month 120\n"
     ]
    },
    {
     "name": "stderr",
     "output_type": "stream",
     "text": [
      "/usr/local/python/anaconda3/envs/pangeo3.7/lib/python3.6/site-packages/ipykernel_launcher.py:71: RuntimeWarning: divide by zero encountered in log\n",
      "/usr/local/python/anaconda3/envs/pangeo3.7/lib/python3.6/site-packages/ipykernel_launcher.py:71: RuntimeWarning: divide by zero encountered in log\n",
      "/usr/local/python/anaconda3/envs/pangeo3.7/lib/python3.6/site-packages/ipykernel_launcher.py:71: RuntimeWarning: divide by zero encountered in log\n",
      "/usr/local/python/anaconda3/envs/pangeo3.7/lib/python3.6/site-packages/ipykernel_launcher.py:71: RuntimeWarning: divide by zero encountered in log\n",
      "/usr/local/python/anaconda3/envs/pangeo3.7/lib/python3.6/site-packages/ipykernel_launcher.py:71: RuntimeWarning: divide by zero encountered in log\n",
      "/usr/local/python/anaconda3/envs/pangeo3.7/lib/python3.6/site-packages/ipykernel_launcher.py:71: RuntimeWarning: divide by zero encountered in log\n",
      "/usr/local/python/anaconda3/envs/pangeo3.7/lib/python3.6/site-packages/ipykernel_launcher.py:71: RuntimeWarning: divide by zero encountered in log\n",
      "/usr/local/python/anaconda3/envs/pangeo3.7/lib/python3.6/site-packages/ipykernel_launcher.py:71: RuntimeWarning: divide by zero encountered in log\n",
      "/usr/local/python/anaconda3/envs/pangeo3.7/lib/python3.6/site-packages/ipykernel_launcher.py:71: RuntimeWarning: divide by zero encountered in log\n",
      "/usr/local/python/anaconda3/envs/pangeo3.7/lib/python3.6/site-packages/ipykernel_launcher.py:71: RuntimeWarning: divide by zero encountered in log\n",
      "/usr/local/python/anaconda3/envs/pangeo3.7/lib/python3.6/site-packages/ipykernel_launcher.py:71: RuntimeWarning: divide by zero encountered in log\n",
      "/usr/local/python/anaconda3/envs/pangeo3.7/lib/python3.6/site-packages/ipykernel_launcher.py:71: RuntimeWarning: divide by zero encountered in log\n",
      "/usr/local/python/anaconda3/envs/pangeo3.7/lib/python3.6/site-packages/ipykernel_launcher.py:71: RuntimeWarning: divide by zero encountered in log\n",
      "/usr/local/python/anaconda3/envs/pangeo3.7/lib/python3.6/site-packages/ipykernel_launcher.py:71: RuntimeWarning: divide by zero encountered in log\n"
     ]
    },
    {
     "name": "stdout",
     "output_type": "stream",
     "text": [
      "month 140\n"
     ]
    },
    {
     "name": "stderr",
     "output_type": "stream",
     "text": [
      "/usr/local/python/anaconda3/envs/pangeo3.7/lib/python3.6/site-packages/ipykernel_launcher.py:71: RuntimeWarning: divide by zero encountered in log\n",
      "/usr/local/python/anaconda3/envs/pangeo3.7/lib/python3.6/site-packages/ipykernel_launcher.py:71: RuntimeWarning: divide by zero encountered in log\n",
      "/usr/local/python/anaconda3/envs/pangeo3.7/lib/python3.6/site-packages/ipykernel_launcher.py:71: RuntimeWarning: divide by zero encountered in log\n",
      "/usr/local/python/anaconda3/envs/pangeo3.7/lib/python3.6/site-packages/ipykernel_launcher.py:71: RuntimeWarning: divide by zero encountered in log\n",
      "/usr/local/python/anaconda3/envs/pangeo3.7/lib/python3.6/site-packages/ipykernel_launcher.py:71: RuntimeWarning: divide by zero encountered in log\n",
      "/usr/local/python/anaconda3/envs/pangeo3.7/lib/python3.6/site-packages/ipykernel_launcher.py:71: RuntimeWarning: divide by zero encountered in log\n",
      "/usr/local/python/anaconda3/envs/pangeo3.7/lib/python3.6/site-packages/ipykernel_launcher.py:71: RuntimeWarning: divide by zero encountered in log\n",
      "/usr/local/python/anaconda3/envs/pangeo3.7/lib/python3.6/site-packages/ipykernel_launcher.py:71: RuntimeWarning: divide by zero encountered in log\n",
      "/usr/local/python/anaconda3/envs/pangeo3.7/lib/python3.6/site-packages/ipykernel_launcher.py:71: RuntimeWarning: divide by zero encountered in log\n",
      "/usr/local/python/anaconda3/envs/pangeo3.7/lib/python3.6/site-packages/ipykernel_launcher.py:71: RuntimeWarning: divide by zero encountered in log\n",
      "/usr/local/python/anaconda3/envs/pangeo3.7/lib/python3.6/site-packages/ipykernel_launcher.py:71: RuntimeWarning: divide by zero encountered in log\n",
      "/usr/local/python/anaconda3/envs/pangeo3.7/lib/python3.6/site-packages/ipykernel_launcher.py:71: RuntimeWarning: divide by zero encountered in log\n",
      "/usr/local/python/anaconda3/envs/pangeo3.7/lib/python3.6/site-packages/ipykernel_launcher.py:71: RuntimeWarning: divide by zero encountered in log\n",
      "/usr/local/python/anaconda3/envs/pangeo3.7/lib/python3.6/site-packages/ipykernel_launcher.py:71: RuntimeWarning: divide by zero encountered in log\n",
      "/usr/local/python/anaconda3/envs/pangeo3.7/lib/python3.6/site-packages/ipykernel_launcher.py:71: RuntimeWarning: divide by zero encountered in log\n",
      "/usr/local/python/anaconda3/envs/pangeo3.7/lib/python3.6/site-packages/ipykernel_launcher.py:71: RuntimeWarning: divide by zero encountered in log\n",
      "/usr/local/python/anaconda3/envs/pangeo3.7/lib/python3.6/site-packages/ipykernel_launcher.py:71: RuntimeWarning: divide by zero encountered in log\n",
      "/usr/local/python/anaconda3/envs/pangeo3.7/lib/python3.6/site-packages/ipykernel_launcher.py:71: RuntimeWarning: divide by zero encountered in log\n",
      "/usr/local/python/anaconda3/envs/pangeo3.7/lib/python3.6/site-packages/ipykernel_launcher.py:71: RuntimeWarning: divide by zero encountered in log\n",
      "/usr/local/python/anaconda3/envs/pangeo3.7/lib/python3.6/site-packages/ipykernel_launcher.py:71: RuntimeWarning: divide by zero encountered in log\n"
     ]
    },
    {
     "name": "stdout",
     "output_type": "stream",
     "text": [
      "month 160\n"
     ]
    },
    {
     "name": "stderr",
     "output_type": "stream",
     "text": [
      "/usr/local/python/anaconda3/envs/pangeo3.7/lib/python3.6/site-packages/ipykernel_launcher.py:71: RuntimeWarning: divide by zero encountered in log\n",
      "/usr/local/python/anaconda3/envs/pangeo3.7/lib/python3.6/site-packages/ipykernel_launcher.py:71: RuntimeWarning: divide by zero encountered in log\n",
      "/usr/local/python/anaconda3/envs/pangeo3.7/lib/python3.6/site-packages/ipykernel_launcher.py:71: RuntimeWarning: divide by zero encountered in log\n",
      "/usr/local/python/anaconda3/envs/pangeo3.7/lib/python3.6/site-packages/ipykernel_launcher.py:71: RuntimeWarning: divide by zero encountered in log\n",
      "/usr/local/python/anaconda3/envs/pangeo3.7/lib/python3.6/site-packages/ipykernel_launcher.py:71: RuntimeWarning: divide by zero encountered in log\n",
      "/usr/local/python/anaconda3/envs/pangeo3.7/lib/python3.6/site-packages/ipykernel_launcher.py:71: RuntimeWarning: divide by zero encountered in log\n",
      "/usr/local/python/anaconda3/envs/pangeo3.7/lib/python3.6/site-packages/ipykernel_launcher.py:71: RuntimeWarning: divide by zero encountered in log\n",
      "/usr/local/python/anaconda3/envs/pangeo3.7/lib/python3.6/site-packages/ipykernel_launcher.py:71: RuntimeWarning: divide by zero encountered in log\n",
      "/usr/local/python/anaconda3/envs/pangeo3.7/lib/python3.6/site-packages/ipykernel_launcher.py:71: RuntimeWarning: divide by zero encountered in log\n",
      "/usr/local/python/anaconda3/envs/pangeo3.7/lib/python3.6/site-packages/ipykernel_launcher.py:71: RuntimeWarning: divide by zero encountered in log\n",
      "/usr/local/python/anaconda3/envs/pangeo3.7/lib/python3.6/site-packages/ipykernel_launcher.py:71: RuntimeWarning: divide by zero encountered in log\n",
      "/usr/local/python/anaconda3/envs/pangeo3.7/lib/python3.6/site-packages/ipykernel_launcher.py:71: RuntimeWarning: divide by zero encountered in log\n",
      "/usr/local/python/anaconda3/envs/pangeo3.7/lib/python3.6/site-packages/ipykernel_launcher.py:71: RuntimeWarning: divide by zero encountered in log\n",
      "/usr/local/python/anaconda3/envs/pangeo3.7/lib/python3.6/site-packages/ipykernel_launcher.py:71: RuntimeWarning: divide by zero encountered in log\n",
      "/usr/local/python/anaconda3/envs/pangeo3.7/lib/python3.6/site-packages/ipykernel_launcher.py:71: RuntimeWarning: divide by zero encountered in log\n",
      "/usr/local/python/anaconda3/envs/pangeo3.7/lib/python3.6/site-packages/ipykernel_launcher.py:71: RuntimeWarning: divide by zero encountered in log\n",
      "/usr/local/python/anaconda3/envs/pangeo3.7/lib/python3.6/site-packages/ipykernel_launcher.py:71: RuntimeWarning: divide by zero encountered in log\n",
      "/usr/local/python/anaconda3/envs/pangeo3.7/lib/python3.6/site-packages/ipykernel_launcher.py:71: RuntimeWarning: divide by zero encountered in log\n",
      "/usr/local/python/anaconda3/envs/pangeo3.7/lib/python3.6/site-packages/ipykernel_launcher.py:71: RuntimeWarning: divide by zero encountered in log\n"
     ]
    },
    {
     "name": "stdout",
     "output_type": "stream",
     "text": [
      "month 180\n"
     ]
    },
    {
     "name": "stderr",
     "output_type": "stream",
     "text": [
      "/usr/local/python/anaconda3/envs/pangeo3.7/lib/python3.6/site-packages/ipykernel_launcher.py:71: RuntimeWarning: divide by zero encountered in log\n",
      "/usr/local/python/anaconda3/envs/pangeo3.7/lib/python3.6/site-packages/ipykernel_launcher.py:71: RuntimeWarning: divide by zero encountered in log\n",
      "/usr/local/python/anaconda3/envs/pangeo3.7/lib/python3.6/site-packages/ipykernel_launcher.py:71: RuntimeWarning: divide by zero encountered in log\n",
      "/usr/local/python/anaconda3/envs/pangeo3.7/lib/python3.6/site-packages/ipykernel_launcher.py:71: RuntimeWarning: divide by zero encountered in log\n",
      "/usr/local/python/anaconda3/envs/pangeo3.7/lib/python3.6/site-packages/ipykernel_launcher.py:71: RuntimeWarning: divide by zero encountered in log\n",
      "/usr/local/python/anaconda3/envs/pangeo3.7/lib/python3.6/site-packages/ipykernel_launcher.py:71: RuntimeWarning: divide by zero encountered in log\n",
      "/usr/local/python/anaconda3/envs/pangeo3.7/lib/python3.6/site-packages/ipykernel_launcher.py:71: RuntimeWarning: divide by zero encountered in log\n",
      "/usr/local/python/anaconda3/envs/pangeo3.7/lib/python3.6/site-packages/ipykernel_launcher.py:71: RuntimeWarning: divide by zero encountered in log\n",
      "/usr/local/python/anaconda3/envs/pangeo3.7/lib/python3.6/site-packages/ipykernel_launcher.py:71: RuntimeWarning: divide by zero encountered in log\n",
      "/usr/local/python/anaconda3/envs/pangeo3.7/lib/python3.6/site-packages/ipykernel_launcher.py:71: RuntimeWarning: divide by zero encountered in log\n",
      "/usr/local/python/anaconda3/envs/pangeo3.7/lib/python3.6/site-packages/ipykernel_launcher.py:71: RuntimeWarning: divide by zero encountered in log\n",
      "/usr/local/python/anaconda3/envs/pangeo3.7/lib/python3.6/site-packages/ipykernel_launcher.py:71: RuntimeWarning: divide by zero encountered in log\n",
      "/usr/local/python/anaconda3/envs/pangeo3.7/lib/python3.6/site-packages/ipykernel_launcher.py:71: RuntimeWarning: divide by zero encountered in log\n",
      "/usr/local/python/anaconda3/envs/pangeo3.7/lib/python3.6/site-packages/ipykernel_launcher.py:71: RuntimeWarning: divide by zero encountered in log\n",
      "/usr/local/python/anaconda3/envs/pangeo3.7/lib/python3.6/site-packages/ipykernel_launcher.py:71: RuntimeWarning: divide by zero encountered in log\n",
      "/usr/local/python/anaconda3/envs/pangeo3.7/lib/python3.6/site-packages/ipykernel_launcher.py:71: RuntimeWarning: divide by zero encountered in log\n",
      "/usr/local/python/anaconda3/envs/pangeo3.7/lib/python3.6/site-packages/ipykernel_launcher.py:71: RuntimeWarning: divide by zero encountered in log\n",
      "/usr/local/python/anaconda3/envs/pangeo3.7/lib/python3.6/site-packages/ipykernel_launcher.py:71: RuntimeWarning: divide by zero encountered in log\n",
      "/usr/local/python/anaconda3/envs/pangeo3.7/lib/python3.6/site-packages/ipykernel_launcher.py:71: RuntimeWarning: divide by zero encountered in log\n"
     ]
    },
    {
     "name": "stdout",
     "output_type": "stream",
     "text": [
      "month 200\n"
     ]
    },
    {
     "name": "stderr",
     "output_type": "stream",
     "text": [
      "/usr/local/python/anaconda3/envs/pangeo3.7/lib/python3.6/site-packages/ipykernel_launcher.py:71: RuntimeWarning: divide by zero encountered in log\n",
      "/usr/local/python/anaconda3/envs/pangeo3.7/lib/python3.6/site-packages/ipykernel_launcher.py:71: RuntimeWarning: divide by zero encountered in log\n",
      "/usr/local/python/anaconda3/envs/pangeo3.7/lib/python3.6/site-packages/ipykernel_launcher.py:71: RuntimeWarning: divide by zero encountered in log\n",
      "/usr/local/python/anaconda3/envs/pangeo3.7/lib/python3.6/site-packages/ipykernel_launcher.py:71: RuntimeWarning: divide by zero encountered in log\n",
      "/usr/local/python/anaconda3/envs/pangeo3.7/lib/python3.6/site-packages/ipykernel_launcher.py:71: RuntimeWarning: divide by zero encountered in log\n",
      "/usr/local/python/anaconda3/envs/pangeo3.7/lib/python3.6/site-packages/ipykernel_launcher.py:71: RuntimeWarning: divide by zero encountered in log\n",
      "/usr/local/python/anaconda3/envs/pangeo3.7/lib/python3.6/site-packages/ipykernel_launcher.py:71: RuntimeWarning: divide by zero encountered in log\n",
      "/usr/local/python/anaconda3/envs/pangeo3.7/lib/python3.6/site-packages/ipykernel_launcher.py:71: RuntimeWarning: divide by zero encountered in log\n",
      "/usr/local/python/anaconda3/envs/pangeo3.7/lib/python3.6/site-packages/ipykernel_launcher.py:71: RuntimeWarning: divide by zero encountered in log\n",
      "/usr/local/python/anaconda3/envs/pangeo3.7/lib/python3.6/site-packages/ipykernel_launcher.py:71: RuntimeWarning: divide by zero encountered in log\n",
      "/usr/local/python/anaconda3/envs/pangeo3.7/lib/python3.6/site-packages/ipykernel_launcher.py:71: RuntimeWarning: divide by zero encountered in log\n",
      "/usr/local/python/anaconda3/envs/pangeo3.7/lib/python3.6/site-packages/ipykernel_launcher.py:71: RuntimeWarning: divide by zero encountered in log\n",
      "/usr/local/python/anaconda3/envs/pangeo3.7/lib/python3.6/site-packages/ipykernel_launcher.py:71: RuntimeWarning: divide by zero encountered in log\n",
      "/usr/local/python/anaconda3/envs/pangeo3.7/lib/python3.6/site-packages/ipykernel_launcher.py:71: RuntimeWarning: divide by zero encountered in log\n",
      "/usr/local/python/anaconda3/envs/pangeo3.7/lib/python3.6/site-packages/ipykernel_launcher.py:71: RuntimeWarning: divide by zero encountered in log\n",
      "/usr/local/python/anaconda3/envs/pangeo3.7/lib/python3.6/site-packages/ipykernel_launcher.py:71: RuntimeWarning: divide by zero encountered in log\n",
      "/usr/local/python/anaconda3/envs/pangeo3.7/lib/python3.6/site-packages/ipykernel_launcher.py:71: RuntimeWarning: divide by zero encountered in log\n",
      "/usr/local/python/anaconda3/envs/pangeo3.7/lib/python3.6/site-packages/ipykernel_launcher.py:71: RuntimeWarning: divide by zero encountered in log\n",
      "/usr/local/python/anaconda3/envs/pangeo3.7/lib/python3.6/site-packages/ipykernel_launcher.py:71: RuntimeWarning: divide by zero encountered in log\n",
      "/usr/local/python/anaconda3/envs/pangeo3.7/lib/python3.6/site-packages/ipykernel_launcher.py:71: RuntimeWarning: divide by zero encountered in log\n"
     ]
    },
    {
     "name": "stdout",
     "output_type": "stream",
     "text": [
      "month 220\n"
     ]
    },
    {
     "name": "stderr",
     "output_type": "stream",
     "text": [
      "/usr/local/python/anaconda3/envs/pangeo3.7/lib/python3.6/site-packages/ipykernel_launcher.py:71: RuntimeWarning: divide by zero encountered in log\n",
      "/usr/local/python/anaconda3/envs/pangeo3.7/lib/python3.6/site-packages/ipykernel_launcher.py:71: RuntimeWarning: divide by zero encountered in log\n",
      "/usr/local/python/anaconda3/envs/pangeo3.7/lib/python3.6/site-packages/ipykernel_launcher.py:71: RuntimeWarning: divide by zero encountered in log\n",
      "/usr/local/python/anaconda3/envs/pangeo3.7/lib/python3.6/site-packages/ipykernel_launcher.py:71: RuntimeWarning: divide by zero encountered in log\n",
      "/usr/local/python/anaconda3/envs/pangeo3.7/lib/python3.6/site-packages/ipykernel_launcher.py:71: RuntimeWarning: divide by zero encountered in log\n",
      "/usr/local/python/anaconda3/envs/pangeo3.7/lib/python3.6/site-packages/ipykernel_launcher.py:71: RuntimeWarning: divide by zero encountered in log\n",
      "/usr/local/python/anaconda3/envs/pangeo3.7/lib/python3.6/site-packages/ipykernel_launcher.py:71: RuntimeWarning: divide by zero encountered in log\n",
      "/usr/local/python/anaconda3/envs/pangeo3.7/lib/python3.6/site-packages/ipykernel_launcher.py:71: RuntimeWarning: divide by zero encountered in log\n",
      "/usr/local/python/anaconda3/envs/pangeo3.7/lib/python3.6/site-packages/ipykernel_launcher.py:71: RuntimeWarning: divide by zero encountered in log\n",
      "/usr/local/python/anaconda3/envs/pangeo3.7/lib/python3.6/site-packages/ipykernel_launcher.py:71: RuntimeWarning: divide by zero encountered in log\n",
      "/usr/local/python/anaconda3/envs/pangeo3.7/lib/python3.6/site-packages/ipykernel_launcher.py:71: RuntimeWarning: divide by zero encountered in log\n",
      "/usr/local/python/anaconda3/envs/pangeo3.7/lib/python3.6/site-packages/ipykernel_launcher.py:71: RuntimeWarning: divide by zero encountered in log\n",
      "/usr/local/python/anaconda3/envs/pangeo3.7/lib/python3.6/site-packages/ipykernel_launcher.py:71: RuntimeWarning: divide by zero encountered in log\n",
      "/usr/local/python/anaconda3/envs/pangeo3.7/lib/python3.6/site-packages/ipykernel_launcher.py:71: RuntimeWarning: divide by zero encountered in log\n",
      "/usr/local/python/anaconda3/envs/pangeo3.7/lib/python3.6/site-packages/ipykernel_launcher.py:71: RuntimeWarning: divide by zero encountered in log\n",
      "/usr/local/python/anaconda3/envs/pangeo3.7/lib/python3.6/site-packages/ipykernel_launcher.py:71: RuntimeWarning: divide by zero encountered in log\n"
     ]
    },
    {
     "name": "stdout",
     "output_type": "stream",
     "text": [
      "month 240\n"
     ]
    },
    {
     "name": "stderr",
     "output_type": "stream",
     "text": [
      "/usr/local/python/anaconda3/envs/pangeo3.7/lib/python3.6/site-packages/ipykernel_launcher.py:71: RuntimeWarning: divide by zero encountered in log\n",
      "/usr/local/python/anaconda3/envs/pangeo3.7/lib/python3.6/site-packages/ipykernel_launcher.py:71: RuntimeWarning: divide by zero encountered in log\n",
      "/usr/local/python/anaconda3/envs/pangeo3.7/lib/python3.6/site-packages/ipykernel_launcher.py:71: RuntimeWarning: divide by zero encountered in log\n",
      "/usr/local/python/anaconda3/envs/pangeo3.7/lib/python3.6/site-packages/ipykernel_launcher.py:71: RuntimeWarning: divide by zero encountered in log\n",
      "/usr/local/python/anaconda3/envs/pangeo3.7/lib/python3.6/site-packages/ipykernel_launcher.py:71: RuntimeWarning: divide by zero encountered in log\n",
      "/usr/local/python/anaconda3/envs/pangeo3.7/lib/python3.6/site-packages/ipykernel_launcher.py:71: RuntimeWarning: divide by zero encountered in log\n",
      "/usr/local/python/anaconda3/envs/pangeo3.7/lib/python3.6/site-packages/ipykernel_launcher.py:71: RuntimeWarning: divide by zero encountered in log\n",
      "/usr/local/python/anaconda3/envs/pangeo3.7/lib/python3.6/site-packages/ipykernel_launcher.py:71: RuntimeWarning: divide by zero encountered in log\n",
      "/usr/local/python/anaconda3/envs/pangeo3.7/lib/python3.6/site-packages/ipykernel_launcher.py:71: RuntimeWarning: divide by zero encountered in log\n",
      "/usr/local/python/anaconda3/envs/pangeo3.7/lib/python3.6/site-packages/ipykernel_launcher.py:71: RuntimeWarning: divide by zero encountered in log\n",
      "/usr/local/python/anaconda3/envs/pangeo3.7/lib/python3.6/site-packages/ipykernel_launcher.py:71: RuntimeWarning: divide by zero encountered in log\n",
      "/usr/local/python/anaconda3/envs/pangeo3.7/lib/python3.6/site-packages/ipykernel_launcher.py:71: RuntimeWarning: divide by zero encountered in log\n",
      "/usr/local/python/anaconda3/envs/pangeo3.7/lib/python3.6/site-packages/ipykernel_launcher.py:71: RuntimeWarning: divide by zero encountered in log\n",
      "/usr/local/python/anaconda3/envs/pangeo3.7/lib/python3.6/site-packages/ipykernel_launcher.py:71: RuntimeWarning: divide by zero encountered in log\n",
      "/usr/local/python/anaconda3/envs/pangeo3.7/lib/python3.6/site-packages/ipykernel_launcher.py:71: RuntimeWarning: divide by zero encountered in log\n",
      "/usr/local/python/anaconda3/envs/pangeo3.7/lib/python3.6/site-packages/ipykernel_launcher.py:71: RuntimeWarning: divide by zero encountered in log\n",
      "/usr/local/python/anaconda3/envs/pangeo3.7/lib/python3.6/site-packages/ipykernel_launcher.py:71: RuntimeWarning: divide by zero encountered in log\n",
      "/usr/local/python/anaconda3/envs/pangeo3.7/lib/python3.6/site-packages/ipykernel_launcher.py:71: RuntimeWarning: divide by zero encountered in log\n"
     ]
    },
    {
     "name": "stdout",
     "output_type": "stream",
     "text": [
      "month 260\n"
     ]
    },
    {
     "name": "stderr",
     "output_type": "stream",
     "text": [
      "/usr/local/python/anaconda3/envs/pangeo3.7/lib/python3.6/site-packages/ipykernel_launcher.py:71: RuntimeWarning: divide by zero encountered in log\n",
      "/usr/local/python/anaconda3/envs/pangeo3.7/lib/python3.6/site-packages/ipykernel_launcher.py:71: RuntimeWarning: divide by zero encountered in log\n",
      "/usr/local/python/anaconda3/envs/pangeo3.7/lib/python3.6/site-packages/ipykernel_launcher.py:71: RuntimeWarning: divide by zero encountered in log\n",
      "/usr/local/python/anaconda3/envs/pangeo3.7/lib/python3.6/site-packages/ipykernel_launcher.py:71: RuntimeWarning: divide by zero encountered in log\n",
      "/usr/local/python/anaconda3/envs/pangeo3.7/lib/python3.6/site-packages/ipykernel_launcher.py:71: RuntimeWarning: divide by zero encountered in log\n",
      "/usr/local/python/anaconda3/envs/pangeo3.7/lib/python3.6/site-packages/ipykernel_launcher.py:71: RuntimeWarning: divide by zero encountered in log\n",
      "/usr/local/python/anaconda3/envs/pangeo3.7/lib/python3.6/site-packages/ipykernel_launcher.py:71: RuntimeWarning: divide by zero encountered in log\n",
      "/usr/local/python/anaconda3/envs/pangeo3.7/lib/python3.6/site-packages/ipykernel_launcher.py:71: RuntimeWarning: divide by zero encountered in log\n",
      "/usr/local/python/anaconda3/envs/pangeo3.7/lib/python3.6/site-packages/ipykernel_launcher.py:71: RuntimeWarning: divide by zero encountered in log\n",
      "/usr/local/python/anaconda3/envs/pangeo3.7/lib/python3.6/site-packages/ipykernel_launcher.py:71: RuntimeWarning: divide by zero encountered in log\n",
      "/usr/local/python/anaconda3/envs/pangeo3.7/lib/python3.6/site-packages/ipykernel_launcher.py:71: RuntimeWarning: divide by zero encountered in log\n",
      "/usr/local/python/anaconda3/envs/pangeo3.7/lib/python3.6/site-packages/ipykernel_launcher.py:71: RuntimeWarning: divide by zero encountered in log\n",
      "/usr/local/python/anaconda3/envs/pangeo3.7/lib/python3.6/site-packages/ipykernel_launcher.py:71: RuntimeWarning: divide by zero encountered in log\n",
      "/usr/local/python/anaconda3/envs/pangeo3.7/lib/python3.6/site-packages/ipykernel_launcher.py:71: RuntimeWarning: divide by zero encountered in log\n",
      "/usr/local/python/anaconda3/envs/pangeo3.7/lib/python3.6/site-packages/ipykernel_launcher.py:71: RuntimeWarning: divide by zero encountered in log\n",
      "/usr/local/python/anaconda3/envs/pangeo3.7/lib/python3.6/site-packages/ipykernel_launcher.py:71: RuntimeWarning: divide by zero encountered in log\n",
      "/usr/local/python/anaconda3/envs/pangeo3.7/lib/python3.6/site-packages/ipykernel_launcher.py:71: RuntimeWarning: divide by zero encountered in log\n",
      "/usr/local/python/anaconda3/envs/pangeo3.7/lib/python3.6/site-packages/ipykernel_launcher.py:71: RuntimeWarning: divide by zero encountered in log\n",
      "/usr/local/python/anaconda3/envs/pangeo3.7/lib/python3.6/site-packages/ipykernel_launcher.py:71: RuntimeWarning: divide by zero encountered in log\n",
      "/usr/local/python/anaconda3/envs/pangeo3.7/lib/python3.6/site-packages/ipykernel_launcher.py:71: RuntimeWarning: divide by zero encountered in log\n"
     ]
    },
    {
     "name": "stdout",
     "output_type": "stream",
     "text": [
      "month 280\n"
     ]
    },
    {
     "name": "stderr",
     "output_type": "stream",
     "text": [
      "/usr/local/python/anaconda3/envs/pangeo3.7/lib/python3.6/site-packages/ipykernel_launcher.py:71: RuntimeWarning: divide by zero encountered in log\n",
      "/usr/local/python/anaconda3/envs/pangeo3.7/lib/python3.6/site-packages/ipykernel_launcher.py:71: RuntimeWarning: divide by zero encountered in log\n",
      "/usr/local/python/anaconda3/envs/pangeo3.7/lib/python3.6/site-packages/ipykernel_launcher.py:71: RuntimeWarning: divide by zero encountered in log\n",
      "/usr/local/python/anaconda3/envs/pangeo3.7/lib/python3.6/site-packages/ipykernel_launcher.py:71: RuntimeWarning: divide by zero encountered in log\n",
      "/usr/local/python/anaconda3/envs/pangeo3.7/lib/python3.6/site-packages/ipykernel_launcher.py:71: RuntimeWarning: divide by zero encountered in log\n",
      "/usr/local/python/anaconda3/envs/pangeo3.7/lib/python3.6/site-packages/ipykernel_launcher.py:71: RuntimeWarning: divide by zero encountered in log\n",
      "/usr/local/python/anaconda3/envs/pangeo3.7/lib/python3.6/site-packages/ipykernel_launcher.py:71: RuntimeWarning: divide by zero encountered in log\n",
      "/usr/local/python/anaconda3/envs/pangeo3.7/lib/python3.6/site-packages/ipykernel_launcher.py:71: RuntimeWarning: divide by zero encountered in log\n",
      "/usr/local/python/anaconda3/envs/pangeo3.7/lib/python3.6/site-packages/ipykernel_launcher.py:71: RuntimeWarning: divide by zero encountered in log\n",
      "/usr/local/python/anaconda3/envs/pangeo3.7/lib/python3.6/site-packages/ipykernel_launcher.py:71: RuntimeWarning: divide by zero encountered in log\n",
      "/usr/local/python/anaconda3/envs/pangeo3.7/lib/python3.6/site-packages/ipykernel_launcher.py:71: RuntimeWarning: divide by zero encountered in log\n",
      "/usr/local/python/anaconda3/envs/pangeo3.7/lib/python3.6/site-packages/ipykernel_launcher.py:71: RuntimeWarning: divide by zero encountered in log\n",
      "/usr/local/python/anaconda3/envs/pangeo3.7/lib/python3.6/site-packages/ipykernel_launcher.py:71: RuntimeWarning: divide by zero encountered in log\n",
      "/usr/local/python/anaconda3/envs/pangeo3.7/lib/python3.6/site-packages/ipykernel_launcher.py:71: RuntimeWarning: divide by zero encountered in log\n",
      "/usr/local/python/anaconda3/envs/pangeo3.7/lib/python3.6/site-packages/ipykernel_launcher.py:71: RuntimeWarning: divide by zero encountered in log\n",
      "/usr/local/python/anaconda3/envs/pangeo3.7/lib/python3.6/site-packages/ipykernel_launcher.py:71: RuntimeWarning: divide by zero encountered in log\n",
      "/usr/local/python/anaconda3/envs/pangeo3.7/lib/python3.6/site-packages/ipykernel_launcher.py:71: RuntimeWarning: divide by zero encountered in log\n",
      "/usr/local/python/anaconda3/envs/pangeo3.7/lib/python3.6/site-packages/ipykernel_launcher.py:71: RuntimeWarning: divide by zero encountered in log\n",
      "/usr/local/python/anaconda3/envs/pangeo3.7/lib/python3.6/site-packages/ipykernel_launcher.py:71: RuntimeWarning: divide by zero encountered in log\n",
      "/usr/local/python/anaconda3/envs/pangeo3.7/lib/python3.6/site-packages/ipykernel_launcher.py:71: RuntimeWarning: divide by zero encountered in log\n"
     ]
    },
    {
     "name": "stdout",
     "output_type": "stream",
     "text": [
      "month 300\n"
     ]
    },
    {
     "name": "stderr",
     "output_type": "stream",
     "text": [
      "/usr/local/python/anaconda3/envs/pangeo3.7/lib/python3.6/site-packages/ipykernel_launcher.py:71: RuntimeWarning: divide by zero encountered in log\n",
      "/usr/local/python/anaconda3/envs/pangeo3.7/lib/python3.6/site-packages/ipykernel_launcher.py:71: RuntimeWarning: divide by zero encountered in log\n",
      "/usr/local/python/anaconda3/envs/pangeo3.7/lib/python3.6/site-packages/ipykernel_launcher.py:71: RuntimeWarning: divide by zero encountered in log\n",
      "/usr/local/python/anaconda3/envs/pangeo3.7/lib/python3.6/site-packages/ipykernel_launcher.py:71: RuntimeWarning: divide by zero encountered in log\n",
      "/usr/local/python/anaconda3/envs/pangeo3.7/lib/python3.6/site-packages/ipykernel_launcher.py:71: RuntimeWarning: divide by zero encountered in log\n",
      "/usr/local/python/anaconda3/envs/pangeo3.7/lib/python3.6/site-packages/ipykernel_launcher.py:71: RuntimeWarning: divide by zero encountered in log\n",
      "/usr/local/python/anaconda3/envs/pangeo3.7/lib/python3.6/site-packages/ipykernel_launcher.py:71: RuntimeWarning: divide by zero encountered in log\n",
      "/usr/local/python/anaconda3/envs/pangeo3.7/lib/python3.6/site-packages/ipykernel_launcher.py:71: RuntimeWarning: divide by zero encountered in log\n",
      "/usr/local/python/anaconda3/envs/pangeo3.7/lib/python3.6/site-packages/ipykernel_launcher.py:71: RuntimeWarning: divide by zero encountered in log\n",
      "/usr/local/python/anaconda3/envs/pangeo3.7/lib/python3.6/site-packages/ipykernel_launcher.py:71: RuntimeWarning: divide by zero encountered in log\n",
      "/usr/local/python/anaconda3/envs/pangeo3.7/lib/python3.6/site-packages/ipykernel_launcher.py:71: RuntimeWarning: divide by zero encountered in log\n",
      "/usr/local/python/anaconda3/envs/pangeo3.7/lib/python3.6/site-packages/ipykernel_launcher.py:71: RuntimeWarning: divide by zero encountered in log\n",
      "/usr/local/python/anaconda3/envs/pangeo3.7/lib/python3.6/site-packages/ipykernel_launcher.py:71: RuntimeWarning: divide by zero encountered in log\n",
      "/usr/local/python/anaconda3/envs/pangeo3.7/lib/python3.6/site-packages/ipykernel_launcher.py:71: RuntimeWarning: divide by zero encountered in log\n",
      "/usr/local/python/anaconda3/envs/pangeo3.7/lib/python3.6/site-packages/ipykernel_launcher.py:71: RuntimeWarning: divide by zero encountered in log\n",
      "/usr/local/python/anaconda3/envs/pangeo3.7/lib/python3.6/site-packages/ipykernel_launcher.py:71: RuntimeWarning: divide by zero encountered in log\n",
      "/usr/local/python/anaconda3/envs/pangeo3.7/lib/python3.6/site-packages/ipykernel_launcher.py:71: RuntimeWarning: divide by zero encountered in log\n",
      "/usr/local/python/anaconda3/envs/pangeo3.7/lib/python3.6/site-packages/ipykernel_launcher.py:71: RuntimeWarning: divide by zero encountered in log\n"
     ]
    },
    {
     "name": "stdout",
     "output_type": "stream",
     "text": [
      "month 320\n"
     ]
    },
    {
     "name": "stderr",
     "output_type": "stream",
     "text": [
      "/usr/local/python/anaconda3/envs/pangeo3.7/lib/python3.6/site-packages/ipykernel_launcher.py:71: RuntimeWarning: divide by zero encountered in log\n",
      "/usr/local/python/anaconda3/envs/pangeo3.7/lib/python3.6/site-packages/ipykernel_launcher.py:71: RuntimeWarning: divide by zero encountered in log\n",
      "/usr/local/python/anaconda3/envs/pangeo3.7/lib/python3.6/site-packages/ipykernel_launcher.py:71: RuntimeWarning: divide by zero encountered in log\n",
      "/usr/local/python/anaconda3/envs/pangeo3.7/lib/python3.6/site-packages/ipykernel_launcher.py:71: RuntimeWarning: divide by zero encountered in log\n",
      "/usr/local/python/anaconda3/envs/pangeo3.7/lib/python3.6/site-packages/ipykernel_launcher.py:71: RuntimeWarning: divide by zero encountered in log\n",
      "/usr/local/python/anaconda3/envs/pangeo3.7/lib/python3.6/site-packages/ipykernel_launcher.py:71: RuntimeWarning: divide by zero encountered in log\n",
      "/usr/local/python/anaconda3/envs/pangeo3.7/lib/python3.6/site-packages/ipykernel_launcher.py:71: RuntimeWarning: divide by zero encountered in log\n",
      "/usr/local/python/anaconda3/envs/pangeo3.7/lib/python3.6/site-packages/ipykernel_launcher.py:71: RuntimeWarning: divide by zero encountered in log\n",
      "/usr/local/python/anaconda3/envs/pangeo3.7/lib/python3.6/site-packages/ipykernel_launcher.py:71: RuntimeWarning: divide by zero encountered in log\n",
      "/usr/local/python/anaconda3/envs/pangeo3.7/lib/python3.6/site-packages/ipykernel_launcher.py:71: RuntimeWarning: divide by zero encountered in log\n",
      "/usr/local/python/anaconda3/envs/pangeo3.7/lib/python3.6/site-packages/ipykernel_launcher.py:71: RuntimeWarning: divide by zero encountered in log\n",
      "/usr/local/python/anaconda3/envs/pangeo3.7/lib/python3.6/site-packages/ipykernel_launcher.py:71: RuntimeWarning: divide by zero encountered in log\n",
      "/usr/local/python/anaconda3/envs/pangeo3.7/lib/python3.6/site-packages/ipykernel_launcher.py:71: RuntimeWarning: divide by zero encountered in log\n",
      "/usr/local/python/anaconda3/envs/pangeo3.7/lib/python3.6/site-packages/ipykernel_launcher.py:71: RuntimeWarning: divide by zero encountered in log\n",
      "/usr/local/python/anaconda3/envs/pangeo3.7/lib/python3.6/site-packages/ipykernel_launcher.py:71: RuntimeWarning: divide by zero encountered in log\n",
      "/usr/local/python/anaconda3/envs/pangeo3.7/lib/python3.6/site-packages/ipykernel_launcher.py:71: RuntimeWarning: divide by zero encountered in log\n",
      "/usr/local/python/anaconda3/envs/pangeo3.7/lib/python3.6/site-packages/ipykernel_launcher.py:71: RuntimeWarning: divide by zero encountered in log\n",
      "/usr/local/python/anaconda3/envs/pangeo3.7/lib/python3.6/site-packages/ipykernel_launcher.py:71: RuntimeWarning: divide by zero encountered in log\n",
      "/usr/local/python/anaconda3/envs/pangeo3.7/lib/python3.6/site-packages/ipykernel_launcher.py:71: RuntimeWarning: divide by zero encountered in log\n"
     ]
    },
    {
     "name": "stdout",
     "output_type": "stream",
     "text": [
      "month 340\n"
     ]
    },
    {
     "name": "stderr",
     "output_type": "stream",
     "text": [
      "/usr/local/python/anaconda3/envs/pangeo3.7/lib/python3.6/site-packages/ipykernel_launcher.py:71: RuntimeWarning: divide by zero encountered in log\n",
      "/usr/local/python/anaconda3/envs/pangeo3.7/lib/python3.6/site-packages/ipykernel_launcher.py:71: RuntimeWarning: divide by zero encountered in log\n",
      "/usr/local/python/anaconda3/envs/pangeo3.7/lib/python3.6/site-packages/ipykernel_launcher.py:71: RuntimeWarning: divide by zero encountered in log\n",
      "/usr/local/python/anaconda3/envs/pangeo3.7/lib/python3.6/site-packages/ipykernel_launcher.py:71: RuntimeWarning: divide by zero encountered in log\n",
      "/usr/local/python/anaconda3/envs/pangeo3.7/lib/python3.6/site-packages/ipykernel_launcher.py:71: RuntimeWarning: divide by zero encountered in log\n",
      "/usr/local/python/anaconda3/envs/pangeo3.7/lib/python3.6/site-packages/ipykernel_launcher.py:71: RuntimeWarning: divide by zero encountered in log\n",
      "/usr/local/python/anaconda3/envs/pangeo3.7/lib/python3.6/site-packages/ipykernel_launcher.py:71: RuntimeWarning: divide by zero encountered in log\n",
      "/usr/local/python/anaconda3/envs/pangeo3.7/lib/python3.6/site-packages/ipykernel_launcher.py:71: RuntimeWarning: divide by zero encountered in log\n",
      "/usr/local/python/anaconda3/envs/pangeo3.7/lib/python3.6/site-packages/ipykernel_launcher.py:71: RuntimeWarning: divide by zero encountered in log\n",
      "/usr/local/python/anaconda3/envs/pangeo3.7/lib/python3.6/site-packages/ipykernel_launcher.py:71: RuntimeWarning: divide by zero encountered in log\n",
      "/usr/local/python/anaconda3/envs/pangeo3.7/lib/python3.6/site-packages/ipykernel_launcher.py:71: RuntimeWarning: divide by zero encountered in log\n",
      "/usr/local/python/anaconda3/envs/pangeo3.7/lib/python3.6/site-packages/ipykernel_launcher.py:71: RuntimeWarning: divide by zero encountered in log\n",
      "/usr/local/python/anaconda3/envs/pangeo3.7/lib/python3.6/site-packages/ipykernel_launcher.py:71: RuntimeWarning: divide by zero encountered in log\n",
      "/usr/local/python/anaconda3/envs/pangeo3.7/lib/python3.6/site-packages/ipykernel_launcher.py:71: RuntimeWarning: divide by zero encountered in log\n",
      "/usr/local/python/anaconda3/envs/pangeo3.7/lib/python3.6/site-packages/ipykernel_launcher.py:71: RuntimeWarning: divide by zero encountered in log\n",
      "/usr/local/python/anaconda3/envs/pangeo3.7/lib/python3.6/site-packages/ipykernel_launcher.py:71: RuntimeWarning: divide by zero encountered in log\n",
      "/usr/local/python/anaconda3/envs/pangeo3.7/lib/python3.6/site-packages/ipykernel_launcher.py:71: RuntimeWarning: divide by zero encountered in log\n"
     ]
    },
    {
     "name": "stdout",
     "output_type": "stream",
     "text": [
      "month 360\n"
     ]
    },
    {
     "name": "stderr",
     "output_type": "stream",
     "text": [
      "/usr/local/python/anaconda3/envs/pangeo3.7/lib/python3.6/site-packages/ipykernel_launcher.py:71: RuntimeWarning: divide by zero encountered in log\n",
      "/usr/local/python/anaconda3/envs/pangeo3.7/lib/python3.6/site-packages/ipykernel_launcher.py:71: RuntimeWarning: divide by zero encountered in log\n",
      "/usr/local/python/anaconda3/envs/pangeo3.7/lib/python3.6/site-packages/ipykernel_launcher.py:71: RuntimeWarning: divide by zero encountered in log\n",
      "/usr/local/python/anaconda3/envs/pangeo3.7/lib/python3.6/site-packages/ipykernel_launcher.py:71: RuntimeWarning: divide by zero encountered in log\n",
      "/usr/local/python/anaconda3/envs/pangeo3.7/lib/python3.6/site-packages/ipykernel_launcher.py:71: RuntimeWarning: divide by zero encountered in log\n",
      "/usr/local/python/anaconda3/envs/pangeo3.7/lib/python3.6/site-packages/ipykernel_launcher.py:71: RuntimeWarning: divide by zero encountered in log\n",
      "/usr/local/python/anaconda3/envs/pangeo3.7/lib/python3.6/site-packages/ipykernel_launcher.py:71: RuntimeWarning: divide by zero encountered in log\n",
      "/usr/local/python/anaconda3/envs/pangeo3.7/lib/python3.6/site-packages/ipykernel_launcher.py:71: RuntimeWarning: divide by zero encountered in log\n",
      "/usr/local/python/anaconda3/envs/pangeo3.7/lib/python3.6/site-packages/ipykernel_launcher.py:71: RuntimeWarning: divide by zero encountered in log\n",
      "/usr/local/python/anaconda3/envs/pangeo3.7/lib/python3.6/site-packages/ipykernel_launcher.py:71: RuntimeWarning: divide by zero encountered in log\n",
      "/usr/local/python/anaconda3/envs/pangeo3.7/lib/python3.6/site-packages/ipykernel_launcher.py:71: RuntimeWarning: divide by zero encountered in log\n",
      "/usr/local/python/anaconda3/envs/pangeo3.7/lib/python3.6/site-packages/ipykernel_launcher.py:71: RuntimeWarning: divide by zero encountered in log\n",
      "/usr/local/python/anaconda3/envs/pangeo3.7/lib/python3.6/site-packages/ipykernel_launcher.py:71: RuntimeWarning: divide by zero encountered in log\n",
      "/usr/local/python/anaconda3/envs/pangeo3.7/lib/python3.6/site-packages/ipykernel_launcher.py:71: RuntimeWarning: divide by zero encountered in log\n"
     ]
    },
    {
     "name": "stdout",
     "output_type": "stream",
     "text": [
      "month 380\n"
     ]
    },
    {
     "name": "stderr",
     "output_type": "stream",
     "text": [
      "/usr/local/python/anaconda3/envs/pangeo3.7/lib/python3.6/site-packages/ipykernel_launcher.py:71: RuntimeWarning: divide by zero encountered in log\n",
      "/usr/local/python/anaconda3/envs/pangeo3.7/lib/python3.6/site-packages/ipykernel_launcher.py:71: RuntimeWarning: divide by zero encountered in log\n",
      "/usr/local/python/anaconda3/envs/pangeo3.7/lib/python3.6/site-packages/ipykernel_launcher.py:71: RuntimeWarning: divide by zero encountered in log\n",
      "/usr/local/python/anaconda3/envs/pangeo3.7/lib/python3.6/site-packages/ipykernel_launcher.py:71: RuntimeWarning: divide by zero encountered in log\n",
      "/usr/local/python/anaconda3/envs/pangeo3.7/lib/python3.6/site-packages/ipykernel_launcher.py:71: RuntimeWarning: divide by zero encountered in log\n",
      "/usr/local/python/anaconda3/envs/pangeo3.7/lib/python3.6/site-packages/ipykernel_launcher.py:71: RuntimeWarning: divide by zero encountered in log\n",
      "/usr/local/python/anaconda3/envs/pangeo3.7/lib/python3.6/site-packages/ipykernel_launcher.py:71: RuntimeWarning: divide by zero encountered in log\n",
      "/usr/local/python/anaconda3/envs/pangeo3.7/lib/python3.6/site-packages/ipykernel_launcher.py:71: RuntimeWarning: divide by zero encountered in log\n",
      "/usr/local/python/anaconda3/envs/pangeo3.7/lib/python3.6/site-packages/ipykernel_launcher.py:71: RuntimeWarning: divide by zero encountered in log\n",
      "/usr/local/python/anaconda3/envs/pangeo3.7/lib/python3.6/site-packages/ipykernel_launcher.py:71: RuntimeWarning: divide by zero encountered in log\n",
      "/usr/local/python/anaconda3/envs/pangeo3.7/lib/python3.6/site-packages/ipykernel_launcher.py:71: RuntimeWarning: divide by zero encountered in log\n",
      "/usr/local/python/anaconda3/envs/pangeo3.7/lib/python3.6/site-packages/ipykernel_launcher.py:71: RuntimeWarning: divide by zero encountered in log\n",
      "/usr/local/python/anaconda3/envs/pangeo3.7/lib/python3.6/site-packages/ipykernel_launcher.py:71: RuntimeWarning: divide by zero encountered in log\n",
      "/usr/local/python/anaconda3/envs/pangeo3.7/lib/python3.6/site-packages/ipykernel_launcher.py:71: RuntimeWarning: divide by zero encountered in log\n",
      "/usr/local/python/anaconda3/envs/pangeo3.7/lib/python3.6/site-packages/ipykernel_launcher.py:71: RuntimeWarning: divide by zero encountered in log\n",
      "/usr/local/python/anaconda3/envs/pangeo3.7/lib/python3.6/site-packages/ipykernel_launcher.py:71: RuntimeWarning: divide by zero encountered in log\n",
      "/usr/local/python/anaconda3/envs/pangeo3.7/lib/python3.6/site-packages/ipykernel_launcher.py:71: RuntimeWarning: divide by zero encountered in log\n",
      "/usr/local/python/anaconda3/envs/pangeo3.7/lib/python3.6/site-packages/ipykernel_launcher.py:71: RuntimeWarning: divide by zero encountered in log\n"
     ]
    },
    {
     "name": "stdout",
     "output_type": "stream",
     "text": [
      "month 400\n"
     ]
    },
    {
     "name": "stderr",
     "output_type": "stream",
     "text": [
      "/usr/local/python/anaconda3/envs/pangeo3.7/lib/python3.6/site-packages/ipykernel_launcher.py:71: RuntimeWarning: divide by zero encountered in log\n",
      "/usr/local/python/anaconda3/envs/pangeo3.7/lib/python3.6/site-packages/ipykernel_launcher.py:71: RuntimeWarning: divide by zero encountered in log\n",
      "/usr/local/python/anaconda3/envs/pangeo3.7/lib/python3.6/site-packages/ipykernel_launcher.py:71: RuntimeWarning: divide by zero encountered in log\n",
      "/usr/local/python/anaconda3/envs/pangeo3.7/lib/python3.6/site-packages/ipykernel_launcher.py:71: RuntimeWarning: divide by zero encountered in log\n",
      "/usr/local/python/anaconda3/envs/pangeo3.7/lib/python3.6/site-packages/ipykernel_launcher.py:71: RuntimeWarning: divide by zero encountered in log\n",
      "/usr/local/python/anaconda3/envs/pangeo3.7/lib/python3.6/site-packages/ipykernel_launcher.py:71: RuntimeWarning: divide by zero encountered in log\n",
      "/usr/local/python/anaconda3/envs/pangeo3.7/lib/python3.6/site-packages/ipykernel_launcher.py:71: RuntimeWarning: divide by zero encountered in log\n",
      "/usr/local/python/anaconda3/envs/pangeo3.7/lib/python3.6/site-packages/ipykernel_launcher.py:71: RuntimeWarning: divide by zero encountered in log\n",
      "/usr/local/python/anaconda3/envs/pangeo3.7/lib/python3.6/site-packages/ipykernel_launcher.py:71: RuntimeWarning: divide by zero encountered in log\n",
      "/usr/local/python/anaconda3/envs/pangeo3.7/lib/python3.6/site-packages/ipykernel_launcher.py:71: RuntimeWarning: divide by zero encountered in log\n",
      "/usr/local/python/anaconda3/envs/pangeo3.7/lib/python3.6/site-packages/ipykernel_launcher.py:71: RuntimeWarning: divide by zero encountered in log\n",
      "/usr/local/python/anaconda3/envs/pangeo3.7/lib/python3.6/site-packages/ipykernel_launcher.py:71: RuntimeWarning: divide by zero encountered in log\n",
      "/usr/local/python/anaconda3/envs/pangeo3.7/lib/python3.6/site-packages/ipykernel_launcher.py:71: RuntimeWarning: divide by zero encountered in log\n",
      "/usr/local/python/anaconda3/envs/pangeo3.7/lib/python3.6/site-packages/ipykernel_launcher.py:71: RuntimeWarning: divide by zero encountered in log\n",
      "/usr/local/python/anaconda3/envs/pangeo3.7/lib/python3.6/site-packages/ipykernel_launcher.py:71: RuntimeWarning: divide by zero encountered in log\n",
      "/usr/local/python/anaconda3/envs/pangeo3.7/lib/python3.6/site-packages/ipykernel_launcher.py:71: RuntimeWarning: divide by zero encountered in log\n",
      "/usr/local/python/anaconda3/envs/pangeo3.7/lib/python3.6/site-packages/ipykernel_launcher.py:71: RuntimeWarning: divide by zero encountered in log\n",
      "/usr/local/python/anaconda3/envs/pangeo3.7/lib/python3.6/site-packages/ipykernel_launcher.py:71: RuntimeWarning: divide by zero encountered in log\n",
      "/usr/local/python/anaconda3/envs/pangeo3.7/lib/python3.6/site-packages/ipykernel_launcher.py:71: RuntimeWarning: divide by zero encountered in log\n",
      "/usr/local/python/anaconda3/envs/pangeo3.7/lib/python3.6/site-packages/ipykernel_launcher.py:71: RuntimeWarning: divide by zero encountered in log\n",
      "/usr/local/python/anaconda3/envs/pangeo3.7/lib/python3.6/site-packages/ipykernel_launcher.py:71: RuntimeWarning: divide by zero encountered in log\n"
     ]
    },
    {
     "name": "stdout",
     "output_type": "stream",
     "text": [
      "month 420\n"
     ]
    },
    {
     "name": "stderr",
     "output_type": "stream",
     "text": [
      "/usr/local/python/anaconda3/envs/pangeo3.7/lib/python3.6/site-packages/ipykernel_launcher.py:71: RuntimeWarning: divide by zero encountered in log\n",
      "/usr/local/python/anaconda3/envs/pangeo3.7/lib/python3.6/site-packages/ipykernel_launcher.py:71: RuntimeWarning: divide by zero encountered in log\n",
      "/usr/local/python/anaconda3/envs/pangeo3.7/lib/python3.6/site-packages/ipykernel_launcher.py:71: RuntimeWarning: divide by zero encountered in log\n",
      "/usr/local/python/anaconda3/envs/pangeo3.7/lib/python3.6/site-packages/ipykernel_launcher.py:71: RuntimeWarning: divide by zero encountered in log\n",
      "/usr/local/python/anaconda3/envs/pangeo3.7/lib/python3.6/site-packages/ipykernel_launcher.py:71: RuntimeWarning: divide by zero encountered in log\n",
      "/usr/local/python/anaconda3/envs/pangeo3.7/lib/python3.6/site-packages/ipykernel_launcher.py:71: RuntimeWarning: divide by zero encountered in log\n",
      "/usr/local/python/anaconda3/envs/pangeo3.7/lib/python3.6/site-packages/ipykernel_launcher.py:71: RuntimeWarning: divide by zero encountered in log\n",
      "/usr/local/python/anaconda3/envs/pangeo3.7/lib/python3.6/site-packages/ipykernel_launcher.py:71: RuntimeWarning: divide by zero encountered in log\n",
      "/usr/local/python/anaconda3/envs/pangeo3.7/lib/python3.6/site-packages/ipykernel_launcher.py:71: RuntimeWarning: divide by zero encountered in log\n",
      "/usr/local/python/anaconda3/envs/pangeo3.7/lib/python3.6/site-packages/ipykernel_launcher.py:71: RuntimeWarning: divide by zero encountered in log\n",
      "/usr/local/python/anaconda3/envs/pangeo3.7/lib/python3.6/site-packages/ipykernel_launcher.py:71: RuntimeWarning: divide by zero encountered in log\n",
      "/usr/local/python/anaconda3/envs/pangeo3.7/lib/python3.6/site-packages/ipykernel_launcher.py:71: RuntimeWarning: divide by zero encountered in log\n",
      "/usr/local/python/anaconda3/envs/pangeo3.7/lib/python3.6/site-packages/ipykernel_launcher.py:71: RuntimeWarning: divide by zero encountered in log\n",
      "/usr/local/python/anaconda3/envs/pangeo3.7/lib/python3.6/site-packages/ipykernel_launcher.py:71: RuntimeWarning: divide by zero encountered in log\n",
      "/usr/local/python/anaconda3/envs/pangeo3.7/lib/python3.6/site-packages/ipykernel_launcher.py:71: RuntimeWarning: divide by zero encountered in log\n",
      "/usr/local/python/anaconda3/envs/pangeo3.7/lib/python3.6/site-packages/ipykernel_launcher.py:71: RuntimeWarning: divide by zero encountered in log\n",
      "/usr/local/python/anaconda3/envs/pangeo3.7/lib/python3.6/site-packages/ipykernel_launcher.py:71: RuntimeWarning: divide by zero encountered in log\n",
      "/usr/local/python/anaconda3/envs/pangeo3.7/lib/python3.6/site-packages/ipykernel_launcher.py:71: RuntimeWarning: divide by zero encountered in log\n"
     ]
    },
    {
     "name": "stdout",
     "output_type": "stream",
     "text": [
      "month 440\n"
     ]
    },
    {
     "name": "stderr",
     "output_type": "stream",
     "text": [
      "/usr/local/python/anaconda3/envs/pangeo3.7/lib/python3.6/site-packages/ipykernel_launcher.py:71: RuntimeWarning: divide by zero encountered in log\n",
      "/usr/local/python/anaconda3/envs/pangeo3.7/lib/python3.6/site-packages/ipykernel_launcher.py:71: RuntimeWarning: divide by zero encountered in log\n",
      "/usr/local/python/anaconda3/envs/pangeo3.7/lib/python3.6/site-packages/ipykernel_launcher.py:71: RuntimeWarning: divide by zero encountered in log\n",
      "/usr/local/python/anaconda3/envs/pangeo3.7/lib/python3.6/site-packages/ipykernel_launcher.py:71: RuntimeWarning: divide by zero encountered in log\n",
      "/usr/local/python/anaconda3/envs/pangeo3.7/lib/python3.6/site-packages/ipykernel_launcher.py:71: RuntimeWarning: divide by zero encountered in log\n",
      "/usr/local/python/anaconda3/envs/pangeo3.7/lib/python3.6/site-packages/ipykernel_launcher.py:71: RuntimeWarning: divide by zero encountered in log\n",
      "/usr/local/python/anaconda3/envs/pangeo3.7/lib/python3.6/site-packages/ipykernel_launcher.py:71: RuntimeWarning: divide by zero encountered in log\n",
      "/usr/local/python/anaconda3/envs/pangeo3.7/lib/python3.6/site-packages/ipykernel_launcher.py:71: RuntimeWarning: divide by zero encountered in log\n",
      "/usr/local/python/anaconda3/envs/pangeo3.7/lib/python3.6/site-packages/ipykernel_launcher.py:71: RuntimeWarning: divide by zero encountered in log\n",
      "/usr/local/python/anaconda3/envs/pangeo3.7/lib/python3.6/site-packages/ipykernel_launcher.py:71: RuntimeWarning: divide by zero encountered in log\n",
      "/usr/local/python/anaconda3/envs/pangeo3.7/lib/python3.6/site-packages/ipykernel_launcher.py:71: RuntimeWarning: divide by zero encountered in log\n",
      "/usr/local/python/anaconda3/envs/pangeo3.7/lib/python3.6/site-packages/ipykernel_launcher.py:71: RuntimeWarning: divide by zero encountered in log\n",
      "/usr/local/python/anaconda3/envs/pangeo3.7/lib/python3.6/site-packages/ipykernel_launcher.py:71: RuntimeWarning: divide by zero encountered in log\n",
      "/usr/local/python/anaconda3/envs/pangeo3.7/lib/python3.6/site-packages/ipykernel_launcher.py:71: RuntimeWarning: divide by zero encountered in log\n",
      "/usr/local/python/anaconda3/envs/pangeo3.7/lib/python3.6/site-packages/ipykernel_launcher.py:71: RuntimeWarning: divide by zero encountered in log\n",
      "/usr/local/python/anaconda3/envs/pangeo3.7/lib/python3.6/site-packages/ipykernel_launcher.py:71: RuntimeWarning: divide by zero encountered in log\n",
      "/usr/local/python/anaconda3/envs/pangeo3.7/lib/python3.6/site-packages/ipykernel_launcher.py:71: RuntimeWarning: divide by zero encountered in log\n",
      "/usr/local/python/anaconda3/envs/pangeo3.7/lib/python3.6/site-packages/ipykernel_launcher.py:71: RuntimeWarning: divide by zero encountered in log\n",
      "/usr/local/python/anaconda3/envs/pangeo3.7/lib/python3.6/site-packages/ipykernel_launcher.py:71: RuntimeWarning: divide by zero encountered in log\n",
      "/usr/local/python/anaconda3/envs/pangeo3.7/lib/python3.6/site-packages/ipykernel_launcher.py:71: RuntimeWarning: divide by zero encountered in log\n"
     ]
    },
    {
     "name": "stdout",
     "output_type": "stream",
     "text": [
      "month 460\n"
     ]
    },
    {
     "name": "stderr",
     "output_type": "stream",
     "text": [
      "/usr/local/python/anaconda3/envs/pangeo3.7/lib/python3.6/site-packages/ipykernel_launcher.py:71: RuntimeWarning: divide by zero encountered in log\n",
      "/usr/local/python/anaconda3/envs/pangeo3.7/lib/python3.6/site-packages/ipykernel_launcher.py:71: RuntimeWarning: divide by zero encountered in log\n",
      "/usr/local/python/anaconda3/envs/pangeo3.7/lib/python3.6/site-packages/ipykernel_launcher.py:71: RuntimeWarning: divide by zero encountered in log\n",
      "/usr/local/python/anaconda3/envs/pangeo3.7/lib/python3.6/site-packages/ipykernel_launcher.py:71: RuntimeWarning: divide by zero encountered in log\n",
      "/usr/local/python/anaconda3/envs/pangeo3.7/lib/python3.6/site-packages/ipykernel_launcher.py:71: RuntimeWarning: divide by zero encountered in log\n",
      "/usr/local/python/anaconda3/envs/pangeo3.7/lib/python3.6/site-packages/ipykernel_launcher.py:71: RuntimeWarning: divide by zero encountered in log\n",
      "/usr/local/python/anaconda3/envs/pangeo3.7/lib/python3.6/site-packages/ipykernel_launcher.py:71: RuntimeWarning: divide by zero encountered in log\n",
      "/usr/local/python/anaconda3/envs/pangeo3.7/lib/python3.6/site-packages/ipykernel_launcher.py:71: RuntimeWarning: divide by zero encountered in log\n",
      "/usr/local/python/anaconda3/envs/pangeo3.7/lib/python3.6/site-packages/ipykernel_launcher.py:71: RuntimeWarning: divide by zero encountered in log\n",
      "/usr/local/python/anaconda3/envs/pangeo3.7/lib/python3.6/site-packages/ipykernel_launcher.py:71: RuntimeWarning: divide by zero encountered in log\n",
      "/usr/local/python/anaconda3/envs/pangeo3.7/lib/python3.6/site-packages/ipykernel_launcher.py:71: RuntimeWarning: divide by zero encountered in log\n",
      "/usr/local/python/anaconda3/envs/pangeo3.7/lib/python3.6/site-packages/ipykernel_launcher.py:71: RuntimeWarning: divide by zero encountered in log\n",
      "/usr/local/python/anaconda3/envs/pangeo3.7/lib/python3.6/site-packages/ipykernel_launcher.py:71: RuntimeWarning: divide by zero encountered in log\n",
      "/usr/local/python/anaconda3/envs/pangeo3.7/lib/python3.6/site-packages/ipykernel_launcher.py:71: RuntimeWarning: divide by zero encountered in log\n",
      "/usr/local/python/anaconda3/envs/pangeo3.7/lib/python3.6/site-packages/ipykernel_launcher.py:71: RuntimeWarning: divide by zero encountered in log\n",
      "/usr/local/python/anaconda3/envs/pangeo3.7/lib/python3.6/site-packages/ipykernel_launcher.py:71: RuntimeWarning: divide by zero encountered in log\n"
     ]
    },
    {
     "name": "stdout",
     "output_type": "stream",
     "text": [
      "Kernel multiplication (water vapor) for model: MetUM-GA6-ENT\n",
      "month 0\n"
     ]
    },
    {
     "name": "stderr",
     "output_type": "stream",
     "text": [
      "/usr/local/python/anaconda3/envs/pangeo3.7/lib/python3.6/site-packages/ipykernel_launcher.py:71: RuntimeWarning: divide by zero encountered in log\n",
      "/usr/local/python/anaconda3/envs/pangeo3.7/lib/python3.6/site-packages/ipykernel_launcher.py:71: RuntimeWarning: divide by zero encountered in log\n",
      "/usr/local/python/anaconda3/envs/pangeo3.7/lib/python3.6/site-packages/ipykernel_launcher.py:71: RuntimeWarning: divide by zero encountered in log\n",
      "/usr/local/python/anaconda3/envs/pangeo3.7/lib/python3.6/site-packages/ipykernel_launcher.py:71: RuntimeWarning: divide by zero encountered in log\n",
      "/usr/local/python/anaconda3/envs/pangeo3.7/lib/python3.6/site-packages/ipykernel_launcher.py:71: RuntimeWarning: divide by zero encountered in log\n",
      "/usr/local/python/anaconda3/envs/pangeo3.7/lib/python3.6/site-packages/ipykernel_launcher.py:71: RuntimeWarning: divide by zero encountered in log\n",
      "/usr/local/python/anaconda3/envs/pangeo3.7/lib/python3.6/site-packages/ipykernel_launcher.py:71: RuntimeWarning: divide by zero encountered in log\n",
      "/usr/local/python/anaconda3/envs/pangeo3.7/lib/python3.6/site-packages/ipykernel_launcher.py:71: RuntimeWarning: divide by zero encountered in log\n",
      "/usr/local/python/anaconda3/envs/pangeo3.7/lib/python3.6/site-packages/ipykernel_launcher.py:71: RuntimeWarning: divide by zero encountered in log\n",
      "/usr/local/python/anaconda3/envs/pangeo3.7/lib/python3.6/site-packages/ipykernel_launcher.py:71: RuntimeWarning: divide by zero encountered in log\n",
      "/usr/local/python/anaconda3/envs/pangeo3.7/lib/python3.6/site-packages/ipykernel_launcher.py:71: RuntimeWarning: divide by zero encountered in log\n",
      "/usr/local/python/anaconda3/envs/pangeo3.7/lib/python3.6/site-packages/ipykernel_launcher.py:71: RuntimeWarning: divide by zero encountered in log\n",
      "/usr/local/python/anaconda3/envs/pangeo3.7/lib/python3.6/site-packages/ipykernel_launcher.py:71: RuntimeWarning: divide by zero encountered in log\n",
      "/usr/local/python/anaconda3/envs/pangeo3.7/lib/python3.6/site-packages/ipykernel_launcher.py:71: RuntimeWarning: divide by zero encountered in log\n",
      "/usr/local/python/anaconda3/envs/pangeo3.7/lib/python3.6/site-packages/ipykernel_launcher.py:71: RuntimeWarning: divide by zero encountered in log\n",
      "/usr/local/python/anaconda3/envs/pangeo3.7/lib/python3.6/site-packages/ipykernel_launcher.py:71: RuntimeWarning: divide by zero encountered in log\n",
      "/usr/local/python/anaconda3/envs/pangeo3.7/lib/python3.6/site-packages/ipykernel_launcher.py:71: RuntimeWarning: divide by zero encountered in log\n",
      "/usr/local/python/anaconda3/envs/pangeo3.7/lib/python3.6/site-packages/ipykernel_launcher.py:71: RuntimeWarning: divide by zero encountered in log\n"
     ]
    },
    {
     "name": "stdout",
     "output_type": "stream",
     "text": [
      "month 20\n"
     ]
    },
    {
     "name": "stderr",
     "output_type": "stream",
     "text": [
      "/usr/local/python/anaconda3/envs/pangeo3.7/lib/python3.6/site-packages/ipykernel_launcher.py:71: RuntimeWarning: divide by zero encountered in log\n",
      "/usr/local/python/anaconda3/envs/pangeo3.7/lib/python3.6/site-packages/ipykernel_launcher.py:71: RuntimeWarning: divide by zero encountered in log\n",
      "/usr/local/python/anaconda3/envs/pangeo3.7/lib/python3.6/site-packages/ipykernel_launcher.py:71: RuntimeWarning: divide by zero encountered in log\n",
      "/usr/local/python/anaconda3/envs/pangeo3.7/lib/python3.6/site-packages/ipykernel_launcher.py:71: RuntimeWarning: divide by zero encountered in log\n",
      "/usr/local/python/anaconda3/envs/pangeo3.7/lib/python3.6/site-packages/ipykernel_launcher.py:71: RuntimeWarning: divide by zero encountered in log\n",
      "/usr/local/python/anaconda3/envs/pangeo3.7/lib/python3.6/site-packages/ipykernel_launcher.py:71: RuntimeWarning: divide by zero encountered in log\n",
      "/usr/local/python/anaconda3/envs/pangeo3.7/lib/python3.6/site-packages/ipykernel_launcher.py:71: RuntimeWarning: divide by zero encountered in log\n",
      "/usr/local/python/anaconda3/envs/pangeo3.7/lib/python3.6/site-packages/ipykernel_launcher.py:71: RuntimeWarning: divide by zero encountered in log\n",
      "/usr/local/python/anaconda3/envs/pangeo3.7/lib/python3.6/site-packages/ipykernel_launcher.py:71: RuntimeWarning: divide by zero encountered in log\n",
      "/usr/local/python/anaconda3/envs/pangeo3.7/lib/python3.6/site-packages/ipykernel_launcher.py:71: RuntimeWarning: divide by zero encountered in log\n",
      "/usr/local/python/anaconda3/envs/pangeo3.7/lib/python3.6/site-packages/ipykernel_launcher.py:71: RuntimeWarning: divide by zero encountered in log\n",
      "/usr/local/python/anaconda3/envs/pangeo3.7/lib/python3.6/site-packages/ipykernel_launcher.py:71: RuntimeWarning: divide by zero encountered in log\n",
      "/usr/local/python/anaconda3/envs/pangeo3.7/lib/python3.6/site-packages/ipykernel_launcher.py:71: RuntimeWarning: divide by zero encountered in log\n",
      "/usr/local/python/anaconda3/envs/pangeo3.7/lib/python3.6/site-packages/ipykernel_launcher.py:71: RuntimeWarning: divide by zero encountered in log\n",
      "/usr/local/python/anaconda3/envs/pangeo3.7/lib/python3.6/site-packages/ipykernel_launcher.py:71: RuntimeWarning: divide by zero encountered in log\n",
      "/usr/local/python/anaconda3/envs/pangeo3.7/lib/python3.6/site-packages/ipykernel_launcher.py:71: RuntimeWarning: divide by zero encountered in log\n",
      "/usr/local/python/anaconda3/envs/pangeo3.7/lib/python3.6/site-packages/ipykernel_launcher.py:71: RuntimeWarning: divide by zero encountered in log\n",
      "/usr/local/python/anaconda3/envs/pangeo3.7/lib/python3.6/site-packages/ipykernel_launcher.py:71: RuntimeWarning: divide by zero encountered in log\n",
      "/usr/local/python/anaconda3/envs/pangeo3.7/lib/python3.6/site-packages/ipykernel_launcher.py:71: RuntimeWarning: divide by zero encountered in log\n",
      "/usr/local/python/anaconda3/envs/pangeo3.7/lib/python3.6/site-packages/ipykernel_launcher.py:71: RuntimeWarning: divide by zero encountered in log\n"
     ]
    },
    {
     "name": "stdout",
     "output_type": "stream",
     "text": [
      "month 40\n"
     ]
    },
    {
     "name": "stderr",
     "output_type": "stream",
     "text": [
      "/usr/local/python/anaconda3/envs/pangeo3.7/lib/python3.6/site-packages/ipykernel_launcher.py:71: RuntimeWarning: divide by zero encountered in log\n",
      "/usr/local/python/anaconda3/envs/pangeo3.7/lib/python3.6/site-packages/ipykernel_launcher.py:71: RuntimeWarning: divide by zero encountered in log\n",
      "/usr/local/python/anaconda3/envs/pangeo3.7/lib/python3.6/site-packages/ipykernel_launcher.py:71: RuntimeWarning: divide by zero encountered in log\n",
      "/usr/local/python/anaconda3/envs/pangeo3.7/lib/python3.6/site-packages/ipykernel_launcher.py:71: RuntimeWarning: divide by zero encountered in log\n",
      "/usr/local/python/anaconda3/envs/pangeo3.7/lib/python3.6/site-packages/ipykernel_launcher.py:71: RuntimeWarning: divide by zero encountered in log\n",
      "/usr/local/python/anaconda3/envs/pangeo3.7/lib/python3.6/site-packages/ipykernel_launcher.py:71: RuntimeWarning: divide by zero encountered in log\n",
      "/usr/local/python/anaconda3/envs/pangeo3.7/lib/python3.6/site-packages/ipykernel_launcher.py:71: RuntimeWarning: divide by zero encountered in log\n",
      "/usr/local/python/anaconda3/envs/pangeo3.7/lib/python3.6/site-packages/ipykernel_launcher.py:71: RuntimeWarning: divide by zero encountered in log\n",
      "/usr/local/python/anaconda3/envs/pangeo3.7/lib/python3.6/site-packages/ipykernel_launcher.py:71: RuntimeWarning: divide by zero encountered in log\n",
      "/usr/local/python/anaconda3/envs/pangeo3.7/lib/python3.6/site-packages/ipykernel_launcher.py:71: RuntimeWarning: divide by zero encountered in log\n",
      "/usr/local/python/anaconda3/envs/pangeo3.7/lib/python3.6/site-packages/ipykernel_launcher.py:71: RuntimeWarning: divide by zero encountered in log\n",
      "/usr/local/python/anaconda3/envs/pangeo3.7/lib/python3.6/site-packages/ipykernel_launcher.py:71: RuntimeWarning: divide by zero encountered in log\n",
      "/usr/local/python/anaconda3/envs/pangeo3.7/lib/python3.6/site-packages/ipykernel_launcher.py:71: RuntimeWarning: divide by zero encountered in log\n",
      "/usr/local/python/anaconda3/envs/pangeo3.7/lib/python3.6/site-packages/ipykernel_launcher.py:71: RuntimeWarning: divide by zero encountered in log\n",
      "/usr/local/python/anaconda3/envs/pangeo3.7/lib/python3.6/site-packages/ipykernel_launcher.py:71: RuntimeWarning: divide by zero encountered in log\n",
      "/usr/local/python/anaconda3/envs/pangeo3.7/lib/python3.6/site-packages/ipykernel_launcher.py:71: RuntimeWarning: divide by zero encountered in log\n",
      "/usr/local/python/anaconda3/envs/pangeo3.7/lib/python3.6/site-packages/ipykernel_launcher.py:71: RuntimeWarning: divide by zero encountered in log\n",
      "/usr/local/python/anaconda3/envs/pangeo3.7/lib/python3.6/site-packages/ipykernel_launcher.py:71: RuntimeWarning: divide by zero encountered in log\n",
      "/usr/local/python/anaconda3/envs/pangeo3.7/lib/python3.6/site-packages/ipykernel_launcher.py:71: RuntimeWarning: divide by zero encountered in log\n",
      "/usr/local/python/anaconda3/envs/pangeo3.7/lib/python3.6/site-packages/ipykernel_launcher.py:71: RuntimeWarning: divide by zero encountered in log\n"
     ]
    },
    {
     "name": "stdout",
     "output_type": "stream",
     "text": [
      "month 60\n"
     ]
    },
    {
     "name": "stderr",
     "output_type": "stream",
     "text": [
      "/usr/local/python/anaconda3/envs/pangeo3.7/lib/python3.6/site-packages/ipykernel_launcher.py:71: RuntimeWarning: divide by zero encountered in log\n",
      "/usr/local/python/anaconda3/envs/pangeo3.7/lib/python3.6/site-packages/ipykernel_launcher.py:71: RuntimeWarning: divide by zero encountered in log\n",
      "/usr/local/python/anaconda3/envs/pangeo3.7/lib/python3.6/site-packages/ipykernel_launcher.py:71: RuntimeWarning: divide by zero encountered in log\n",
      "/usr/local/python/anaconda3/envs/pangeo3.7/lib/python3.6/site-packages/ipykernel_launcher.py:71: RuntimeWarning: divide by zero encountered in log\n",
      "/usr/local/python/anaconda3/envs/pangeo3.7/lib/python3.6/site-packages/ipykernel_launcher.py:71: RuntimeWarning: divide by zero encountered in log\n",
      "/usr/local/python/anaconda3/envs/pangeo3.7/lib/python3.6/site-packages/ipykernel_launcher.py:71: RuntimeWarning: divide by zero encountered in log\n",
      "/usr/local/python/anaconda3/envs/pangeo3.7/lib/python3.6/site-packages/ipykernel_launcher.py:71: RuntimeWarning: divide by zero encountered in log\n",
      "/usr/local/python/anaconda3/envs/pangeo3.7/lib/python3.6/site-packages/ipykernel_launcher.py:71: RuntimeWarning: divide by zero encountered in log\n",
      "/usr/local/python/anaconda3/envs/pangeo3.7/lib/python3.6/site-packages/ipykernel_launcher.py:71: RuntimeWarning: divide by zero encountered in log\n",
      "/usr/local/python/anaconda3/envs/pangeo3.7/lib/python3.6/site-packages/ipykernel_launcher.py:71: RuntimeWarning: divide by zero encountered in log\n",
      "/usr/local/python/anaconda3/envs/pangeo3.7/lib/python3.6/site-packages/ipykernel_launcher.py:71: RuntimeWarning: divide by zero encountered in log\n",
      "/usr/local/python/anaconda3/envs/pangeo3.7/lib/python3.6/site-packages/ipykernel_launcher.py:71: RuntimeWarning: divide by zero encountered in log\n",
      "/usr/local/python/anaconda3/envs/pangeo3.7/lib/python3.6/site-packages/ipykernel_launcher.py:71: RuntimeWarning: divide by zero encountered in log\n",
      "/usr/local/python/anaconda3/envs/pangeo3.7/lib/python3.6/site-packages/ipykernel_launcher.py:71: RuntimeWarning: divide by zero encountered in log\n",
      "/usr/local/python/anaconda3/envs/pangeo3.7/lib/python3.6/site-packages/ipykernel_launcher.py:71: RuntimeWarning: divide by zero encountered in log\n",
      "/usr/local/python/anaconda3/envs/pangeo3.7/lib/python3.6/site-packages/ipykernel_launcher.py:71: RuntimeWarning: divide by zero encountered in log\n",
      "/usr/local/python/anaconda3/envs/pangeo3.7/lib/python3.6/site-packages/ipykernel_launcher.py:71: RuntimeWarning: divide by zero encountered in log\n",
      "/usr/local/python/anaconda3/envs/pangeo3.7/lib/python3.6/site-packages/ipykernel_launcher.py:71: RuntimeWarning: divide by zero encountered in log\n"
     ]
    },
    {
     "name": "stdout",
     "output_type": "stream",
     "text": [
      "month 80\n"
     ]
    },
    {
     "name": "stderr",
     "output_type": "stream",
     "text": [
      "/usr/local/python/anaconda3/envs/pangeo3.7/lib/python3.6/site-packages/ipykernel_launcher.py:71: RuntimeWarning: divide by zero encountered in log\n",
      "/usr/local/python/anaconda3/envs/pangeo3.7/lib/python3.6/site-packages/ipykernel_launcher.py:71: RuntimeWarning: divide by zero encountered in log\n",
      "/usr/local/python/anaconda3/envs/pangeo3.7/lib/python3.6/site-packages/ipykernel_launcher.py:71: RuntimeWarning: divide by zero encountered in log\n",
      "/usr/local/python/anaconda3/envs/pangeo3.7/lib/python3.6/site-packages/ipykernel_launcher.py:71: RuntimeWarning: divide by zero encountered in log\n",
      "/usr/local/python/anaconda3/envs/pangeo3.7/lib/python3.6/site-packages/ipykernel_launcher.py:71: RuntimeWarning: divide by zero encountered in log\n",
      "/usr/local/python/anaconda3/envs/pangeo3.7/lib/python3.6/site-packages/ipykernel_launcher.py:71: RuntimeWarning: divide by zero encountered in log\n",
      "/usr/local/python/anaconda3/envs/pangeo3.7/lib/python3.6/site-packages/ipykernel_launcher.py:71: RuntimeWarning: divide by zero encountered in log\n",
      "/usr/local/python/anaconda3/envs/pangeo3.7/lib/python3.6/site-packages/ipykernel_launcher.py:71: RuntimeWarning: divide by zero encountered in log\n",
      "/usr/local/python/anaconda3/envs/pangeo3.7/lib/python3.6/site-packages/ipykernel_launcher.py:71: RuntimeWarning: divide by zero encountered in log\n",
      "/usr/local/python/anaconda3/envs/pangeo3.7/lib/python3.6/site-packages/ipykernel_launcher.py:71: RuntimeWarning: divide by zero encountered in log\n",
      "/usr/local/python/anaconda3/envs/pangeo3.7/lib/python3.6/site-packages/ipykernel_launcher.py:71: RuntimeWarning: divide by zero encountered in log\n",
      "/usr/local/python/anaconda3/envs/pangeo3.7/lib/python3.6/site-packages/ipykernel_launcher.py:71: RuntimeWarning: divide by zero encountered in log\n",
      "/usr/local/python/anaconda3/envs/pangeo3.7/lib/python3.6/site-packages/ipykernel_launcher.py:71: RuntimeWarning: divide by zero encountered in log\n",
      "/usr/local/python/anaconda3/envs/pangeo3.7/lib/python3.6/site-packages/ipykernel_launcher.py:71: RuntimeWarning: divide by zero encountered in log\n",
      "/usr/local/python/anaconda3/envs/pangeo3.7/lib/python3.6/site-packages/ipykernel_launcher.py:71: RuntimeWarning: divide by zero encountered in log\n",
      "/usr/local/python/anaconda3/envs/pangeo3.7/lib/python3.6/site-packages/ipykernel_launcher.py:71: RuntimeWarning: divide by zero encountered in log\n",
      "/usr/local/python/anaconda3/envs/pangeo3.7/lib/python3.6/site-packages/ipykernel_launcher.py:71: RuntimeWarning: divide by zero encountered in log\n"
     ]
    },
    {
     "name": "stdout",
     "output_type": "stream",
     "text": [
      "month 100\n"
     ]
    },
    {
     "name": "stderr",
     "output_type": "stream",
     "text": [
      "/usr/local/python/anaconda3/envs/pangeo3.7/lib/python3.6/site-packages/ipykernel_launcher.py:71: RuntimeWarning: divide by zero encountered in log\n",
      "/usr/local/python/anaconda3/envs/pangeo3.7/lib/python3.6/site-packages/ipykernel_launcher.py:71: RuntimeWarning: divide by zero encountered in log\n",
      "/usr/local/python/anaconda3/envs/pangeo3.7/lib/python3.6/site-packages/ipykernel_launcher.py:71: RuntimeWarning: divide by zero encountered in log\n",
      "/usr/local/python/anaconda3/envs/pangeo3.7/lib/python3.6/site-packages/ipykernel_launcher.py:71: RuntimeWarning: divide by zero encountered in log\n",
      "/usr/local/python/anaconda3/envs/pangeo3.7/lib/python3.6/site-packages/ipykernel_launcher.py:71: RuntimeWarning: divide by zero encountered in log\n",
      "/usr/local/python/anaconda3/envs/pangeo3.7/lib/python3.6/site-packages/ipykernel_launcher.py:71: RuntimeWarning: divide by zero encountered in log\n",
      "/usr/local/python/anaconda3/envs/pangeo3.7/lib/python3.6/site-packages/ipykernel_launcher.py:71: RuntimeWarning: divide by zero encountered in log\n",
      "/usr/local/python/anaconda3/envs/pangeo3.7/lib/python3.6/site-packages/ipykernel_launcher.py:71: RuntimeWarning: divide by zero encountered in log\n",
      "/usr/local/python/anaconda3/envs/pangeo3.7/lib/python3.6/site-packages/ipykernel_launcher.py:71: RuntimeWarning: divide by zero encountered in log\n",
      "/usr/local/python/anaconda3/envs/pangeo3.7/lib/python3.6/site-packages/ipykernel_launcher.py:71: RuntimeWarning: divide by zero encountered in log\n",
      "/usr/local/python/anaconda3/envs/pangeo3.7/lib/python3.6/site-packages/ipykernel_launcher.py:71: RuntimeWarning: divide by zero encountered in log\n",
      "/usr/local/python/anaconda3/envs/pangeo3.7/lib/python3.6/site-packages/ipykernel_launcher.py:71: RuntimeWarning: divide by zero encountered in log\n",
      "/usr/local/python/anaconda3/envs/pangeo3.7/lib/python3.6/site-packages/ipykernel_launcher.py:71: RuntimeWarning: divide by zero encountered in log\n",
      "/usr/local/python/anaconda3/envs/pangeo3.7/lib/python3.6/site-packages/ipykernel_launcher.py:71: RuntimeWarning: divide by zero encountered in log\n",
      "/usr/local/python/anaconda3/envs/pangeo3.7/lib/python3.6/site-packages/ipykernel_launcher.py:71: RuntimeWarning: divide by zero encountered in log\n",
      "/usr/local/python/anaconda3/envs/pangeo3.7/lib/python3.6/site-packages/ipykernel_launcher.py:71: RuntimeWarning: divide by zero encountered in log\n",
      "/usr/local/python/anaconda3/envs/pangeo3.7/lib/python3.6/site-packages/ipykernel_launcher.py:71: RuntimeWarning: divide by zero encountered in log\n",
      "/usr/local/python/anaconda3/envs/pangeo3.7/lib/python3.6/site-packages/ipykernel_launcher.py:71: RuntimeWarning: divide by zero encountered in log\n",
      "/usr/local/python/anaconda3/envs/pangeo3.7/lib/python3.6/site-packages/ipykernel_launcher.py:71: RuntimeWarning: divide by zero encountered in log\n",
      "/usr/local/python/anaconda3/envs/pangeo3.7/lib/python3.6/site-packages/ipykernel_launcher.py:71: RuntimeWarning: divide by zero encountered in log\n"
     ]
    },
    {
     "name": "stdout",
     "output_type": "stream",
     "text": [
      "month 120\n"
     ]
    },
    {
     "name": "stderr",
     "output_type": "stream",
     "text": [
      "/usr/local/python/anaconda3/envs/pangeo3.7/lib/python3.6/site-packages/ipykernel_launcher.py:71: RuntimeWarning: divide by zero encountered in log\n",
      "/usr/local/python/anaconda3/envs/pangeo3.7/lib/python3.6/site-packages/ipykernel_launcher.py:71: RuntimeWarning: divide by zero encountered in log\n",
      "/usr/local/python/anaconda3/envs/pangeo3.7/lib/python3.6/site-packages/ipykernel_launcher.py:71: RuntimeWarning: divide by zero encountered in log\n",
      "/usr/local/python/anaconda3/envs/pangeo3.7/lib/python3.6/site-packages/ipykernel_launcher.py:71: RuntimeWarning: divide by zero encountered in log\n",
      "/usr/local/python/anaconda3/envs/pangeo3.7/lib/python3.6/site-packages/ipykernel_launcher.py:71: RuntimeWarning: divide by zero encountered in log\n",
      "/usr/local/python/anaconda3/envs/pangeo3.7/lib/python3.6/site-packages/ipykernel_launcher.py:71: RuntimeWarning: divide by zero encountered in log\n",
      "/usr/local/python/anaconda3/envs/pangeo3.7/lib/python3.6/site-packages/ipykernel_launcher.py:71: RuntimeWarning: divide by zero encountered in log\n",
      "/usr/local/python/anaconda3/envs/pangeo3.7/lib/python3.6/site-packages/ipykernel_launcher.py:71: RuntimeWarning: divide by zero encountered in log\n",
      "/usr/local/python/anaconda3/envs/pangeo3.7/lib/python3.6/site-packages/ipykernel_launcher.py:71: RuntimeWarning: divide by zero encountered in log\n",
      "/usr/local/python/anaconda3/envs/pangeo3.7/lib/python3.6/site-packages/ipykernel_launcher.py:71: RuntimeWarning: divide by zero encountered in log\n",
      "/usr/local/python/anaconda3/envs/pangeo3.7/lib/python3.6/site-packages/ipykernel_launcher.py:71: RuntimeWarning: divide by zero encountered in log\n",
      "/usr/local/python/anaconda3/envs/pangeo3.7/lib/python3.6/site-packages/ipykernel_launcher.py:71: RuntimeWarning: divide by zero encountered in log\n",
      "/usr/local/python/anaconda3/envs/pangeo3.7/lib/python3.6/site-packages/ipykernel_launcher.py:71: RuntimeWarning: divide by zero encountered in log\n",
      "/usr/local/python/anaconda3/envs/pangeo3.7/lib/python3.6/site-packages/ipykernel_launcher.py:71: RuntimeWarning: divide by zero encountered in log\n",
      "/usr/local/python/anaconda3/envs/pangeo3.7/lib/python3.6/site-packages/ipykernel_launcher.py:71: RuntimeWarning: divide by zero encountered in log\n",
      "/usr/local/python/anaconda3/envs/pangeo3.7/lib/python3.6/site-packages/ipykernel_launcher.py:71: RuntimeWarning: divide by zero encountered in log\n",
      "/usr/local/python/anaconda3/envs/pangeo3.7/lib/python3.6/site-packages/ipykernel_launcher.py:71: RuntimeWarning: divide by zero encountered in log\n",
      "/usr/local/python/anaconda3/envs/pangeo3.7/lib/python3.6/site-packages/ipykernel_launcher.py:71: RuntimeWarning: divide by zero encountered in log\n"
     ]
    },
    {
     "name": "stdout",
     "output_type": "stream",
     "text": [
      "month 140\n"
     ]
    },
    {
     "name": "stderr",
     "output_type": "stream",
     "text": [
      "/usr/local/python/anaconda3/envs/pangeo3.7/lib/python3.6/site-packages/ipykernel_launcher.py:71: RuntimeWarning: divide by zero encountered in log\n",
      "/usr/local/python/anaconda3/envs/pangeo3.7/lib/python3.6/site-packages/ipykernel_launcher.py:71: RuntimeWarning: divide by zero encountered in log\n",
      "/usr/local/python/anaconda3/envs/pangeo3.7/lib/python3.6/site-packages/ipykernel_launcher.py:71: RuntimeWarning: divide by zero encountered in log\n",
      "/usr/local/python/anaconda3/envs/pangeo3.7/lib/python3.6/site-packages/ipykernel_launcher.py:71: RuntimeWarning: divide by zero encountered in log\n",
      "/usr/local/python/anaconda3/envs/pangeo3.7/lib/python3.6/site-packages/ipykernel_launcher.py:71: RuntimeWarning: divide by zero encountered in log\n",
      "/usr/local/python/anaconda3/envs/pangeo3.7/lib/python3.6/site-packages/ipykernel_launcher.py:71: RuntimeWarning: divide by zero encountered in log\n",
      "/usr/local/python/anaconda3/envs/pangeo3.7/lib/python3.6/site-packages/ipykernel_launcher.py:71: RuntimeWarning: divide by zero encountered in log\n",
      "/usr/local/python/anaconda3/envs/pangeo3.7/lib/python3.6/site-packages/ipykernel_launcher.py:71: RuntimeWarning: divide by zero encountered in log\n",
      "/usr/local/python/anaconda3/envs/pangeo3.7/lib/python3.6/site-packages/ipykernel_launcher.py:71: RuntimeWarning: divide by zero encountered in log\n",
      "/usr/local/python/anaconda3/envs/pangeo3.7/lib/python3.6/site-packages/ipykernel_launcher.py:71: RuntimeWarning: divide by zero encountered in log\n",
      "/usr/local/python/anaconda3/envs/pangeo3.7/lib/python3.6/site-packages/ipykernel_launcher.py:71: RuntimeWarning: divide by zero encountered in log\n",
      "/usr/local/python/anaconda3/envs/pangeo3.7/lib/python3.6/site-packages/ipykernel_launcher.py:71: RuntimeWarning: divide by zero encountered in log\n",
      "/usr/local/python/anaconda3/envs/pangeo3.7/lib/python3.6/site-packages/ipykernel_launcher.py:71: RuntimeWarning: divide by zero encountered in log\n",
      "/usr/local/python/anaconda3/envs/pangeo3.7/lib/python3.6/site-packages/ipykernel_launcher.py:71: RuntimeWarning: divide by zero encountered in log\n",
      "/usr/local/python/anaconda3/envs/pangeo3.7/lib/python3.6/site-packages/ipykernel_launcher.py:71: RuntimeWarning: divide by zero encountered in log\n",
      "/usr/local/python/anaconda3/envs/pangeo3.7/lib/python3.6/site-packages/ipykernel_launcher.py:71: RuntimeWarning: divide by zero encountered in log\n",
      "/usr/local/python/anaconda3/envs/pangeo3.7/lib/python3.6/site-packages/ipykernel_launcher.py:71: RuntimeWarning: divide by zero encountered in log\n",
      "/usr/local/python/anaconda3/envs/pangeo3.7/lib/python3.6/site-packages/ipykernel_launcher.py:71: RuntimeWarning: divide by zero encountered in log\n"
     ]
    },
    {
     "name": "stdout",
     "output_type": "stream",
     "text": [
      "month 160\n"
     ]
    },
    {
     "name": "stderr",
     "output_type": "stream",
     "text": [
      "/usr/local/python/anaconda3/envs/pangeo3.7/lib/python3.6/site-packages/ipykernel_launcher.py:71: RuntimeWarning: divide by zero encountered in log\n",
      "/usr/local/python/anaconda3/envs/pangeo3.7/lib/python3.6/site-packages/ipykernel_launcher.py:71: RuntimeWarning: divide by zero encountered in log\n",
      "/usr/local/python/anaconda3/envs/pangeo3.7/lib/python3.6/site-packages/ipykernel_launcher.py:71: RuntimeWarning: divide by zero encountered in log\n",
      "/usr/local/python/anaconda3/envs/pangeo3.7/lib/python3.6/site-packages/ipykernel_launcher.py:71: RuntimeWarning: divide by zero encountered in log\n",
      "/usr/local/python/anaconda3/envs/pangeo3.7/lib/python3.6/site-packages/ipykernel_launcher.py:71: RuntimeWarning: divide by zero encountered in log\n",
      "/usr/local/python/anaconda3/envs/pangeo3.7/lib/python3.6/site-packages/ipykernel_launcher.py:71: RuntimeWarning: divide by zero encountered in log\n",
      "/usr/local/python/anaconda3/envs/pangeo3.7/lib/python3.6/site-packages/ipykernel_launcher.py:71: RuntimeWarning: divide by zero encountered in log\n",
      "/usr/local/python/anaconda3/envs/pangeo3.7/lib/python3.6/site-packages/ipykernel_launcher.py:71: RuntimeWarning: divide by zero encountered in log\n",
      "/usr/local/python/anaconda3/envs/pangeo3.7/lib/python3.6/site-packages/ipykernel_launcher.py:71: RuntimeWarning: divide by zero encountered in log\n",
      "/usr/local/python/anaconda3/envs/pangeo3.7/lib/python3.6/site-packages/ipykernel_launcher.py:71: RuntimeWarning: divide by zero encountered in log\n",
      "/usr/local/python/anaconda3/envs/pangeo3.7/lib/python3.6/site-packages/ipykernel_launcher.py:71: RuntimeWarning: divide by zero encountered in log\n",
      "/usr/local/python/anaconda3/envs/pangeo3.7/lib/python3.6/site-packages/ipykernel_launcher.py:71: RuntimeWarning: divide by zero encountered in log\n",
      "/usr/local/python/anaconda3/envs/pangeo3.7/lib/python3.6/site-packages/ipykernel_launcher.py:71: RuntimeWarning: divide by zero encountered in log\n",
      "/usr/local/python/anaconda3/envs/pangeo3.7/lib/python3.6/site-packages/ipykernel_launcher.py:71: RuntimeWarning: divide by zero encountered in log\n",
      "/usr/local/python/anaconda3/envs/pangeo3.7/lib/python3.6/site-packages/ipykernel_launcher.py:71: RuntimeWarning: divide by zero encountered in log\n",
      "/usr/local/python/anaconda3/envs/pangeo3.7/lib/python3.6/site-packages/ipykernel_launcher.py:71: RuntimeWarning: divide by zero encountered in log\n"
     ]
    },
    {
     "name": "stdout",
     "output_type": "stream",
     "text": [
      "month 180\n"
     ]
    },
    {
     "name": "stderr",
     "output_type": "stream",
     "text": [
      "/usr/local/python/anaconda3/envs/pangeo3.7/lib/python3.6/site-packages/ipykernel_launcher.py:71: RuntimeWarning: divide by zero encountered in log\n",
      "/usr/local/python/anaconda3/envs/pangeo3.7/lib/python3.6/site-packages/ipykernel_launcher.py:71: RuntimeWarning: divide by zero encountered in log\n",
      "/usr/local/python/anaconda3/envs/pangeo3.7/lib/python3.6/site-packages/ipykernel_launcher.py:71: RuntimeWarning: divide by zero encountered in log\n",
      "/usr/local/python/anaconda3/envs/pangeo3.7/lib/python3.6/site-packages/ipykernel_launcher.py:71: RuntimeWarning: divide by zero encountered in log\n",
      "/usr/local/python/anaconda3/envs/pangeo3.7/lib/python3.6/site-packages/ipykernel_launcher.py:71: RuntimeWarning: divide by zero encountered in log\n",
      "/usr/local/python/anaconda3/envs/pangeo3.7/lib/python3.6/site-packages/ipykernel_launcher.py:71: RuntimeWarning: divide by zero encountered in log\n",
      "/usr/local/python/anaconda3/envs/pangeo3.7/lib/python3.6/site-packages/ipykernel_launcher.py:71: RuntimeWarning: divide by zero encountered in log\n",
      "/usr/local/python/anaconda3/envs/pangeo3.7/lib/python3.6/site-packages/ipykernel_launcher.py:71: RuntimeWarning: divide by zero encountered in log\n",
      "/usr/local/python/anaconda3/envs/pangeo3.7/lib/python3.6/site-packages/ipykernel_launcher.py:71: RuntimeWarning: divide by zero encountered in log\n",
      "/usr/local/python/anaconda3/envs/pangeo3.7/lib/python3.6/site-packages/ipykernel_launcher.py:71: RuntimeWarning: divide by zero encountered in log\n",
      "/usr/local/python/anaconda3/envs/pangeo3.7/lib/python3.6/site-packages/ipykernel_launcher.py:71: RuntimeWarning: divide by zero encountered in log\n",
      "/usr/local/python/anaconda3/envs/pangeo3.7/lib/python3.6/site-packages/ipykernel_launcher.py:71: RuntimeWarning: divide by zero encountered in log\n",
      "/usr/local/python/anaconda3/envs/pangeo3.7/lib/python3.6/site-packages/ipykernel_launcher.py:71: RuntimeWarning: divide by zero encountered in log\n",
      "/usr/local/python/anaconda3/envs/pangeo3.7/lib/python3.6/site-packages/ipykernel_launcher.py:71: RuntimeWarning: divide by zero encountered in log\n",
      "/usr/local/python/anaconda3/envs/pangeo3.7/lib/python3.6/site-packages/ipykernel_launcher.py:71: RuntimeWarning: divide by zero encountered in log\n",
      "/usr/local/python/anaconda3/envs/pangeo3.7/lib/python3.6/site-packages/ipykernel_launcher.py:71: RuntimeWarning: divide by zero encountered in log\n",
      "/usr/local/python/anaconda3/envs/pangeo3.7/lib/python3.6/site-packages/ipykernel_launcher.py:71: RuntimeWarning: divide by zero encountered in log\n",
      "/usr/local/python/anaconda3/envs/pangeo3.7/lib/python3.6/site-packages/ipykernel_launcher.py:71: RuntimeWarning: divide by zero encountered in log\n",
      "/usr/local/python/anaconda3/envs/pangeo3.7/lib/python3.6/site-packages/ipykernel_launcher.py:71: RuntimeWarning: divide by zero encountered in log\n"
     ]
    },
    {
     "name": "stdout",
     "output_type": "stream",
     "text": [
      "month 200\n"
     ]
    },
    {
     "name": "stderr",
     "output_type": "stream",
     "text": [
      "/usr/local/python/anaconda3/envs/pangeo3.7/lib/python3.6/site-packages/ipykernel_launcher.py:71: RuntimeWarning: divide by zero encountered in log\n",
      "/usr/local/python/anaconda3/envs/pangeo3.7/lib/python3.6/site-packages/ipykernel_launcher.py:71: RuntimeWarning: divide by zero encountered in log\n",
      "/usr/local/python/anaconda3/envs/pangeo3.7/lib/python3.6/site-packages/ipykernel_launcher.py:71: RuntimeWarning: divide by zero encountered in log\n",
      "/usr/local/python/anaconda3/envs/pangeo3.7/lib/python3.6/site-packages/ipykernel_launcher.py:71: RuntimeWarning: divide by zero encountered in log\n",
      "/usr/local/python/anaconda3/envs/pangeo3.7/lib/python3.6/site-packages/ipykernel_launcher.py:71: RuntimeWarning: divide by zero encountered in log\n",
      "/usr/local/python/anaconda3/envs/pangeo3.7/lib/python3.6/site-packages/ipykernel_launcher.py:71: RuntimeWarning: divide by zero encountered in log\n",
      "/usr/local/python/anaconda3/envs/pangeo3.7/lib/python3.6/site-packages/ipykernel_launcher.py:71: RuntimeWarning: divide by zero encountered in log\n",
      "/usr/local/python/anaconda3/envs/pangeo3.7/lib/python3.6/site-packages/ipykernel_launcher.py:71: RuntimeWarning: divide by zero encountered in log\n",
      "/usr/local/python/anaconda3/envs/pangeo3.7/lib/python3.6/site-packages/ipykernel_launcher.py:71: RuntimeWarning: divide by zero encountered in log\n",
      "/usr/local/python/anaconda3/envs/pangeo3.7/lib/python3.6/site-packages/ipykernel_launcher.py:71: RuntimeWarning: divide by zero encountered in log\n",
      "/usr/local/python/anaconda3/envs/pangeo3.7/lib/python3.6/site-packages/ipykernel_launcher.py:71: RuntimeWarning: divide by zero encountered in log\n",
      "/usr/local/python/anaconda3/envs/pangeo3.7/lib/python3.6/site-packages/ipykernel_launcher.py:71: RuntimeWarning: divide by zero encountered in log\n",
      "/usr/local/python/anaconda3/envs/pangeo3.7/lib/python3.6/site-packages/ipykernel_launcher.py:71: RuntimeWarning: divide by zero encountered in log\n",
      "/usr/local/python/anaconda3/envs/pangeo3.7/lib/python3.6/site-packages/ipykernel_launcher.py:71: RuntimeWarning: divide by zero encountered in log\n",
      "/usr/local/python/anaconda3/envs/pangeo3.7/lib/python3.6/site-packages/ipykernel_launcher.py:71: RuntimeWarning: divide by zero encountered in log\n",
      "/usr/local/python/anaconda3/envs/pangeo3.7/lib/python3.6/site-packages/ipykernel_launcher.py:71: RuntimeWarning: divide by zero encountered in log\n",
      "/usr/local/python/anaconda3/envs/pangeo3.7/lib/python3.6/site-packages/ipykernel_launcher.py:71: RuntimeWarning: divide by zero encountered in log\n",
      "/usr/local/python/anaconda3/envs/pangeo3.7/lib/python3.6/site-packages/ipykernel_launcher.py:71: RuntimeWarning: divide by zero encountered in log\n"
     ]
    },
    {
     "name": "stdout",
     "output_type": "stream",
     "text": [
      "month 220\n"
     ]
    },
    {
     "name": "stderr",
     "output_type": "stream",
     "text": [
      "/usr/local/python/anaconda3/envs/pangeo3.7/lib/python3.6/site-packages/ipykernel_launcher.py:71: RuntimeWarning: divide by zero encountered in log\n",
      "/usr/local/python/anaconda3/envs/pangeo3.7/lib/python3.6/site-packages/ipykernel_launcher.py:71: RuntimeWarning: divide by zero encountered in log\n",
      "/usr/local/python/anaconda3/envs/pangeo3.7/lib/python3.6/site-packages/ipykernel_launcher.py:71: RuntimeWarning: divide by zero encountered in log\n",
      "/usr/local/python/anaconda3/envs/pangeo3.7/lib/python3.6/site-packages/ipykernel_launcher.py:71: RuntimeWarning: divide by zero encountered in log\n",
      "/usr/local/python/anaconda3/envs/pangeo3.7/lib/python3.6/site-packages/ipykernel_launcher.py:71: RuntimeWarning: divide by zero encountered in log\n",
      "/usr/local/python/anaconda3/envs/pangeo3.7/lib/python3.6/site-packages/ipykernel_launcher.py:71: RuntimeWarning: divide by zero encountered in log\n",
      "/usr/local/python/anaconda3/envs/pangeo3.7/lib/python3.6/site-packages/ipykernel_launcher.py:71: RuntimeWarning: divide by zero encountered in log\n",
      "/usr/local/python/anaconda3/envs/pangeo3.7/lib/python3.6/site-packages/ipykernel_launcher.py:71: RuntimeWarning: divide by zero encountered in log\n",
      "/usr/local/python/anaconda3/envs/pangeo3.7/lib/python3.6/site-packages/ipykernel_launcher.py:71: RuntimeWarning: divide by zero encountered in log\n",
      "/usr/local/python/anaconda3/envs/pangeo3.7/lib/python3.6/site-packages/ipykernel_launcher.py:71: RuntimeWarning: divide by zero encountered in log\n",
      "/usr/local/python/anaconda3/envs/pangeo3.7/lib/python3.6/site-packages/ipykernel_launcher.py:71: RuntimeWarning: divide by zero encountered in log\n",
      "/usr/local/python/anaconda3/envs/pangeo3.7/lib/python3.6/site-packages/ipykernel_launcher.py:71: RuntimeWarning: divide by zero encountered in log\n",
      "/usr/local/python/anaconda3/envs/pangeo3.7/lib/python3.6/site-packages/ipykernel_launcher.py:71: RuntimeWarning: divide by zero encountered in log\n",
      "/usr/local/python/anaconda3/envs/pangeo3.7/lib/python3.6/site-packages/ipykernel_launcher.py:71: RuntimeWarning: divide by zero encountered in log\n",
      "/usr/local/python/anaconda3/envs/pangeo3.7/lib/python3.6/site-packages/ipykernel_launcher.py:71: RuntimeWarning: divide by zero encountered in log\n",
      "/usr/local/python/anaconda3/envs/pangeo3.7/lib/python3.6/site-packages/ipykernel_launcher.py:71: RuntimeWarning: divide by zero encountered in log\n",
      "/usr/local/python/anaconda3/envs/pangeo3.7/lib/python3.6/site-packages/ipykernel_launcher.py:71: RuntimeWarning: divide by zero encountered in log\n",
      "/usr/local/python/anaconda3/envs/pangeo3.7/lib/python3.6/site-packages/ipykernel_launcher.py:71: RuntimeWarning: divide by zero encountered in log\n"
     ]
    },
    {
     "name": "stdout",
     "output_type": "stream",
     "text": [
      "month 240\n"
     ]
    },
    {
     "name": "stderr",
     "output_type": "stream",
     "text": [
      "/usr/local/python/anaconda3/envs/pangeo3.7/lib/python3.6/site-packages/ipykernel_launcher.py:71: RuntimeWarning: divide by zero encountered in log\n",
      "/usr/local/python/anaconda3/envs/pangeo3.7/lib/python3.6/site-packages/ipykernel_launcher.py:71: RuntimeWarning: divide by zero encountered in log\n",
      "/usr/local/python/anaconda3/envs/pangeo3.7/lib/python3.6/site-packages/ipykernel_launcher.py:71: RuntimeWarning: divide by zero encountered in log\n",
      "/usr/local/python/anaconda3/envs/pangeo3.7/lib/python3.6/site-packages/ipykernel_launcher.py:71: RuntimeWarning: divide by zero encountered in log\n",
      "/usr/local/python/anaconda3/envs/pangeo3.7/lib/python3.6/site-packages/ipykernel_launcher.py:71: RuntimeWarning: divide by zero encountered in log\n",
      "/usr/local/python/anaconda3/envs/pangeo3.7/lib/python3.6/site-packages/ipykernel_launcher.py:71: RuntimeWarning: divide by zero encountered in log\n",
      "/usr/local/python/anaconda3/envs/pangeo3.7/lib/python3.6/site-packages/ipykernel_launcher.py:71: RuntimeWarning: divide by zero encountered in log\n",
      "/usr/local/python/anaconda3/envs/pangeo3.7/lib/python3.6/site-packages/ipykernel_launcher.py:71: RuntimeWarning: divide by zero encountered in log\n",
      "/usr/local/python/anaconda3/envs/pangeo3.7/lib/python3.6/site-packages/ipykernel_launcher.py:71: RuntimeWarning: divide by zero encountered in log\n",
      "/usr/local/python/anaconda3/envs/pangeo3.7/lib/python3.6/site-packages/ipykernel_launcher.py:71: RuntimeWarning: divide by zero encountered in log\n",
      "/usr/local/python/anaconda3/envs/pangeo3.7/lib/python3.6/site-packages/ipykernel_launcher.py:71: RuntimeWarning: divide by zero encountered in log\n",
      "/usr/local/python/anaconda3/envs/pangeo3.7/lib/python3.6/site-packages/ipykernel_launcher.py:71: RuntimeWarning: divide by zero encountered in log\n",
      "/usr/local/python/anaconda3/envs/pangeo3.7/lib/python3.6/site-packages/ipykernel_launcher.py:71: RuntimeWarning: divide by zero encountered in log\n",
      "/usr/local/python/anaconda3/envs/pangeo3.7/lib/python3.6/site-packages/ipykernel_launcher.py:71: RuntimeWarning: divide by zero encountered in log\n",
      "/usr/local/python/anaconda3/envs/pangeo3.7/lib/python3.6/site-packages/ipykernel_launcher.py:71: RuntimeWarning: divide by zero encountered in log\n"
     ]
    },
    {
     "name": "stdout",
     "output_type": "stream",
     "text": [
      "month 260\n"
     ]
    },
    {
     "name": "stderr",
     "output_type": "stream",
     "text": [
      "/usr/local/python/anaconda3/envs/pangeo3.7/lib/python3.6/site-packages/ipykernel_launcher.py:71: RuntimeWarning: divide by zero encountered in log\n",
      "/usr/local/python/anaconda3/envs/pangeo3.7/lib/python3.6/site-packages/ipykernel_launcher.py:71: RuntimeWarning: divide by zero encountered in log\n",
      "/usr/local/python/anaconda3/envs/pangeo3.7/lib/python3.6/site-packages/ipykernel_launcher.py:71: RuntimeWarning: divide by zero encountered in log\n",
      "/usr/local/python/anaconda3/envs/pangeo3.7/lib/python3.6/site-packages/ipykernel_launcher.py:71: RuntimeWarning: divide by zero encountered in log\n",
      "/usr/local/python/anaconda3/envs/pangeo3.7/lib/python3.6/site-packages/ipykernel_launcher.py:71: RuntimeWarning: divide by zero encountered in log\n",
      "/usr/local/python/anaconda3/envs/pangeo3.7/lib/python3.6/site-packages/ipykernel_launcher.py:71: RuntimeWarning: divide by zero encountered in log\n",
      "/usr/local/python/anaconda3/envs/pangeo3.7/lib/python3.6/site-packages/ipykernel_launcher.py:71: RuntimeWarning: divide by zero encountered in log\n",
      "/usr/local/python/anaconda3/envs/pangeo3.7/lib/python3.6/site-packages/ipykernel_launcher.py:71: RuntimeWarning: divide by zero encountered in log\n",
      "/usr/local/python/anaconda3/envs/pangeo3.7/lib/python3.6/site-packages/ipykernel_launcher.py:71: RuntimeWarning: divide by zero encountered in log\n",
      "/usr/local/python/anaconda3/envs/pangeo3.7/lib/python3.6/site-packages/ipykernel_launcher.py:71: RuntimeWarning: divide by zero encountered in log\n",
      "/usr/local/python/anaconda3/envs/pangeo3.7/lib/python3.6/site-packages/ipykernel_launcher.py:71: RuntimeWarning: divide by zero encountered in log\n",
      "/usr/local/python/anaconda3/envs/pangeo3.7/lib/python3.6/site-packages/ipykernel_launcher.py:71: RuntimeWarning: divide by zero encountered in log\n",
      "/usr/local/python/anaconda3/envs/pangeo3.7/lib/python3.6/site-packages/ipykernel_launcher.py:71: RuntimeWarning: divide by zero encountered in log\n",
      "/usr/local/python/anaconda3/envs/pangeo3.7/lib/python3.6/site-packages/ipykernel_launcher.py:71: RuntimeWarning: divide by zero encountered in log\n",
      "/usr/local/python/anaconda3/envs/pangeo3.7/lib/python3.6/site-packages/ipykernel_launcher.py:71: RuntimeWarning: divide by zero encountered in log\n",
      "/usr/local/python/anaconda3/envs/pangeo3.7/lib/python3.6/site-packages/ipykernel_launcher.py:71: RuntimeWarning: divide by zero encountered in log\n"
     ]
    },
    {
     "name": "stdout",
     "output_type": "stream",
     "text": [
      "month 280\n"
     ]
    },
    {
     "name": "stderr",
     "output_type": "stream",
     "text": [
      "/usr/local/python/anaconda3/envs/pangeo3.7/lib/python3.6/site-packages/ipykernel_launcher.py:71: RuntimeWarning: divide by zero encountered in log\n",
      "/usr/local/python/anaconda3/envs/pangeo3.7/lib/python3.6/site-packages/ipykernel_launcher.py:71: RuntimeWarning: divide by zero encountered in log\n",
      "/usr/local/python/anaconda3/envs/pangeo3.7/lib/python3.6/site-packages/ipykernel_launcher.py:71: RuntimeWarning: divide by zero encountered in log\n",
      "/usr/local/python/anaconda3/envs/pangeo3.7/lib/python3.6/site-packages/ipykernel_launcher.py:71: RuntimeWarning: divide by zero encountered in log\n",
      "/usr/local/python/anaconda3/envs/pangeo3.7/lib/python3.6/site-packages/ipykernel_launcher.py:71: RuntimeWarning: divide by zero encountered in log\n",
      "/usr/local/python/anaconda3/envs/pangeo3.7/lib/python3.6/site-packages/ipykernel_launcher.py:71: RuntimeWarning: divide by zero encountered in log\n",
      "/usr/local/python/anaconda3/envs/pangeo3.7/lib/python3.6/site-packages/ipykernel_launcher.py:71: RuntimeWarning: divide by zero encountered in log\n",
      "/usr/local/python/anaconda3/envs/pangeo3.7/lib/python3.6/site-packages/ipykernel_launcher.py:71: RuntimeWarning: divide by zero encountered in log\n",
      "/usr/local/python/anaconda3/envs/pangeo3.7/lib/python3.6/site-packages/ipykernel_launcher.py:71: RuntimeWarning: divide by zero encountered in log\n",
      "/usr/local/python/anaconda3/envs/pangeo3.7/lib/python3.6/site-packages/ipykernel_launcher.py:71: RuntimeWarning: divide by zero encountered in log\n",
      "/usr/local/python/anaconda3/envs/pangeo3.7/lib/python3.6/site-packages/ipykernel_launcher.py:71: RuntimeWarning: divide by zero encountered in log\n",
      "/usr/local/python/anaconda3/envs/pangeo3.7/lib/python3.6/site-packages/ipykernel_launcher.py:71: RuntimeWarning: divide by zero encountered in log\n",
      "/usr/local/python/anaconda3/envs/pangeo3.7/lib/python3.6/site-packages/ipykernel_launcher.py:71: RuntimeWarning: divide by zero encountered in log\n",
      "/usr/local/python/anaconda3/envs/pangeo3.7/lib/python3.6/site-packages/ipykernel_launcher.py:71: RuntimeWarning: divide by zero encountered in log\n",
      "/usr/local/python/anaconda3/envs/pangeo3.7/lib/python3.6/site-packages/ipykernel_launcher.py:71: RuntimeWarning: divide by zero encountered in log\n",
      "/usr/local/python/anaconda3/envs/pangeo3.7/lib/python3.6/site-packages/ipykernel_launcher.py:71: RuntimeWarning: divide by zero encountered in log\n"
     ]
    },
    {
     "name": "stdout",
     "output_type": "stream",
     "text": [
      "month 300\n"
     ]
    },
    {
     "name": "stderr",
     "output_type": "stream",
     "text": [
      "/usr/local/python/anaconda3/envs/pangeo3.7/lib/python3.6/site-packages/ipykernel_launcher.py:71: RuntimeWarning: divide by zero encountered in log\n",
      "/usr/local/python/anaconda3/envs/pangeo3.7/lib/python3.6/site-packages/ipykernel_launcher.py:71: RuntimeWarning: divide by zero encountered in log\n",
      "/usr/local/python/anaconda3/envs/pangeo3.7/lib/python3.6/site-packages/ipykernel_launcher.py:71: RuntimeWarning: divide by zero encountered in log\n",
      "/usr/local/python/anaconda3/envs/pangeo3.7/lib/python3.6/site-packages/ipykernel_launcher.py:71: RuntimeWarning: divide by zero encountered in log\n",
      "/usr/local/python/anaconda3/envs/pangeo3.7/lib/python3.6/site-packages/ipykernel_launcher.py:71: RuntimeWarning: divide by zero encountered in log\n",
      "/usr/local/python/anaconda3/envs/pangeo3.7/lib/python3.6/site-packages/ipykernel_launcher.py:71: RuntimeWarning: divide by zero encountered in log\n",
      "/usr/local/python/anaconda3/envs/pangeo3.7/lib/python3.6/site-packages/ipykernel_launcher.py:71: RuntimeWarning: divide by zero encountered in log\n",
      "/usr/local/python/anaconda3/envs/pangeo3.7/lib/python3.6/site-packages/ipykernel_launcher.py:71: RuntimeWarning: divide by zero encountered in log\n",
      "/usr/local/python/anaconda3/envs/pangeo3.7/lib/python3.6/site-packages/ipykernel_launcher.py:71: RuntimeWarning: divide by zero encountered in log\n",
      "/usr/local/python/anaconda3/envs/pangeo3.7/lib/python3.6/site-packages/ipykernel_launcher.py:71: RuntimeWarning: divide by zero encountered in log\n",
      "/usr/local/python/anaconda3/envs/pangeo3.7/lib/python3.6/site-packages/ipykernel_launcher.py:71: RuntimeWarning: divide by zero encountered in log\n",
      "/usr/local/python/anaconda3/envs/pangeo3.7/lib/python3.6/site-packages/ipykernel_launcher.py:71: RuntimeWarning: divide by zero encountered in log\n",
      "/usr/local/python/anaconda3/envs/pangeo3.7/lib/python3.6/site-packages/ipykernel_launcher.py:71: RuntimeWarning: divide by zero encountered in log\n"
     ]
    },
    {
     "name": "stdout",
     "output_type": "stream",
     "text": [
      "month 320\n"
     ]
    },
    {
     "name": "stderr",
     "output_type": "stream",
     "text": [
      "/usr/local/python/anaconda3/envs/pangeo3.7/lib/python3.6/site-packages/ipykernel_launcher.py:71: RuntimeWarning: divide by zero encountered in log\n",
      "/usr/local/python/anaconda3/envs/pangeo3.7/lib/python3.6/site-packages/ipykernel_launcher.py:71: RuntimeWarning: divide by zero encountered in log\n",
      "/usr/local/python/anaconda3/envs/pangeo3.7/lib/python3.6/site-packages/ipykernel_launcher.py:71: RuntimeWarning: divide by zero encountered in log\n",
      "/usr/local/python/anaconda3/envs/pangeo3.7/lib/python3.6/site-packages/ipykernel_launcher.py:71: RuntimeWarning: divide by zero encountered in log\n",
      "/usr/local/python/anaconda3/envs/pangeo3.7/lib/python3.6/site-packages/ipykernel_launcher.py:71: RuntimeWarning: divide by zero encountered in log\n",
      "/usr/local/python/anaconda3/envs/pangeo3.7/lib/python3.6/site-packages/ipykernel_launcher.py:71: RuntimeWarning: divide by zero encountered in log\n",
      "/usr/local/python/anaconda3/envs/pangeo3.7/lib/python3.6/site-packages/ipykernel_launcher.py:71: RuntimeWarning: divide by zero encountered in log\n",
      "/usr/local/python/anaconda3/envs/pangeo3.7/lib/python3.6/site-packages/ipykernel_launcher.py:71: RuntimeWarning: divide by zero encountered in log\n",
      "/usr/local/python/anaconda3/envs/pangeo3.7/lib/python3.6/site-packages/ipykernel_launcher.py:71: RuntimeWarning: divide by zero encountered in log\n",
      "/usr/local/python/anaconda3/envs/pangeo3.7/lib/python3.6/site-packages/ipykernel_launcher.py:71: RuntimeWarning: divide by zero encountered in log\n",
      "/usr/local/python/anaconda3/envs/pangeo3.7/lib/python3.6/site-packages/ipykernel_launcher.py:71: RuntimeWarning: divide by zero encountered in log\n",
      "/usr/local/python/anaconda3/envs/pangeo3.7/lib/python3.6/site-packages/ipykernel_launcher.py:71: RuntimeWarning: divide by zero encountered in log\n",
      "/usr/local/python/anaconda3/envs/pangeo3.7/lib/python3.6/site-packages/ipykernel_launcher.py:71: RuntimeWarning: divide by zero encountered in log\n",
      "/usr/local/python/anaconda3/envs/pangeo3.7/lib/python3.6/site-packages/ipykernel_launcher.py:71: RuntimeWarning: divide by zero encountered in log\n",
      "/usr/local/python/anaconda3/envs/pangeo3.7/lib/python3.6/site-packages/ipykernel_launcher.py:71: RuntimeWarning: divide by zero encountered in log\n",
      "/usr/local/python/anaconda3/envs/pangeo3.7/lib/python3.6/site-packages/ipykernel_launcher.py:71: RuntimeWarning: divide by zero encountered in log\n",
      "/usr/local/python/anaconda3/envs/pangeo3.7/lib/python3.6/site-packages/ipykernel_launcher.py:71: RuntimeWarning: divide by zero encountered in log\n",
      "/usr/local/python/anaconda3/envs/pangeo3.7/lib/python3.6/site-packages/ipykernel_launcher.py:71: RuntimeWarning: divide by zero encountered in log\n",
      "/usr/local/python/anaconda3/envs/pangeo3.7/lib/python3.6/site-packages/ipykernel_launcher.py:71: RuntimeWarning: divide by zero encountered in log\n"
     ]
    },
    {
     "name": "stdout",
     "output_type": "stream",
     "text": [
      "month 340\n"
     ]
    },
    {
     "name": "stderr",
     "output_type": "stream",
     "text": [
      "/usr/local/python/anaconda3/envs/pangeo3.7/lib/python3.6/site-packages/ipykernel_launcher.py:71: RuntimeWarning: divide by zero encountered in log\n",
      "/usr/local/python/anaconda3/envs/pangeo3.7/lib/python3.6/site-packages/ipykernel_launcher.py:71: RuntimeWarning: divide by zero encountered in log\n",
      "/usr/local/python/anaconda3/envs/pangeo3.7/lib/python3.6/site-packages/ipykernel_launcher.py:71: RuntimeWarning: divide by zero encountered in log\n",
      "/usr/local/python/anaconda3/envs/pangeo3.7/lib/python3.6/site-packages/ipykernel_launcher.py:71: RuntimeWarning: divide by zero encountered in log\n",
      "/usr/local/python/anaconda3/envs/pangeo3.7/lib/python3.6/site-packages/ipykernel_launcher.py:71: RuntimeWarning: divide by zero encountered in log\n",
      "/usr/local/python/anaconda3/envs/pangeo3.7/lib/python3.6/site-packages/ipykernel_launcher.py:71: RuntimeWarning: divide by zero encountered in log\n",
      "/usr/local/python/anaconda3/envs/pangeo3.7/lib/python3.6/site-packages/ipykernel_launcher.py:71: RuntimeWarning: divide by zero encountered in log\n",
      "/usr/local/python/anaconda3/envs/pangeo3.7/lib/python3.6/site-packages/ipykernel_launcher.py:71: RuntimeWarning: divide by zero encountered in log\n",
      "/usr/local/python/anaconda3/envs/pangeo3.7/lib/python3.6/site-packages/ipykernel_launcher.py:71: RuntimeWarning: divide by zero encountered in log\n",
      "/usr/local/python/anaconda3/envs/pangeo3.7/lib/python3.6/site-packages/ipykernel_launcher.py:71: RuntimeWarning: divide by zero encountered in log\n",
      "/usr/local/python/anaconda3/envs/pangeo3.7/lib/python3.6/site-packages/ipykernel_launcher.py:71: RuntimeWarning: divide by zero encountered in log\n",
      "/usr/local/python/anaconda3/envs/pangeo3.7/lib/python3.6/site-packages/ipykernel_launcher.py:71: RuntimeWarning: divide by zero encountered in log\n",
      "/usr/local/python/anaconda3/envs/pangeo3.7/lib/python3.6/site-packages/ipykernel_launcher.py:71: RuntimeWarning: divide by zero encountered in log\n",
      "/usr/local/python/anaconda3/envs/pangeo3.7/lib/python3.6/site-packages/ipykernel_launcher.py:71: RuntimeWarning: divide by zero encountered in log\n",
      "/usr/local/python/anaconda3/envs/pangeo3.7/lib/python3.6/site-packages/ipykernel_launcher.py:71: RuntimeWarning: divide by zero encountered in log\n",
      "/usr/local/python/anaconda3/envs/pangeo3.7/lib/python3.6/site-packages/ipykernel_launcher.py:71: RuntimeWarning: divide by zero encountered in log\n",
      "/usr/local/python/anaconda3/envs/pangeo3.7/lib/python3.6/site-packages/ipykernel_launcher.py:71: RuntimeWarning: divide by zero encountered in log\n",
      "/usr/local/python/anaconda3/envs/pangeo3.7/lib/python3.6/site-packages/ipykernel_launcher.py:71: RuntimeWarning: divide by zero encountered in log\n"
     ]
    },
    {
     "name": "stdout",
     "output_type": "stream",
     "text": [
      "month 360\n"
     ]
    },
    {
     "name": "stderr",
     "output_type": "stream",
     "text": [
      "/usr/local/python/anaconda3/envs/pangeo3.7/lib/python3.6/site-packages/ipykernel_launcher.py:71: RuntimeWarning: divide by zero encountered in log\n",
      "/usr/local/python/anaconda3/envs/pangeo3.7/lib/python3.6/site-packages/ipykernel_launcher.py:71: RuntimeWarning: divide by zero encountered in log\n",
      "/usr/local/python/anaconda3/envs/pangeo3.7/lib/python3.6/site-packages/ipykernel_launcher.py:71: RuntimeWarning: divide by zero encountered in log\n",
      "/usr/local/python/anaconda3/envs/pangeo3.7/lib/python3.6/site-packages/ipykernel_launcher.py:71: RuntimeWarning: divide by zero encountered in log\n",
      "/usr/local/python/anaconda3/envs/pangeo3.7/lib/python3.6/site-packages/ipykernel_launcher.py:71: RuntimeWarning: divide by zero encountered in log\n",
      "/usr/local/python/anaconda3/envs/pangeo3.7/lib/python3.6/site-packages/ipykernel_launcher.py:71: RuntimeWarning: divide by zero encountered in log\n",
      "/usr/local/python/anaconda3/envs/pangeo3.7/lib/python3.6/site-packages/ipykernel_launcher.py:71: RuntimeWarning: divide by zero encountered in log\n",
      "/usr/local/python/anaconda3/envs/pangeo3.7/lib/python3.6/site-packages/ipykernel_launcher.py:71: RuntimeWarning: divide by zero encountered in log\n",
      "/usr/local/python/anaconda3/envs/pangeo3.7/lib/python3.6/site-packages/ipykernel_launcher.py:71: RuntimeWarning: divide by zero encountered in log\n",
      "/usr/local/python/anaconda3/envs/pangeo3.7/lib/python3.6/site-packages/ipykernel_launcher.py:71: RuntimeWarning: divide by zero encountered in log\n",
      "/usr/local/python/anaconda3/envs/pangeo3.7/lib/python3.6/site-packages/ipykernel_launcher.py:71: RuntimeWarning: divide by zero encountered in log\n",
      "/usr/local/python/anaconda3/envs/pangeo3.7/lib/python3.6/site-packages/ipykernel_launcher.py:71: RuntimeWarning: divide by zero encountered in log\n",
      "/usr/local/python/anaconda3/envs/pangeo3.7/lib/python3.6/site-packages/ipykernel_launcher.py:71: RuntimeWarning: divide by zero encountered in log\n",
      "/usr/local/python/anaconda3/envs/pangeo3.7/lib/python3.6/site-packages/ipykernel_launcher.py:71: RuntimeWarning: divide by zero encountered in log\n",
      "/usr/local/python/anaconda3/envs/pangeo3.7/lib/python3.6/site-packages/ipykernel_launcher.py:71: RuntimeWarning: divide by zero encountered in log\n",
      "/usr/local/python/anaconda3/envs/pangeo3.7/lib/python3.6/site-packages/ipykernel_launcher.py:71: RuntimeWarning: divide by zero encountered in log\n",
      "/usr/local/python/anaconda3/envs/pangeo3.7/lib/python3.6/site-packages/ipykernel_launcher.py:71: RuntimeWarning: divide by zero encountered in log\n",
      "/usr/local/python/anaconda3/envs/pangeo3.7/lib/python3.6/site-packages/ipykernel_launcher.py:71: RuntimeWarning: divide by zero encountered in log\n"
     ]
    },
    {
     "name": "stdout",
     "output_type": "stream",
     "text": [
      "month 380\n"
     ]
    },
    {
     "name": "stderr",
     "output_type": "stream",
     "text": [
      "/usr/local/python/anaconda3/envs/pangeo3.7/lib/python3.6/site-packages/ipykernel_launcher.py:71: RuntimeWarning: divide by zero encountered in log\n",
      "/usr/local/python/anaconda3/envs/pangeo3.7/lib/python3.6/site-packages/ipykernel_launcher.py:71: RuntimeWarning: divide by zero encountered in log\n",
      "/usr/local/python/anaconda3/envs/pangeo3.7/lib/python3.6/site-packages/ipykernel_launcher.py:71: RuntimeWarning: divide by zero encountered in log\n",
      "/usr/local/python/anaconda3/envs/pangeo3.7/lib/python3.6/site-packages/ipykernel_launcher.py:71: RuntimeWarning: divide by zero encountered in log\n",
      "/usr/local/python/anaconda3/envs/pangeo3.7/lib/python3.6/site-packages/ipykernel_launcher.py:71: RuntimeWarning: divide by zero encountered in log\n",
      "/usr/local/python/anaconda3/envs/pangeo3.7/lib/python3.6/site-packages/ipykernel_launcher.py:71: RuntimeWarning: divide by zero encountered in log\n",
      "/usr/local/python/anaconda3/envs/pangeo3.7/lib/python3.6/site-packages/ipykernel_launcher.py:71: RuntimeWarning: divide by zero encountered in log\n",
      "/usr/local/python/anaconda3/envs/pangeo3.7/lib/python3.6/site-packages/ipykernel_launcher.py:71: RuntimeWarning: divide by zero encountered in log\n",
      "/usr/local/python/anaconda3/envs/pangeo3.7/lib/python3.6/site-packages/ipykernel_launcher.py:71: RuntimeWarning: divide by zero encountered in log\n",
      "/usr/local/python/anaconda3/envs/pangeo3.7/lib/python3.6/site-packages/ipykernel_launcher.py:71: RuntimeWarning: divide by zero encountered in log\n",
      "/usr/local/python/anaconda3/envs/pangeo3.7/lib/python3.6/site-packages/ipykernel_launcher.py:71: RuntimeWarning: divide by zero encountered in log\n",
      "/usr/local/python/anaconda3/envs/pangeo3.7/lib/python3.6/site-packages/ipykernel_launcher.py:71: RuntimeWarning: divide by zero encountered in log\n",
      "/usr/local/python/anaconda3/envs/pangeo3.7/lib/python3.6/site-packages/ipykernel_launcher.py:71: RuntimeWarning: divide by zero encountered in log\n",
      "/usr/local/python/anaconda3/envs/pangeo3.7/lib/python3.6/site-packages/ipykernel_launcher.py:71: RuntimeWarning: divide by zero encountered in log\n",
      "/usr/local/python/anaconda3/envs/pangeo3.7/lib/python3.6/site-packages/ipykernel_launcher.py:71: RuntimeWarning: divide by zero encountered in log\n",
      "/usr/local/python/anaconda3/envs/pangeo3.7/lib/python3.6/site-packages/ipykernel_launcher.py:71: RuntimeWarning: divide by zero encountered in log\n",
      "/usr/local/python/anaconda3/envs/pangeo3.7/lib/python3.6/site-packages/ipykernel_launcher.py:71: RuntimeWarning: divide by zero encountered in log\n",
      "/usr/local/python/anaconda3/envs/pangeo3.7/lib/python3.6/site-packages/ipykernel_launcher.py:71: RuntimeWarning: divide by zero encountered in log\n",
      "/usr/local/python/anaconda3/envs/pangeo3.7/lib/python3.6/site-packages/ipykernel_launcher.py:71: RuntimeWarning: divide by zero encountered in log\n",
      "/usr/local/python/anaconda3/envs/pangeo3.7/lib/python3.6/site-packages/ipykernel_launcher.py:71: RuntimeWarning: divide by zero encountered in log\n"
     ]
    },
    {
     "name": "stdout",
     "output_type": "stream",
     "text": [
      "month 400\n"
     ]
    },
    {
     "name": "stderr",
     "output_type": "stream",
     "text": [
      "/usr/local/python/anaconda3/envs/pangeo3.7/lib/python3.6/site-packages/ipykernel_launcher.py:71: RuntimeWarning: divide by zero encountered in log\n",
      "/usr/local/python/anaconda3/envs/pangeo3.7/lib/python3.6/site-packages/ipykernel_launcher.py:71: RuntimeWarning: divide by zero encountered in log\n",
      "/usr/local/python/anaconda3/envs/pangeo3.7/lib/python3.6/site-packages/ipykernel_launcher.py:71: RuntimeWarning: divide by zero encountered in log\n",
      "/usr/local/python/anaconda3/envs/pangeo3.7/lib/python3.6/site-packages/ipykernel_launcher.py:71: RuntimeWarning: divide by zero encountered in log\n",
      "/usr/local/python/anaconda3/envs/pangeo3.7/lib/python3.6/site-packages/ipykernel_launcher.py:71: RuntimeWarning: divide by zero encountered in log\n",
      "/usr/local/python/anaconda3/envs/pangeo3.7/lib/python3.6/site-packages/ipykernel_launcher.py:71: RuntimeWarning: divide by zero encountered in log\n",
      "/usr/local/python/anaconda3/envs/pangeo3.7/lib/python3.6/site-packages/ipykernel_launcher.py:71: RuntimeWarning: divide by zero encountered in log\n",
      "/usr/local/python/anaconda3/envs/pangeo3.7/lib/python3.6/site-packages/ipykernel_launcher.py:71: RuntimeWarning: divide by zero encountered in log\n",
      "/usr/local/python/anaconda3/envs/pangeo3.7/lib/python3.6/site-packages/ipykernel_launcher.py:71: RuntimeWarning: divide by zero encountered in log\n",
      "/usr/local/python/anaconda3/envs/pangeo3.7/lib/python3.6/site-packages/ipykernel_launcher.py:71: RuntimeWarning: divide by zero encountered in log\n",
      "/usr/local/python/anaconda3/envs/pangeo3.7/lib/python3.6/site-packages/ipykernel_launcher.py:71: RuntimeWarning: divide by zero encountered in log\n",
      "/usr/local/python/anaconda3/envs/pangeo3.7/lib/python3.6/site-packages/ipykernel_launcher.py:71: RuntimeWarning: divide by zero encountered in log\n",
      "/usr/local/python/anaconda3/envs/pangeo3.7/lib/python3.6/site-packages/ipykernel_launcher.py:71: RuntimeWarning: divide by zero encountered in log\n",
      "/usr/local/python/anaconda3/envs/pangeo3.7/lib/python3.6/site-packages/ipykernel_launcher.py:71: RuntimeWarning: divide by zero encountered in log\n",
      "/usr/local/python/anaconda3/envs/pangeo3.7/lib/python3.6/site-packages/ipykernel_launcher.py:71: RuntimeWarning: divide by zero encountered in log\n",
      "/usr/local/python/anaconda3/envs/pangeo3.7/lib/python3.6/site-packages/ipykernel_launcher.py:71: RuntimeWarning: divide by zero encountered in log\n",
      "/usr/local/python/anaconda3/envs/pangeo3.7/lib/python3.6/site-packages/ipykernel_launcher.py:71: RuntimeWarning: divide by zero encountered in log\n"
     ]
    },
    {
     "name": "stdout",
     "output_type": "stream",
     "text": [
      "month 420\n"
     ]
    },
    {
     "name": "stderr",
     "output_type": "stream",
     "text": [
      "/usr/local/python/anaconda3/envs/pangeo3.7/lib/python3.6/site-packages/ipykernel_launcher.py:71: RuntimeWarning: divide by zero encountered in log\n",
      "/usr/local/python/anaconda3/envs/pangeo3.7/lib/python3.6/site-packages/ipykernel_launcher.py:71: RuntimeWarning: divide by zero encountered in log\n",
      "/usr/local/python/anaconda3/envs/pangeo3.7/lib/python3.6/site-packages/ipykernel_launcher.py:71: RuntimeWarning: divide by zero encountered in log\n",
      "/usr/local/python/anaconda3/envs/pangeo3.7/lib/python3.6/site-packages/ipykernel_launcher.py:71: RuntimeWarning: divide by zero encountered in log\n",
      "/usr/local/python/anaconda3/envs/pangeo3.7/lib/python3.6/site-packages/ipykernel_launcher.py:71: RuntimeWarning: divide by zero encountered in log\n",
      "/usr/local/python/anaconda3/envs/pangeo3.7/lib/python3.6/site-packages/ipykernel_launcher.py:71: RuntimeWarning: divide by zero encountered in log\n",
      "/usr/local/python/anaconda3/envs/pangeo3.7/lib/python3.6/site-packages/ipykernel_launcher.py:71: RuntimeWarning: divide by zero encountered in log\n",
      "/usr/local/python/anaconda3/envs/pangeo3.7/lib/python3.6/site-packages/ipykernel_launcher.py:71: RuntimeWarning: divide by zero encountered in log\n",
      "/usr/local/python/anaconda3/envs/pangeo3.7/lib/python3.6/site-packages/ipykernel_launcher.py:71: RuntimeWarning: divide by zero encountered in log\n",
      "/usr/local/python/anaconda3/envs/pangeo3.7/lib/python3.6/site-packages/ipykernel_launcher.py:71: RuntimeWarning: divide by zero encountered in log\n",
      "/usr/local/python/anaconda3/envs/pangeo3.7/lib/python3.6/site-packages/ipykernel_launcher.py:71: RuntimeWarning: divide by zero encountered in log\n",
      "/usr/local/python/anaconda3/envs/pangeo3.7/lib/python3.6/site-packages/ipykernel_launcher.py:71: RuntimeWarning: divide by zero encountered in log\n",
      "/usr/local/python/anaconda3/envs/pangeo3.7/lib/python3.6/site-packages/ipykernel_launcher.py:71: RuntimeWarning: divide by zero encountered in log\n",
      "/usr/local/python/anaconda3/envs/pangeo3.7/lib/python3.6/site-packages/ipykernel_launcher.py:71: RuntimeWarning: divide by zero encountered in log\n",
      "/usr/local/python/anaconda3/envs/pangeo3.7/lib/python3.6/site-packages/ipykernel_launcher.py:71: RuntimeWarning: divide by zero encountered in log\n"
     ]
    },
    {
     "name": "stdout",
     "output_type": "stream",
     "text": [
      "month 440\n"
     ]
    },
    {
     "name": "stderr",
     "output_type": "stream",
     "text": [
      "/usr/local/python/anaconda3/envs/pangeo3.7/lib/python3.6/site-packages/ipykernel_launcher.py:71: RuntimeWarning: divide by zero encountered in log\n",
      "/usr/local/python/anaconda3/envs/pangeo3.7/lib/python3.6/site-packages/ipykernel_launcher.py:71: RuntimeWarning: divide by zero encountered in log\n",
      "/usr/local/python/anaconda3/envs/pangeo3.7/lib/python3.6/site-packages/ipykernel_launcher.py:71: RuntimeWarning: divide by zero encountered in log\n",
      "/usr/local/python/anaconda3/envs/pangeo3.7/lib/python3.6/site-packages/ipykernel_launcher.py:71: RuntimeWarning: divide by zero encountered in log\n",
      "/usr/local/python/anaconda3/envs/pangeo3.7/lib/python3.6/site-packages/ipykernel_launcher.py:71: RuntimeWarning: divide by zero encountered in log\n",
      "/usr/local/python/anaconda3/envs/pangeo3.7/lib/python3.6/site-packages/ipykernel_launcher.py:71: RuntimeWarning: divide by zero encountered in log\n",
      "/usr/local/python/anaconda3/envs/pangeo3.7/lib/python3.6/site-packages/ipykernel_launcher.py:71: RuntimeWarning: divide by zero encountered in log\n",
      "/usr/local/python/anaconda3/envs/pangeo3.7/lib/python3.6/site-packages/ipykernel_launcher.py:71: RuntimeWarning: divide by zero encountered in log\n",
      "/usr/local/python/anaconda3/envs/pangeo3.7/lib/python3.6/site-packages/ipykernel_launcher.py:71: RuntimeWarning: divide by zero encountered in log\n",
      "/usr/local/python/anaconda3/envs/pangeo3.7/lib/python3.6/site-packages/ipykernel_launcher.py:71: RuntimeWarning: divide by zero encountered in log\n",
      "/usr/local/python/anaconda3/envs/pangeo3.7/lib/python3.6/site-packages/ipykernel_launcher.py:71: RuntimeWarning: divide by zero encountered in log\n",
      "/usr/local/python/anaconda3/envs/pangeo3.7/lib/python3.6/site-packages/ipykernel_launcher.py:71: RuntimeWarning: divide by zero encountered in log\n",
      "/usr/local/python/anaconda3/envs/pangeo3.7/lib/python3.6/site-packages/ipykernel_launcher.py:71: RuntimeWarning: divide by zero encountered in log\n",
      "/usr/local/python/anaconda3/envs/pangeo3.7/lib/python3.6/site-packages/ipykernel_launcher.py:71: RuntimeWarning: divide by zero encountered in log\n",
      "/usr/local/python/anaconda3/envs/pangeo3.7/lib/python3.6/site-packages/ipykernel_launcher.py:71: RuntimeWarning: divide by zero encountered in log\n",
      "/usr/local/python/anaconda3/envs/pangeo3.7/lib/python3.6/site-packages/ipykernel_launcher.py:71: RuntimeWarning: divide by zero encountered in log\n",
      "/usr/local/python/anaconda3/envs/pangeo3.7/lib/python3.6/site-packages/ipykernel_launcher.py:71: RuntimeWarning: divide by zero encountered in log\n",
      "/usr/local/python/anaconda3/envs/pangeo3.7/lib/python3.6/site-packages/ipykernel_launcher.py:71: RuntimeWarning: divide by zero encountered in log\n",
      "/usr/local/python/anaconda3/envs/pangeo3.7/lib/python3.6/site-packages/ipykernel_launcher.py:71: RuntimeWarning: divide by zero encountered in log\n",
      "/usr/local/python/anaconda3/envs/pangeo3.7/lib/python3.6/site-packages/ipykernel_launcher.py:71: RuntimeWarning: divide by zero encountered in log\n"
     ]
    },
    {
     "name": "stdout",
     "output_type": "stream",
     "text": [
      "month 460\n"
     ]
    },
    {
     "name": "stderr",
     "output_type": "stream",
     "text": [
      "/usr/local/python/anaconda3/envs/pangeo3.7/lib/python3.6/site-packages/ipykernel_launcher.py:71: RuntimeWarning: divide by zero encountered in log\n",
      "/usr/local/python/anaconda3/envs/pangeo3.7/lib/python3.6/site-packages/ipykernel_launcher.py:71: RuntimeWarning: divide by zero encountered in log\n",
      "/usr/local/python/anaconda3/envs/pangeo3.7/lib/python3.6/site-packages/ipykernel_launcher.py:71: RuntimeWarning: divide by zero encountered in log\n",
      "/usr/local/python/anaconda3/envs/pangeo3.7/lib/python3.6/site-packages/ipykernel_launcher.py:71: RuntimeWarning: divide by zero encountered in log\n",
      "/usr/local/python/anaconda3/envs/pangeo3.7/lib/python3.6/site-packages/ipykernel_launcher.py:71: RuntimeWarning: divide by zero encountered in log\n",
      "/usr/local/python/anaconda3/envs/pangeo3.7/lib/python3.6/site-packages/ipykernel_launcher.py:71: RuntimeWarning: divide by zero encountered in log\n",
      "/usr/local/python/anaconda3/envs/pangeo3.7/lib/python3.6/site-packages/ipykernel_launcher.py:71: RuntimeWarning: divide by zero encountered in log\n",
      "/usr/local/python/anaconda3/envs/pangeo3.7/lib/python3.6/site-packages/ipykernel_launcher.py:71: RuntimeWarning: divide by zero encountered in log\n",
      "/usr/local/python/anaconda3/envs/pangeo3.7/lib/python3.6/site-packages/ipykernel_launcher.py:71: RuntimeWarning: divide by zero encountered in log\n",
      "/usr/local/python/anaconda3/envs/pangeo3.7/lib/python3.6/site-packages/ipykernel_launcher.py:71: RuntimeWarning: divide by zero encountered in log\n",
      "/usr/local/python/anaconda3/envs/pangeo3.7/lib/python3.6/site-packages/ipykernel_launcher.py:71: RuntimeWarning: divide by zero encountered in log\n",
      "/usr/local/python/anaconda3/envs/pangeo3.7/lib/python3.6/site-packages/ipykernel_launcher.py:71: RuntimeWarning: divide by zero encountered in log\n",
      "/usr/local/python/anaconda3/envs/pangeo3.7/lib/python3.6/site-packages/ipykernel_launcher.py:71: RuntimeWarning: divide by zero encountered in log\n",
      "/usr/local/python/anaconda3/envs/pangeo3.7/lib/python3.6/site-packages/ipykernel_launcher.py:71: RuntimeWarning: divide by zero encountered in log\n",
      "/usr/local/python/anaconda3/envs/pangeo3.7/lib/python3.6/site-packages/ipykernel_launcher.py:71: RuntimeWarning: divide by zero encountered in log\n",
      "/usr/local/python/anaconda3/envs/pangeo3.7/lib/python3.6/site-packages/ipykernel_launcher.py:71: RuntimeWarning: divide by zero encountered in log\n",
      "/usr/local/python/anaconda3/envs/pangeo3.7/lib/python3.6/site-packages/ipykernel_launcher.py:71: RuntimeWarning: divide by zero encountered in log\n",
      "/usr/local/python/anaconda3/envs/pangeo3.7/lib/python3.6/site-packages/ipykernel_launcher.py:71: RuntimeWarning: divide by zero encountered in log\n",
      "/usr/local/python/anaconda3/envs/pangeo3.7/lib/python3.6/site-packages/ipykernel_launcher.py:71: RuntimeWarning: divide by zero encountered in log\n"
     ]
    },
    {
     "name": "stdout",
     "output_type": "stream",
     "text": [
      "Kernel multiplication (water vapor) for model: NorESM2\n",
      "month 0\n",
      "month 20\n",
      "month 40\n",
      "month 60\n",
      "month 80\n",
      "month 100\n",
      "month 120\n",
      "month 140\n",
      "month 160\n",
      "month 180\n",
      "month 200\n",
      "month 220\n",
      "month 240\n",
      "month 260\n",
      "month 280\n",
      "month 300\n",
      "month 320\n",
      "month 340\n",
      "month 360\n",
      "month 380\n",
      "month 400\n",
      "month 420\n",
      "month 440\n",
      "month 460\n",
      "month 480\n"
     ]
    }
   ],
   "source": [
    "dLW_wv_dict = dict()\n",
    "for model in models_12:\n",
    "    print('Kernel multiplication (water vapor) for model: ' + model)\n",
    "    \n",
    "    #Load needed data:\n",
    "    #Need water vapor kernel, climatological temperature (for calculating standard anomaly),\n",
    "    #climatological water vapor (for calculating standard anomaly and difference for the month), \n",
    "    #monthly water vapor (for calculating difference for the month)\n",
    "    #Fortunately climatological water vapor and specific humidity are in the same file. \n",
    "    \n",
    "    ds_clim = xr.open_dataset('../nc_plev_non_regridded/master_plev_og_'+model+'.nc').sel(exp='AquaControl')    \n",
    "    ds_mon_wv = xr.open_dataset(glob.glob('../nc_esgf/Amon/hus_Amon_'+\n",
    "                                          model_filenames[model]+'_aqua4xCO2TRACMIP_r1i1p1_*')[0])\n",
    "    ds_mon_wv = ds_mon_wv.reindex(plev=ds_mon_wv.plev[::-1]) #Flip pressure levels to match the order for the other two\n",
    "    kernel_wv = xr.open_dataset('../aquakernels_Feldl/aquakernels/regridded_model_grids/lw_q_rg_'+model+'.nc')\n",
    "    numMonths = len(ds_mon_wv.time)\n",
    "    \n",
    "    #Calculate the change in log humidity--no, this needs to be done in loop over the months\n",
    "    \n",
    "    \n",
    "    #Preallocate something to store the output after multiplication and vertical integration for each month\n",
    "    #Maybe save NetCDF file here and regrid later? Well, that will create more data\n",
    "    dLW_wv_raw = np.zeros([numMonths, len(ds_mon_wv.lat), len(ds_mon_wv.lon)]) \n",
    "    \n",
    "    \n",
    "    #Loop through the months\n",
    "    for i in np.arange(numMonths):\n",
    "    #for i in np.arange(3): #debug\n",
    "        if i % 20 == 0:\n",
    "            print('month '+str(i))\n",
    "        ta_clim_i = ds_clim.isel(time=i%12)['ta']\n",
    "        wv_clim_i = ds_clim.isel(time=i%12)['hus']\n",
    "                \n",
    "        wv_mon_i = ds_mon_wv.isel(time=i)['hus']\n",
    "        #To avoid issues with mismatched precision of longitude, use raw NumPy array for one field\n",
    "        wv_mon_i_raw = wv_mon_i.data\n",
    "        \n",
    "        #For climatological datasets:\n",
    "        #Interpolate from grid box boundaries to centers for the MetUM models\n",
    "        #Use a temporary raw array, then reassign coords at the end\n",
    "        if model in ['MetUM-GA6-CTL', 'MetUM-GA6-ENT']:\n",
    "            temp_raw = ta_clim_i.data\n",
    "            edge = temp_raw[:,:,0]\n",
    "            temp_raw_1 = np.concatenate((temp_raw, edge[:,:,None]), axis=2) #duplicate edge lons\n",
    "            temp_raw_2 = (temp_raw_1[:,:,:-1]+temp_raw_1[:,:,1:])/2. #midpoint along longitudes\n",
    "            temp_raw_3 = (temp_raw_2[:,:-1,:]+temp_raw_2[:,1:,:])/2. #midpoint along latitudes\n",
    "            \n",
    "            #Reconstruct the XArray object. \n",
    "            #Dimensions of this variable don't actually matter from this point, except for dropping bottom plev\n",
    "            ta_clim_i = xr.DataArray(temp_raw_3, {'plev': wv_mon_i.plev, 'lat': wv_mon_i.lat, 'lon': wv_mon_i.lon},  \n",
    "                                      dims=['plev', 'lat', 'lon'])\n",
    "            \n",
    "            #Repeat for water vapor\n",
    "            temp_raw = wv_clim_i.data\n",
    "            edge = temp_raw[:,:,0]\n",
    "            temp_raw_1 = np.concatenate((temp_raw, edge[:,:,None]), axis=2) #duplicate edge lons\n",
    "            temp_raw_2 = (temp_raw_1[:,:,:-1]+temp_raw_1[:,:,1:])/2. #midpoint along longitudes\n",
    "            temp_raw_3 = (temp_raw_2[:,:-1,:]+temp_raw_2[:,1:,:])/2. #midpoint along latitudes\n",
    "            \n",
    "            wv_clim_i = xr.DataArray(temp_raw_3, {'plev': wv_mon_i.plev, 'lat': wv_mon_i.lat, 'lon': wv_mon_i.lon},  \n",
    "                                      dims=['plev', 'lat', 'lon'])\n",
    "            \n",
    "        #Here is the point at which this really diverges from the temperature calculations: have to calculate \n",
    "        #change in log humidity, then standard anomaly, then ratio of log humidity change to standard anomaly, \n",
    "        #then finally multiply by the kernel. \n",
    "        \n",
    "        #For temperature it was simple: \n",
    "        #dT_i = ds_mon_ta_i_raw - ds_clim_i\n",
    "        \n",
    "        #Instead do this: \n",
    "        log_hus_diff_i = np.log(wv_mon_i_raw) - np.log(wv_clim_i)\n",
    "        deltaLogQ1K_i = deltaLogQfrom1Kwarming(ta_clim_i, wv_clim_i, wv_mon_i.plev)\n",
    "        #Works so far\n",
    "        \n",
    "        standardAnomalyRatio_i = log_hus_diff_i/deltaLogQ1K_i\n",
    "        \n",
    "        #Kernel: subset to drop bottom layer, and drop dimension info\n",
    "        kernel_i = kernel_wv.isel(plev=np.arange(len(plev_widths)), time=i%12)\n",
    "        kernel_raw = kernel_i['__xarray_dataarray_variable__'].data\n",
    "        \n",
    "        #Multiply by kernel\n",
    "        wvTimesKernel_i = standardAnomalyRatio_i.isel(plev=np.arange(len(plev_widths)))*kernel_raw\n",
    "        \n",
    "        #Vertically integrate (divide by 10000 because kernel was in W/m^2/100 hPa)\n",
    "        dLW_wv_raw[i,:,:] = (wvTimesKernel_i*plev_widths[:, None, None]/10000.0).sum(dim='plev')\n",
    "        \n",
    "    #Create XArray DataArray with the result\n",
    "    dLW_wv_dict[model] = xr.DataArray(dLW_wv_raw, {'time': ds_mon_wv.time, 'lat': ds_mon_wv.lat, 'lon': ds_mon_wv.lon},  \n",
    "                                      dims=['time', 'lat', 'lon'], name='dLW')"
   ]
  },
  {
   "cell_type": "code",
   "execution_count": 15,
   "metadata": {},
   "outputs": [],
   "source": [
    "#Save kernel results for individual models to netCDF files\n",
    "for model in models_12:\n",
    "    dLW_wv_dict[model].to_netcdf('nc_from_xarray/dLW_wv_og_'+model+'.nc')"
   ]
  },
  {
   "cell_type": "code",
   "execution_count": 17,
   "metadata": {},
   "outputs": [
    {
     "data": {
      "text/plain": [
       "<matplotlib.collections.QuadMesh at 0x7f0908d2c3c8>"
      ]
     },
     "execution_count": 17,
     "metadata": {},
     "output_type": "execute_result"
    },
    {
     "data": {
      "image/png": "[encoded data removed]",
      "text/plain": [
       "<Figure size 432x288 with 2 Axes>"
      ]
     },
     "metadata": {
      "needs_background": "light"
     },
     "output_type": "display_data"
    }
   ],
   "source": [
    "# Test plot\n",
    "test = xr.open_dataset('nc_from_xarray/dLW_wv_og_'+model+'.nc')\n",
    "test['dLW'].isel(time=0).plot()\n"
   ]
  },
  {
   "cell_type": "code",
   "execution_count": null,
   "metadata": {},
   "outputs": [],
   "source": [
    "#Regrid to climatology grid in: \n",
    "\n",
    "#Script: \"regrid_kernel_results_wv.py\"\n"
   ]
  },
  {
   "cell_type": "code",
   "execution_count": 18,
   "metadata": {},
   "outputs": [],
   "source": [
    "#Do the same for surface temperature (simpler--can use stuff that's already on climatology grid)\n",
    "\n",
    "#Do this before I forget how to do it and it becomes harder\n",
    "\n",
    "#Remember, this is already on climatology grid, so use kernel version that is also there. \n",
    "\n",
    "#But don't I have to regrid the surface temperature data to the climatology grid? \n",
    "#Already did this for APRP."
   ]
  },
  {
   "cell_type": "code",
   "execution_count": 30,
   "metadata": {},
   "outputs": [
    {
     "name": "stdout",
     "output_type": "stream",
     "text": [
      "AM2\n",
      "month 0\n",
      "month 20\n",
      "month 40\n",
      "month 60\n",
      "month 80\n",
      "month 100\n",
      "month 120\n",
      "month 140\n",
      "month 160\n",
      "month 180\n",
      "month 200\n",
      "month 220\n",
      "month 240\n",
      "month 260\n",
      "month 280\n",
      "month 300\n",
      "month 320\n",
      "month 340\n",
      "month 360\n",
      "month 380\n",
      "month 400\n",
      "month 420\n",
      "month 440\n",
      "month 460\n",
      "CAM3\n",
      "month 0\n",
      "month 20\n",
      "month 40\n",
      "month 60\n",
      "month 80\n",
      "month 100\n",
      "month 120\n",
      "month 140\n",
      "month 160\n",
      "month 180\n",
      "month 200\n",
      "month 220\n",
      "month 240\n",
      "month 260\n",
      "month 280\n",
      "month 300\n",
      "month 320\n",
      "month 340\n",
      "month 360\n",
      "month 380\n",
      "month 400\n",
      "month 420\n",
      "month 440\n",
      "month 460\n",
      "CAM4\n",
      "month 0\n",
      "month 20\n",
      "month 40\n",
      "month 60\n",
      "month 80\n",
      "month 100\n",
      "month 120\n",
      "month 140\n",
      "month 160\n",
      "month 180\n",
      "month 200\n",
      "month 220\n",
      "month 240\n",
      "month 260\n",
      "month 280\n",
      "month 300\n",
      "month 320\n",
      "month 340\n",
      "month 360\n",
      "month 380\n",
      "month 400\n",
      "month 420\n",
      "month 440\n",
      "month 460\n",
      "CNRM-AM6-DIA-v2\n",
      "month 0\n",
      "month 20\n",
      "month 40\n",
      "month 60\n",
      "month 80\n",
      "month 100\n",
      "month 120\n",
      "month 140\n",
      "month 160\n",
      "month 180\n",
      "month 200\n",
      "month 220\n",
      "month 240\n",
      "month 260\n",
      "month 280\n",
      "month 300\n",
      "month 320\n",
      "month 340\n",
      "month 360\n",
      "month 380\n",
      "month 400\n",
      "month 420\n",
      "month 440\n",
      "month 460\n",
      "ECHAM-6.1\n",
      "month 0\n",
      "month 20\n",
      "month 40\n",
      "month 60\n",
      "month 80\n",
      "month 100\n",
      "month 120\n",
      "month 140\n",
      "month 160\n",
      "month 180\n",
      "month 200\n",
      "month 220\n",
      "month 240\n",
      "month 260\n",
      "month 280\n",
      "month 300\n",
      "month 320\n",
      "month 340\n",
      "month 360\n",
      "month 380\n",
      "month 400\n",
      "month 420\n",
      "month 440\n",
      "month 460\n",
      "month 480\n",
      "month 500\n",
      "month 520\n",
      "ECHAM-6.3\n",
      "month 0\n",
      "month 20\n",
      "month 40\n",
      "month 60\n",
      "month 80\n",
      "month 100\n",
      "month 120\n",
      "month 140\n",
      "month 160\n",
      "month 180\n",
      "month 200\n",
      "month 220\n",
      "month 240\n",
      "month 260\n",
      "month 280\n",
      "month 300\n",
      "month 320\n",
      "month 340\n",
      "month 360\n",
      "month 380\n",
      "month 400\n",
      "month 420\n",
      "month 440\n",
      "month 460\n",
      "IPSL-CM5A\n",
      "month 0\n",
      "month 20\n",
      "month 40\n",
      "month 60\n",
      "month 80\n",
      "month 100\n",
      "month 120\n",
      "month 140\n",
      "month 160\n",
      "month 180\n",
      "month 200\n",
      "month 220\n",
      "month 240\n",
      "month 260\n",
      "month 280\n",
      "month 300\n",
      "month 320\n",
      "month 340\n",
      "MIROC5\n",
      "month 0\n",
      "month 20\n",
      "month 40\n",
      "month 60\n",
      "month 80\n",
      "month 100\n",
      "month 120\n",
      "month 140\n",
      "month 160\n",
      "month 180\n",
      "month 200\n",
      "month 220\n",
      "month 240\n",
      "month 260\n",
      "month 280\n",
      "month 300\n",
      "month 320\n",
      "month 340\n",
      "month 360\n",
      "month 380\n",
      "month 400\n",
      "month 420\n",
      "month 440\n",
      "month 460\n",
      "MPAS\n",
      "month 0\n",
      "month 20\n",
      "month 40\n",
      "month 60\n",
      "month 80\n",
      "month 100\n",
      "month 120\n",
      "month 140\n",
      "month 160\n",
      "month 180\n",
      "month 200\n",
      "month 220\n",
      "month 240\n",
      "month 260\n",
      "month 280\n",
      "month 300\n",
      "month 320\n",
      "month 340\n",
      "month 360\n",
      "month 380\n",
      "month 400\n",
      "month 420\n",
      "month 440\n",
      "month 460\n",
      "MetUM-GA6-CTL\n",
      "month 0\n",
      "month 20\n",
      "month 40\n",
      "month 60\n",
      "month 80\n",
      "month 100\n",
      "month 120\n",
      "month 140\n",
      "month 160\n",
      "month 180\n",
      "month 200\n",
      "month 220\n",
      "month 240\n",
      "month 260\n",
      "month 280\n",
      "month 300\n",
      "month 320\n",
      "month 340\n",
      "month 360\n",
      "month 380\n",
      "month 400\n",
      "month 420\n",
      "month 440\n",
      "month 460\n",
      "MetUM-GA6-ENT\n",
      "month 0\n",
      "month 20\n",
      "month 40\n",
      "month 60\n",
      "month 80\n",
      "month 100\n",
      "month 120\n",
      "month 140\n",
      "month 160\n",
      "month 180\n",
      "month 200\n",
      "month 220\n",
      "month 240\n",
      "month 260\n",
      "month 280\n",
      "month 300\n",
      "month 320\n",
      "month 340\n",
      "month 360\n",
      "month 380\n",
      "month 400\n",
      "month 420\n",
      "month 440\n",
      "month 460\n",
      "NorESM2\n",
      "month 0\n",
      "month 20\n",
      "month 40\n",
      "month 60\n",
      "month 80\n",
      "month 100\n",
      "month 120\n",
      "month 140\n",
      "month 160\n",
      "month 180\n",
      "month 200\n",
      "month 220\n",
      "month 240\n",
      "month 260\n",
      "month 280\n",
      "month 300\n",
      "month 320\n",
      "month 340\n",
      "month 360\n",
      "month 380\n",
      "month 400\n",
      "month 420\n",
      "month 440\n",
      "month 460\n",
      "month 480\n"
     ]
    }
   ],
   "source": [
    "dLW_ts_dict = dict()\n",
    "ds_clim = xr.open_dataset('../nc_revised_20181130/master.nc').sel(exp='AquaControl')    \n",
    "kernel_ts = xr.open_dataset('../aquakernels_Feldl/aquakernels/lw_ts_rg.nc')\n",
    "\n",
    "#print(kernel_ts)\n",
    "\n",
    "for model in models_12:\n",
    "    print(model)\n",
    "    \n",
    "    ds_mon_ts = xr.open_dataset('nc_from_xarray/monthlyForGregAPRP_a4_rg_'+model+'.nc')\n",
    "    numMonths = len(ds_mon_ts.time)\n",
    "    \n",
    "    #Preallocate something to store the output after multiplication \n",
    "    dLW_ts_raw = np.zeros([numMonths, len(ds_mon_ts.lat), len(ds_mon_ts.lon)]) \n",
    "\n",
    "    #Loop through the months\n",
    "    for i in np.arange(numMonths):\n",
    "        if i % 20 == 0:\n",
    "            print('month '+str(i))\n",
    "            \n",
    "        #Subsets for month, etc.\n",
    "        ts_clim_i = ds_clim.sel(model=model).isel(time=i%12)['ts']\n",
    "        ts_mon_i = ds_mon_ts.isel(time=i)['ts']\n",
    "        kernel_i = kernel_ts.isel(time=i%12)['__xarray_dataarray_variable__']\n",
    "\n",
    "        #Calculate temperature difference\n",
    "        dT_i = ts_mon_i - ts_clim_i\n",
    "                \n",
    "        #Multiply by kernel\n",
    "        dLW_ts_raw[i,:,:] = dT_i*kernel_i\n",
    "        \n",
    "    #Create XArray DataArray with the result\n",
    "    dLW_ts_dict[model] = xr.DataArray(dLW_ts_raw, coords=[ds_mon_ts.time, ds_clim.lat, ds_clim.lon],  \n",
    "                                      dims=['time', 'lat', 'lon'], name='dLW')\n",
    "    \n",
    "    "
   ]
  },
  {
   "cell_type": "code",
   "execution_count": 34,
   "metadata": {},
   "outputs": [],
   "source": [
    "#Concatenate a single Dataset and save to NetCDF file\n",
    "#No, can't do that--mismatched times. \n",
    "#import pandas as pd\n",
    "#dLW_ts = xr.concat(dLW_ts_dict.values(), pd.Index(models_12))\n",
    "\n",
    "#Save individual model results to NetCDF files: (use rg tag because already on climatology grid)\n",
    "for model in models_12:\n",
    "    dLW_ts_dict[model].to_netcdf('nc_from_xarray/dLW_ts_rg_'+model+'.nc')"
   ]
  },
  {
   "cell_type": "code",
   "execution_count": null,
   "metadata": {},
   "outputs": [],
   "source": []
  },
  {
   "cell_type": "code",
   "execution_count": 43,
   "metadata": {},
   "outputs": [
    {
     "name": "stdout",
     "output_type": "stream",
     "text": [
      "0.0\n"
     ]
    }
   ],
   "source": [
    "#Check whether there are actually zero values for CNRM\n",
    "\n",
    "ds_mon_wv = xr.open_dataset(glob.glob('../nc_esgf/Amon/hus_Amon_'+\n",
    "                                      model_filenames['CNRM-AM6-DIA-v2']+'_aqua4xCO2TRACMIP_r1i1p1_*')[0])\n",
    "ds_mon_wv = ds_mon_wv.reindex(plev=ds_mon_wv.plev[::-1]) #Flip pressure levels to match the order for the other two\n",
    "testhus = ds_mon_wv['hus'].data\n",
    "print(np.min(testhus))"
   ]
  },
  {
   "cell_type": "code",
   "execution_count": 45,
   "metadata": {},
   "outputs": [
    {
     "name": "stdout",
     "output_type": "stream",
     "text": [
      "Minimum values of hus for each model in monthly output\n",
      "AM2\n",
      "4.4194218e-07\n",
      "CAM3\n",
      "3.0049796e-07\n",
      "CAM4\n",
      "8.368603e-08\n",
      "CNRM-AM6-DIA-v2\n",
      "0.0\n",
      "ECHAM-6.1\n",
      "2.7016455e-07\n",
      "ECHAM-6.3\n",
      "3.3281304e-07\n",
      "IPSL-CM5A\n",
      "nan\n"
     ]
    },
    {
     "name": "stderr",
     "output_type": "stream",
     "text": [
      "/usr/local/python/anaconda3/envs/pangeo3.7/lib/python3.6/site-packages/numpy/core/fromnumeric.py:83: RuntimeWarning: invalid value encountered in reduce\n",
      "  return ufunc.reduce(obj, axis, dtype, out, **passkwargs)\n"
     ]
    },
    {
     "name": "stdout",
     "output_type": "stream",
     "text": [
      "MIROC5\n",
      "nan\n",
      "MPAS\n",
      "6.928649e-07\n",
      "MetUM-GA6-CTL\n",
      "0.0\n",
      "MetUM-GA6-ENT\n",
      "0.0\n",
      "NorESM2\n",
      "1.6149779e-09\n"
     ]
    }
   ],
   "source": [
    "#OK, so there are indeed zero values. \n",
    "#Try all models:\n",
    "\n",
    "print('Minimum values of hus for each model in monthly output')\n",
    "for model in models_12:\n",
    "    ds_mon_wv = xr.open_dataset(glob.glob('../nc_esgf/Amon/hus_Amon_'+\n",
    "                                          model_filenames[model]+'_aqua4xCO2TRACMIP_r1i1p1_*')[0])\n",
    "    ds_mon_wv = ds_mon_wv.reindex(plev=ds_mon_wv.plev[::-1]) #Flip pressure levels to match the order for the other two\n",
    "    testhus = ds_mon_wv['hus'].data\n",
    "    print(model)\n",
    "    print(np.min(testhus))"
   ]
  },
  {
   "cell_type": "code",
   "execution_count": 46,
   "metadata": {},
   "outputs": [
    {
     "name": "stdout",
     "output_type": "stream",
     "text": [
      "(492, 17, 96, 144)\n"
     ]
    }
   ],
   "source": [
    "#OK, so CNRM has 0; MetUM models have 0; IPSL and MIROC have nans\n",
    "#I think those might just be at edges. Try again with smaller subset\n",
    "print(np.shape(testhus))"
   ]
  },
  {
   "cell_type": "code",
   "execution_count": 51,
   "metadata": {},
   "outputs": [
    {
     "name": "stdout",
     "output_type": "stream",
     "text": [
      "Minimum values of hus for each model in monthly output\n",
      "AM2\n",
      "4.4194218e-07\n",
      "CAM3\n",
      "3.0049796e-07\n",
      "CAM4\n",
      "8.368603e-08\n",
      "CNRM-AM6-DIA-v2\n",
      "0.0\n",
      "ECHAM-6.1\n",
      "2.7016455e-07\n",
      "ECHAM-6.3\n",
      "3.3281304e-07\n",
      "IPSL-CM5A\n",
      "4.0350027e-08\n",
      "MIROC5\n",
      "4.2618314e-07\n",
      "MPAS\n",
      "6.928649e-07\n",
      "MetUM-GA6-CTL\n",
      "9.3099055e-07\n",
      "MetUM-GA6-ENT\n",
      "9.507071e-07\n",
      "NorESM2\n",
      "1.6149779e-09\n"
     ]
    }
   ],
   "source": [
    "\n",
    "print('Minimum values of hus for each model in monthly output')\n",
    "for model in models_12:\n",
    "    ds_mon_wv = xr.open_dataset(glob.glob('../nc_esgf/Amon/hus_Amon_'+\n",
    "                                          model_filenames[model]+'_aqua4xCO2TRACMIP_r1i1p1_*')[0])\n",
    "    ds_mon_wv = ds_mon_wv.reindex(plev=ds_mon_wv.plev[::-1]) #Flip pressure levels to match the order for the other two\n",
    "    testhus = ds_mon_wv['hus'].data[:,:-1,:,:]\n",
    "    print(model)\n",
    "    print(np.min(testhus))\n",
    "#OK, confirmed only CNRM has zero or nan value of hus outside the lowest pressure level, which gets dropped. \n",
    "#(even NP/SP not an issue)"
   ]
  },
  {
   "cell_type": "code",
   "execution_count": null,
   "metadata": {},
   "outputs": [],
   "source": []
  }
 ],
 "metadata": {
  "kernelspec": {
   "display_name": "pangeo3.7",
   "language": "python",
   "name": "pangeo3.7"
  },
  "language_info": {
   "codemirror_mode": {
    "name": "ipython",
    "version": 3
   },
   "file_extension": ".py",
   "mimetype": "text/x-python",
   "name": "python",
   "nbconvert_exporter": "python",
   "pygments_lexer": "ipython3",
   "version": "3.6.7"
  }
 },
 "nbformat": 4,
 "nbformat_minor": 2
}
